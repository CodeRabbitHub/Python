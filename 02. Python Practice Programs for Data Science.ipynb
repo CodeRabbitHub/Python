{
 "cells": [
  {
   "cell_type": "markdown",
   "metadata": {
    "id": "JlCH6wRWRDun"
   },
   "source": [
    "# Python Practice Programs for Data Science"
   ]
  },
  {
   "cell_type": "markdown",
   "metadata": {
    "id": "8GczPdtYRDuo"
   },
   "source": [
    "**1. Python Program for n-th Fibonacci number**  \n",
    "\n",
    "In mathematical terms, the sequence Fn of Fibonacci numbers is defined by the recurrence relation  \n",
    "    $F_n = F_{n-1} + F_{n-2}  $\n",
    "with seed values  \n",
    "    $F_0 = 0$  &  $F_1 = 1. $ "
   ]
  },
  {
   "cell_type": "code",
   "execution_count": 1,
   "metadata": {
    "id": "KK4zka7hRDup"
   },
   "outputs": [],
   "source": [
    "def fibonacci(n):\n",
    "    if n<=0:\n",
    "        print(\"incorrect input\")\n",
    "    elif n==1:\n",
    "        return 0\n",
    "    elif n==2:\n",
    "        return 1\n",
    "    else:\n",
    "        return fibonacci(n-1)+fibonacci(n-2)"
   ]
  },
  {
   "cell_type": "code",
   "execution_count": 2,
   "metadata": {
    "id": "3-NNS1F-RDup",
    "outputId": "43359dff-ae40-40ac-c816-eefe85fdb59f"
   },
   "outputs": [
    {
     "name": "stdout",
     "output_type": "stream",
     "text": [
      "2\n"
     ]
    }
   ],
   "source": [
    "print(fibonacci(4))"
   ]
  },
  {
   "cell_type": "markdown",
   "metadata": {
    "id": "1GnEAS0-RDuq"
   },
   "source": [
    "Sum till nth fibonacci $ S_n = F_{n+2}-1$"
   ]
  },
  {
   "cell_type": "code",
   "execution_count": 3,
   "metadata": {
    "id": "xIcsNaI5RDuq"
   },
   "outputs": [],
   "source": [
    "def sumFib(n:int):\n",
    "    return fibonacci(n + 2) -1"
   ]
  },
  {
   "cell_type": "code",
   "execution_count": 4,
   "metadata": {
    "id": "_LGusOWyRDuq",
    "outputId": "e5988714-efc6-4be2-ed40-75169732f14a"
   },
   "outputs": [
    {
     "data": {
      "text/plain": [
       "54"
      ]
     },
     "execution_count": 4,
     "metadata": {},
     "output_type": "execute_result"
    }
   ],
   "source": [
    "sumFib(9)"
   ]
  },
  {
   "cell_type": "markdown",
   "metadata": {
    "id": "W3xQS4gnRDur"
   },
   "source": [
    "**2. Two Number Sum**  \n",
    "Given an array A[] and a number x, check for pair in A[] with sum as x"
   ]
  },
  {
   "cell_type": "code",
   "execution_count": 5,
   "metadata": {
    "id": "JH7PZykxRDur"
   },
   "outputs": [],
   "source": [
    "def pair(array,x):\n",
    "    result = []\n",
    "    for i in range(0, len(array)-1):\n",
    "        a = array[i]\n",
    "        b = x - a\n",
    "        array_2 = array[i+1:len(array)]\n",
    "        if b in array_2:\n",
    "            result.append(a)\n",
    "            result.append(b)\n",
    "    return sorted(result)"
   ]
  },
  {
   "cell_type": "code",
   "execution_count": 6,
   "metadata": {
    "id": "nySyVeubRDur",
    "outputId": "06173406-369f-4ed7-9535-e8b4ad0ed991"
   },
   "outputs": [
    {
     "name": "stdout",
     "output_type": "stream",
     "text": [
      "[-1, 4, 5, 5, 6, 11]\n"
     ]
    }
   ],
   "source": [
    "print(pair([5, 3, 5, -4, 8, 11, -1, 1, 6, 4], 10))"
   ]
  },
  {
   "cell_type": "markdown",
   "metadata": {
    "id": "-Zp7WsZxRDur"
   },
   "source": [
    "**3. Given a string s and a string t, check if s is subsequence of t.**  \n",
    "\n",
    "A subsequence of a string is a new string which is formed from the original string by deleting some (can be none) of the characters without disturbing the relative positions of the remaining characters. (ie, \"ace\" is a subsequence of \"abcde\" while \"aec\" is not)."
   ]
  },
  {
   "cell_type": "code",
   "execution_count": 7,
   "metadata": {
    "id": "KvzSxzOHRDus"
   },
   "outputs": [],
   "source": [
    "def isSubSequence(str1,str2): \n",
    "    m = len(str1) \n",
    "    n = len(str2) \n",
    "      \n",
    "    j = 0    # Index of str1 \n",
    "    i = 0    # Index of str2 \n",
    "      \n",
    "    # Traverse both str1 and str2 \n",
    "    # Compare current character of str2 with  \n",
    "    # first unmatched character of str1 \n",
    "    # If matched, then move ahead in str1 \n",
    "      \n",
    "    while j<m and i<n: \n",
    "        if str1[j] == str2[i]:     \n",
    "            j = j+1    \n",
    "        i = i + 1\n",
    "          \n",
    "    # If all characters of str1 matched, then j is equal to m \n",
    "    return j==m "
   ]
  },
  {
   "cell_type": "code",
   "execution_count": 8,
   "metadata": {
    "id": "NJbwf9k8RDus",
    "outputId": "fe5eb78d-bb75-464d-af0f-8290e0f2339e"
   },
   "outputs": [
    {
     "name": "stdout",
     "output_type": "stream",
     "text": [
      "Yes\n"
     ]
    }
   ],
   "source": [
    "str1 = \"AXY\"\n",
    "str2 = \"ADXU3IOCPY\"\n",
    "  \n",
    "if isSubSequence(str1, str2): \n",
    "    print(\"Yes\")\n",
    "else: \n",
    "    print(\"No\")"
   ]
  },
  {
   "cell_type": "markdown",
   "metadata": {
    "id": "kGdwI5hnRDus"
   },
   "source": [
    "**4. Product Sum**\n",
    "\n",
    "Write a function that takes in a \"special\" array and returns its product sum. A \"special\" array is a non-empty array that contains either integers or other \"special\" arrays. The product sum of a \"special\" array is the sum of its elements, where \"special\" arrays inside it are summed themselves and then multiplied by their level of depth.\n",
    "For example, the product sum of [x, y] is x + y ; the product sum of [x, [y, z]] is x + 2y + 2z .  \n",
    "Input : array = [5, 2, [7, -1], 3, [6, [-13, 8], 4]]  \n",
    "Output : 12  \n",
    "Explanation : Calculated as : 5 + 2 + 2 * (7 - 1) + 3 + 2 * (6 + 3 * (-13 + 8) + 4)  "
   ]
  },
  {
   "cell_type": "code",
   "execution_count": 9,
   "metadata": {
    "id": "NhEIKiECRDut"
   },
   "outputs": [],
   "source": [
    "def productSum(array, multiplier = 1):\n",
    "    sumProd = 0\n",
    "    for element in array:\n",
    "        if type(element) is list:\n",
    "            sumProd += productSum(element, multiplier + 1)\n",
    "        else:\n",
    "            sumProd += element\n",
    "    return sumProd * multiplier"
   ]
  },
  {
   "cell_type": "code",
   "execution_count": 10,
   "metadata": {
    "id": "X5JQVgmDRDut",
    "outputId": "d2303c3b-adbf-48cc-a8b4-072ec347ca54"
   },
   "outputs": [
    {
     "data": {
      "text/plain": [
       "12"
      ]
     },
     "execution_count": 10,
     "metadata": {},
     "output_type": "execute_result"
    }
   ],
   "source": [
    "productSum([5, 2, [7, -1], 3, [6, [-13, 8], 4]])"
   ]
  },
  {
   "cell_type": "markdown",
   "metadata": {
    "id": "YRmVL8TKRDut"
   },
   "source": [
    "**5. Sum of the products of all possible Subsets**  \n",
    "Given an array of n non-negative integers. The task is to find the sum of the product of elements of all the possible subsets. It may be assumed that the numbers in subsets are small and computing product doesn’t cause arithmetic overflow.\n",
    "\n",
    "Input : arr[] = {1, 2, 3}\n",
    "Output : 23\n",
    "Possible Subset are: 1, 2, 3, {1, 2}, {1, 3}, \n",
    "                     {2, 3}, {1, 2, 3}\n",
    "Products of elements in above subsets :\n",
    "1, 2, 3, 2, 3, 6, 6\n",
    "Sum of all products = 1 + 2 + 3 + 2 + 3 + 6 + 6 \n",
    "                    = 23\n",
    "\n",
    "An Efficient approach is to generalize the whole problem into some pattern. Suppose we have two numbers a and b. We can write all possible subset products as   \n",
    "   = a + b + ab   \n",
    "   = a(1+b) + b + 1 - 1  \n",
    "   = a(1+b) + (1+b) - 1  \n",
    "   = (a + 1) * (b + 1) - 1  \n",
    "   = (1+a) * (1 + b) - 1  \n",
    "   \n",
    "   = a + b + c + ab + bc + ca + abc   \n",
    "   = a + ac + b + bc + ab + abc + c + 1 - 1  \n",
    "   = a(1+c) + b(1+c) + ab(1+c) + c + 1 - 1  \n",
    "   = (a + b + ab + 1)(1+c) - 1   \n",
    "   = (1+a) * (1+b) * (1+c) - 1    "
   ]
  },
  {
   "cell_type": "code",
   "execution_count": 11,
   "metadata": {
    "id": "tmK0rYvORDuu"
   },
   "outputs": [],
   "source": [
    "def productOfSubsetSums(arr, n): \n",
    "    ans = 1; \n",
    "    for i in range(0,n): \n",
    "        ans = ans * (arr[i] + 1) \n",
    "    return ans-1"
   ]
  },
  {
   "cell_type": "code",
   "execution_count": 12,
   "metadata": {
    "id": "nQnu-6OHRDuu",
    "outputId": "df7e782f-3dbc-470b-8022-badd604d44c1"
   },
   "outputs": [
    {
     "name": "stdout",
     "output_type": "stream",
     "text": [
      "119\n"
     ]
    }
   ],
   "source": [
    "arr = [1, 2, 3, 4] \n",
    "n = len(arr) \n",
    "  \n",
    "print (productOfSubsetSums(arr, n))"
   ]
  },
  {
   "cell_type": "markdown",
   "metadata": {
    "id": "SOxZOZP7RDuu"
   },
   "source": [
    "**6. Python program to find powerset**  \n",
    "Power Set Power set P(S) of a set S is the set of all subsets of S. For example S = {a, b, c} then P(s) = {{}, {a}, {b}, {c}, {a,b}, {a, c}, {b, c}, {a, b, c}}."
   ]
  },
  {
   "cell_type": "code",
   "execution_count": 13,
   "metadata": {
    "id": "FHUMYEVyRDuu"
   },
   "outputs": [],
   "source": [
    "from itertools import combinations \n",
    "def print_powerset(string): \n",
    "    for i in range(0,len(string)+1): \n",
    "        for element in combinations(string,i): \n",
    "            print(''.join(element))"
   ]
  },
  {
   "cell_type": "code",
   "execution_count": 14,
   "metadata": {
    "id": "RiWO-pxERDuu",
    "outputId": "25484ed8-55f9-4528-c532-bd7af9e50eb2"
   },
   "outputs": [
    {
     "name": "stdout",
     "output_type": "stream",
     "text": [
      "\n",
      "a\n",
      "b\n",
      "c\n",
      "ab\n",
      "ac\n",
      "bc\n",
      "abc\n"
     ]
    }
   ],
   "source": [
    "string=['a','b','c'] \n",
    "print_powerset(string)"
   ]
  },
  {
   "cell_type": "markdown",
   "metadata": {
    "id": "L2GOTo3jRDuv"
   },
   "source": [
    "**7. Check if number is Palindrome**"
   ]
  },
  {
   "cell_type": "code",
   "execution_count": 15,
   "metadata": {
    "id": "nsRz_UGmRDuv"
   },
   "outputs": [],
   "source": [
    "def palindrome(n):\n",
    "    return True if str(n) == str(n)[::-1] else False"
   ]
  },
  {
   "cell_type": "code",
   "execution_count": 16,
   "metadata": {
    "id": "ZSOkvLDRRDuv",
    "outputId": "ce61237d-cf17-465a-d4ae-a34e11654f44"
   },
   "outputs": [
    {
     "data": {
      "text/plain": [
       "False"
      ]
     },
     "execution_count": 16,
     "metadata": {},
     "output_type": "execute_result"
    }
   ],
   "source": [
    "palindrome(44414)"
   ]
  },
  {
   "cell_type": "markdown",
   "metadata": {
    "id": "TehMXNnuRDuv"
   },
   "source": [
    "**8. Caesar Cipher in Cryptography**\n",
    "\n",
    "Algorithm for Caesar Cipher:  \n",
    "\n",
    "Input:\n",
    "\n",
    "+ A String of lower case letters, called Text.\n",
    "+ An Integer between 0-25 denoting the required shift.\n",
    "\n",
    "Procedure:\n",
    "\n",
    "+ Traverse the given text one character at a time .\n",
    "+ For each character, transform the given character as per the rule, depending on whether we’re encrypting or decrypting the text. \n",
    "+ Return the new string generated."
   ]
  },
  {
   "cell_type": "code",
   "execution_count": 17,
   "metadata": {
    "id": "zJ7eqz0YRDuv"
   },
   "outputs": [],
   "source": [
    "def encrypt(text,s): \n",
    "    result = \"\" \n",
    "  \n",
    "    # traverse text \n",
    "    for i in range(len(text)): \n",
    "        char = text[i] \n",
    "  \n",
    "        # Encrypt uppercase characters \n",
    "        if (char.isupper()): \n",
    "            result += chr((ord(char) + s - 65) % 26 + 65) \n",
    "  \n",
    "        # Encrypt lowercase characters \n",
    "        else: \n",
    "            result += chr((ord(char) + s - 97) % 26 + 97) \n",
    "  \n",
    "    return result"
   ]
  },
  {
   "cell_type": "code",
   "execution_count": 18,
   "metadata": {
    "id": "Gy1Qax4RRDuw",
    "outputId": "b2236c75-f81b-4635-e2a7-4c4e7070ab42"
   },
   "outputs": [
    {
     "name": "stdout",
     "output_type": "stream",
     "text": [
      "Text  : ATTACKATONCE\n",
      "Shift : 4\n",
      "Cipher: EXXEGOEXSRGI\n"
     ]
    }
   ],
   "source": [
    "text = \"ATTACKATONCE\"\n",
    "s = 4\n",
    "print (\"Text  : \" + text)\n",
    "print (\"Shift : \" + str(s))\n",
    "print (\"Cipher: \" + encrypt(text,s))"
   ]
  },
  {
   "cell_type": "markdown",
   "metadata": {
    "id": "KSw9dUNPRDuw"
   },
   "source": [
    "**9. Binary Search**  \n",
    "\n",
    "Python Program for recursive binary search. Returns index of x in arr if present, else -1."
   ]
  },
  {
   "cell_type": "code",
   "execution_count": 19,
   "metadata": {
    "id": "TRhwyjKqRDuw"
   },
   "outputs": [],
   "source": [
    "def binarySearch (arr, l, r , x): \n",
    "  \n",
    "    # Check base case \n",
    "    if r >= l: \n",
    "  \n",
    "        mid = l + (r - l) // 2\n",
    "  \n",
    "        # If element is present at the middle itself \n",
    "        if arr[mid] == x: \n",
    "            return mid \n",
    "          \n",
    "        # If element is smaller than mid, then it  \n",
    "        # can only be present in left subarray \n",
    "        elif arr[mid] > x: \n",
    "            return binarySearch(arr, l, mid-1, x) \n",
    "  \n",
    "        # Else the element can only be present  \n",
    "        # in right subarray \n",
    "        else: \n",
    "            return binarySearch(arr, mid + 1, r, x) \n",
    "  \n",
    "    else: \n",
    "        # Element is not present in the array \n",
    "        return -1"
   ]
  },
  {
   "cell_type": "code",
   "execution_count": 20,
   "metadata": {
    "id": "7aMp603XRDuw",
    "outputId": "761a3412-69cd-42bd-d354-08f767e3bb54"
   },
   "outputs": [
    {
     "name": "stdout",
     "output_type": "stream",
     "text": [
      "Element is present at index  3\n"
     ]
    }
   ],
   "source": [
    "# Driver Code \n",
    "arr = [ 2, 3, 4, 10, 40 ] \n",
    "x = 10\n",
    "  \n",
    "# Function call \n",
    "result = binarySearch(arr, 0, len(arr)-1, x) \n",
    "  \n",
    "if result != -1: \n",
    "    print (\"Element is present at index % d\" % result) \n",
    "else: \n",
    "    print (\"Element is not present in array\") "
   ]
  },
  {
   "cell_type": "markdown",
   "metadata": {
    "id": "zAbSOI8WRDuw"
   },
   "source": [
    "**10. Generate Pythagorean Triplets**\n",
    "\n",
    "Efficient way to generate pythagorean triplets $a^2 + b^2 = c^2$\n",
    "\n",
    "+ $a = m^2 - n^2$\n",
    "+ $b = 2 * m * n$\n",
    "+ $c  = m^2 + n^2$\n",
    "\n",
    "because,  \n",
    "\n",
    "+ $a^2 = m^4 + n^4 – 2 * m^2 * n^2$\n",
    "+ $b^2 = 4 * m^2 * n^2$\n",
    "+ $c^2 = m^4 + n^4 + 2* m^2 * n^2$\n"
   ]
  },
  {
   "cell_type": "code",
   "execution_count": 21,
   "metadata": {
    "id": "dWXJHEs7RDux"
   },
   "outputs": [],
   "source": [
    "def pythagoreanTriplets(limits) : \n",
    "    c, m = 0, 2\n",
    "  \n",
    "    while c < limits : \n",
    "          \n",
    "        for n in range(1, m): \n",
    "            a = m * m - n * n \n",
    "            b = 2 * m * n \n",
    "            c = m * m + n * n\n",
    "        \n",
    "            if c > limits : \n",
    "                break\n",
    "                \n",
    "            print(a, b, c) \n",
    "  \n",
    "        m = m + 1"
   ]
  },
  {
   "cell_type": "code",
   "execution_count": 22,
   "metadata": {
    "id": "3790zYjfRDux",
    "outputId": "b58725c5-b9d6-4b28-f88f-93654667f6c0"
   },
   "outputs": [
    {
     "name": "stdout",
     "output_type": "stream",
     "text": [
      "3 4 5\n",
      "8 6 10\n",
      "5 12 13\n",
      "15 8 17\n",
      "12 16 20\n"
     ]
    }
   ],
   "source": [
    "pythagoreanTriplets(20)"
   ]
  },
  {
   "cell_type": "markdown",
   "metadata": {
    "id": "FNpCyr4iRDux"
   },
   "source": [
    "**11. Average Length of words**"
   ]
  },
  {
   "cell_type": "code",
   "execution_count": 23,
   "metadata": {
    "id": "VMdA5WPtRDux",
    "outputId": "a381b9a4-c126-4351-bc00-0282e0e4b59c"
   },
   "outputs": [
    {
     "name": "stdout",
     "output_type": "stream",
     "text": [
      "4.2\n",
      "4.08\n"
     ]
    }
   ],
   "source": [
    "# For a given sentence, return the average word length. \n",
    "# Note: Remember to remove punctuation first.\n",
    "\n",
    "sentence1 = \"Hi all, my name is Tom...I am originally from Australia.\"\n",
    "sentence2 = \"I need to work very hard to learn more about algorithms in Python!\"\n",
    "\n",
    "def solution(sentence):\n",
    "    for p in \"!?',;.\":\n",
    "        sentence = sentence.replace(p, '')\n",
    "    words = sentence.split()\n",
    "    return round(sum(len(word) for word in words)/len(words),2)\n",
    "    \n",
    "print(solution(sentence1))\n",
    "print(solution(sentence2))"
   ]
  },
  {
   "cell_type": "markdown",
   "metadata": {
    "id": "dSjPTv62RDuy"
   },
   "source": [
    "**12. String Reversal**  \n",
    "\n",
    "Reverse the String “ “the fox jumps over the lazy dog”"
   ]
  },
  {
   "cell_type": "code",
   "execution_count": 24,
   "metadata": {
    "id": "L3ILxdOBRDuy",
    "outputId": "50bf5653-64aa-417b-89c1-77b81570abbb"
   },
   "outputs": [
    {
     "data": {
      "text/plain": [
       "'god yzal eht revo spmuj xof eht'"
      ]
     },
     "execution_count": 24,
     "metadata": {},
     "output_type": "execute_result"
    }
   ],
   "source": [
    "a = \"the fox jumps over the lazy dog\"\n",
    "a[::-1]"
   ]
  },
  {
   "cell_type": "code",
   "execution_count": 25,
   "metadata": {
    "id": "q-z4etMqRDuy",
    "outputId": "f83fad04-e3e7-43e8-8da7-1a16b160054f"
   },
   "outputs": [
    {
     "data": {
      "text/plain": [
       "['the', 'fox', 'jumps', 'over', 'the', 'lazy', 'dog']"
      ]
     },
     "execution_count": 25,
     "metadata": {},
     "output_type": "execute_result"
    }
   ],
   "source": [
    "b = a.split()\n",
    "b"
   ]
  },
  {
   "cell_type": "code",
   "execution_count": 26,
   "metadata": {
    "id": "2YWxK8TSRDuz",
    "outputId": "6c3c3b6b-60af-4699-aa9e-98b232083eec"
   },
   "outputs": [
    {
     "data": {
      "text/plain": [
       "['dog', 'lazy', 'the', 'over', 'jumps', 'fox', 'the']"
      ]
     },
     "execution_count": 26,
     "metadata": {},
     "output_type": "execute_result"
    }
   ],
   "source": [
    "c = b[::-1]\n",
    "c"
   ]
  },
  {
   "cell_type": "code",
   "execution_count": 27,
   "metadata": {
    "id": "5j6cBa6GRDuz",
    "outputId": "fd5cb360-75e6-4ce0-b514-3b88033fc328"
   },
   "outputs": [
    {
     "data": {
      "text/plain": [
       "'dog lazy the over jumps fox the'"
      ]
     },
     "execution_count": 27,
     "metadata": {},
     "output_type": "execute_result"
    }
   ],
   "source": [
    "\" \".join(c)"
   ]
  },
  {
   "cell_type": "markdown",
   "metadata": {
    "id": "rgZQUZT4RDuz"
   },
   "source": [
    "Identity all words that are **palindromes** in the following sentence - “Lol, this is a gag, I didn’t laugh so much in a long time”"
   ]
  },
  {
   "cell_type": "code",
   "execution_count": 28,
   "metadata": {
    "id": "HeehklrbRDuz"
   },
   "outputs": [],
   "source": [
    "sentence = \"Lol, this is a gag, I didn’t laugh so much in a long time\""
   ]
  },
  {
   "cell_type": "code",
   "execution_count": 29,
   "metadata": {
    "id": "4lsBkL0SRDuz"
   },
   "outputs": [],
   "source": [
    "a = sentence.replace(\",\", \"\").lower() # data cleaning"
   ]
  },
  {
   "cell_type": "code",
   "execution_count": 30,
   "metadata": {
    "id": "V-E8nao-RDuz"
   },
   "outputs": [],
   "source": [
    "split = a.split()"
   ]
  },
  {
   "cell_type": "code",
   "execution_count": 31,
   "metadata": {
    "id": "ejPyezQYRDu0"
   },
   "outputs": [],
   "source": [
    "def palindrome(word):\n",
    "    if word == word[::-1]:\n",
    "        return True\n",
    "    else: False"
   ]
  },
  {
   "cell_type": "code",
   "execution_count": 32,
   "metadata": {
    "id": "3O9TxUpbRDu0"
   },
   "outputs": [],
   "source": [
    "Palindromes = [word for word in split if palindrome(word) and word != \"\"]"
   ]
  },
  {
   "cell_type": "code",
   "execution_count": 33,
   "metadata": {
    "id": "MlTJZdOsRDu0",
    "outputId": "8768d825-cbff-4c94-a934-0a46d402d5b6"
   },
   "outputs": [
    {
     "data": {
      "text/plain": [
       "['lol', 'a', 'gag', 'i', 'a']"
      ]
     },
     "execution_count": 33,
     "metadata": {},
     "output_type": "execute_result"
    }
   ],
   "source": [
    "Palindromes"
   ]
  },
  {
   "cell_type": "markdown",
   "metadata": {
    "id": "E2HUWUuqRDu0"
   },
   "source": [
    "**13. First Duplicate word**  \n",
    "Given a string find the first duplicate word, example string: “this is just a wonder, wonder why do I have this in mind”"
   ]
  },
  {
   "cell_type": "code",
   "execution_count": 34,
   "metadata": {
    "id": "225NIlC7RDu0"
   },
   "outputs": [],
   "source": [
    "string = \"this is just a wonder, wonder why do I have this in mind\""
   ]
  },
  {
   "cell_type": "code",
   "execution_count": 35,
   "metadata": {
    "id": "dujQ3obLRDu1"
   },
   "outputs": [],
   "source": [
    "import re\n",
    "\n",
    "def duplicate(sentence):\n",
    "    cleanStr = re.sub(\"[^a-zA-Z -]\", \"\", string)\n",
    "    words = cleanStr.lower().split(\" \")\n",
    "    seen_words = set()\n",
    "    for word in words:\n",
    "        if word in seen_words:\n",
    "            return word\n",
    "        else:\n",
    "            seen_words.add(word)\n",
    "    return None"
   ]
  },
  {
   "cell_type": "code",
   "execution_count": 36,
   "metadata": {
    "id": "YwjSRqZtRDu1",
    "outputId": "ccffc458-9fb1-4a8e-cb9b-24b88bb33512"
   },
   "outputs": [
    {
     "data": {
      "text/plain": [
       "'wonder'"
      ]
     },
     "execution_count": 36,
     "metadata": {},
     "output_type": "execute_result"
    }
   ],
   "source": [
    "duplicate(string)"
   ]
  },
  {
   "cell_type": "markdown",
   "metadata": {
    "id": "Ppw-gDQrRDu1"
   },
   "source": [
    "What if we wanted to find the first word with more than 2 duplicates in a string?"
   ]
  },
  {
   "cell_type": "code",
   "execution_count": 37,
   "metadata": {
    "id": "prbZLmhLRDu1"
   },
   "outputs": [],
   "source": [
    "from collections import Counter\n",
    "\n",
    "def first2timesduplicate(string):\n",
    "    import re\n",
    "    cleanStr = re.sub(\"[^a-zA-Z -]\", \"\", string)\n",
    "    words = cleanStr.lower().split(\" \")\n",
    "    count = Counter(words)\n",
    "    for word in words:\n",
    "        if count[word]>=2:\n",
    "            print(word)\n",
    "            return"
   ]
  },
  {
   "cell_type": "code",
   "execution_count": 38,
   "metadata": {
    "id": "xsejhu65RDu1",
    "outputId": "6471707b-65cc-4fea-d614-9391feb3caa1"
   },
   "outputs": [
    {
     "name": "stdout",
     "output_type": "stream",
     "text": [
      "this\n"
     ]
    }
   ],
   "source": [
    "first2timesduplicate(string)"
   ]
  },
  {
   "cell_type": "markdown",
   "metadata": {
    "id": "3elpqzYdRDu1"
   },
   "source": [
    "**14. Replicate the sum for any number of variables**"
   ]
  },
  {
   "cell_type": "code",
   "execution_count": 39,
   "metadata": {
    "id": "ElACBY86RDu2"
   },
   "outputs": [],
   "source": [
    "def Sum(*args):\n",
    "    val = 0\n",
    "    for arg in args:\n",
    "        val += arg\n",
    "    return val"
   ]
  },
  {
   "cell_type": "code",
   "execution_count": 40,
   "metadata": {
    "id": "gGnhQgsARDu2",
    "outputId": "90db2270-11be-4473-95e5-0bcb1aff4dc4"
   },
   "outputs": [
    {
     "data": {
      "text/plain": [
       "15"
      ]
     },
     "execution_count": 40,
     "metadata": {},
     "output_type": "execute_result"
    }
   ],
   "source": [
    "Sum(1,2,3,4,5)"
   ]
  },
  {
   "cell_type": "markdown",
   "metadata": {
    "id": "YLPLAcJ7RDu2"
   },
   "source": [
    "**15. FizzBuzz**\n",
    "\n",
    "Given and array of numbers\n",
    "\n",
    "+ Replace all integers that are evenly divisible by 3 with \"fizz\"\n",
    "+ Replace all integers divisible by 5 with \"buzz\"\n",
    "+ Replace all integers divisible by both 3 and 5 with \"fizzbuzz\""
   ]
  },
  {
   "cell_type": "code",
   "execution_count": 41,
   "metadata": {
    "id": "iUz5dJH2RDu2"
   },
   "outputs": [],
   "source": [
    "numbers = [45, 22, 14, 65, 97, 72]\n",
    "\n",
    "def fizzbuzz(array):\n",
    "    for i, num in enumerate(array):\n",
    "        if num % 3 == 0 and num % 5 == 0:\n",
    "            numbers[i] = 'fizzbuzz'\n",
    "        elif num % 3 == 0:\n",
    "            numbers[i] = 'fizz'\n",
    "        elif num % 5 == 0:\n",
    "            numbers[i] = 'buzz'\n",
    "            \n",
    "    return array"
   ]
  },
  {
   "cell_type": "code",
   "execution_count": 42,
   "metadata": {
    "id": "GpZqfzInRDu2",
    "outputId": "330afbf6-cbcb-4d36-aff5-3bf4c96783dd"
   },
   "outputs": [
    {
     "data": {
      "text/plain": [
       "['fizzbuzz', 22, 14, 'buzz', 97, 'fizz']"
      ]
     },
     "execution_count": 42,
     "metadata": {},
     "output_type": "execute_result"
    }
   ],
   "source": [
    "fizzbuzz(numbers)"
   ]
  },
  {
   "cell_type": "markdown",
   "metadata": {
    "id": "95iUqX5rRDu2"
   },
   "source": [
    "**16. List Comprehension Example**"
   ]
  },
  {
   "cell_type": "code",
   "execution_count": 43,
   "metadata": {
    "id": "PxL-jdwfRDu3",
    "outputId": "d5fa1189-3a07-44bc-ef47-0b286eca98ba"
   },
   "outputs": [
    {
     "data": {
      "text/plain": [
       "[16, 4, 1, 36, 81, 49]"
      ]
     },
     "execution_count": 43,
     "metadata": {},
     "output_type": "execute_result"
    }
   ],
   "source": [
    "numbers = [4, 2, 1, 6, 9, 7]\n",
    "\n",
    "[x*x for x in numbers]"
   ]
  },
  {
   "cell_type": "code",
   "execution_count": 44,
   "metadata": {
    "id": "GU_2hAs2RDu3",
    "outputId": "9750daf3-cfa3-4e58-b978-280afb48ac9e"
   },
   "outputs": [
    {
     "data": {
      "text/plain": [
       "[1, 9, 7]"
      ]
     },
     "execution_count": 44,
     "metadata": {},
     "output_type": "execute_result"
    }
   ],
   "source": [
    "[x for x in numbers if x%2]"
   ]
  },
  {
   "cell_type": "markdown",
   "metadata": {
    "id": "_KUNl7iGRDu3"
   },
   "source": [
    "**17. Permutation and Combinations**"
   ]
  },
  {
   "cell_type": "code",
   "execution_count": 45,
   "metadata": {
    "id": "ygJ8wuXbRDu3",
    "outputId": "1936d0e4-a537-4233-c81b-0dbabfe45741"
   },
   "outputs": [
    {
     "data": {
      "text/plain": [
       "[('Monique', 'Ashish'),\n",
       " ('Monique', 'Devon'),\n",
       " ('Monique', 'Bernie'),\n",
       " ('Ashish', 'Monique'),\n",
       " ('Ashish', 'Devon'),\n",
       " ('Ashish', 'Bernie'),\n",
       " ('Devon', 'Monique'),\n",
       " ('Devon', 'Ashish'),\n",
       " ('Devon', 'Bernie'),\n",
       " ('Bernie', 'Monique'),\n",
       " ('Bernie', 'Ashish'),\n",
       " ('Bernie', 'Devon')]"
      ]
     },
     "execution_count": 45,
     "metadata": {},
     "output_type": "execute_result"
    }
   ],
   "source": [
    "import itertools\n",
    "friends = ['Monique', 'Ashish', 'Devon', 'Bernie']\n",
    "list(itertools.permutations(friends, r=2))"
   ]
  },
  {
   "cell_type": "code",
   "execution_count": 46,
   "metadata": {
    "id": "zaG3WYemRDu3",
    "outputId": "a3722875-3e51-4155-b01d-bc55bbff9265"
   },
   "outputs": [
    {
     "data": {
      "text/plain": [
       "[('Monique', 'Ashish'),\n",
       " ('Monique', 'Devon'),\n",
       " ('Monique', 'Bernie'),\n",
       " ('Ashish', 'Devon'),\n",
       " ('Ashish', 'Bernie'),\n",
       " ('Devon', 'Bernie')]"
      ]
     },
     "execution_count": 46,
     "metadata": {},
     "output_type": "execute_result"
    }
   ],
   "source": [
    "list(itertools.combinations(friends, r=2))"
   ]
  },
  {
   "cell_type": "markdown",
   "metadata": {
    "id": "qEin6U1FRDu3"
   },
   "source": [
    "**18. Find subarray with given sum (with Nonnegative & Negative Numbers)**"
   ]
  },
  {
   "cell_type": "code",
   "execution_count": 47,
   "metadata": {
    "id": "wYrRLrz-RDu4"
   },
   "outputs": [],
   "source": [
    "def subArraySum(arr, n, Sum): \n",
    "      \n",
    "    # Initialize curr_sum as value of first element and starting point as 0  \n",
    "    curr_sum = arr[0] \n",
    "    start = 0\n",
    "  \n",
    "    # Add elements one by one to curr_sum and if the curr_sum exceeds the sum, then remove starting element  \n",
    "    i = 1\n",
    "    while i <= n: \n",
    "          \n",
    "        # If curr_sum exceeds the sum, then remove the starting elements \n",
    "        while curr_sum > Sum and start < i-1: \n",
    "          \n",
    "            curr_sum = curr_sum - arr[start] \n",
    "            start += 1\n",
    "              \n",
    "        # If curr_sum becomes equal to sum, thenreturn true \n",
    "        if curr_sum == Sum: \n",
    "            print (\"Sum found between indexes\") \n",
    "            print (\"% d and % d\"%(start, i-1)) \n",
    "            return 1\n",
    "  \n",
    "        # Add this element to curr_sum \n",
    "        if i < n: \n",
    "            curr_sum = curr_sum + arr[i] \n",
    "        i += 1\n",
    "   \n",
    "    # If we reach here, then no subarray \n",
    "    print (\"No subarray found\") \n",
    "    return 0"
   ]
  },
  {
   "cell_type": "code",
   "execution_count": 48,
   "metadata": {
    "id": "l2OKfhGARDu4",
    "outputId": "681aab1e-ee1d-4933-e107-1af4bf5ad6c5"
   },
   "outputs": [
    {
     "name": "stdout",
     "output_type": "stream",
     "text": [
      "Sum found between indexes\n",
      " 1 and  4\n"
     ]
    },
    {
     "data": {
      "text/plain": [
       "1"
      ]
     },
     "execution_count": 48,
     "metadata": {},
     "output_type": "execute_result"
    }
   ],
   "source": [
    "arr = [15, 2, 4, 8, 9, 5, 10, 23] \n",
    "n = len(arr) \n",
    "Sum = 23\n",
    "subArraySum(arr, n, Sum)"
   ]
  },
  {
   "cell_type": "code",
   "execution_count": 49,
   "metadata": {
    "id": "dwcbbz_tRDu4"
   },
   "outputs": [],
   "source": [
    "def subArraySum(arr, n, Sum):  \n",
    "   \n",
    "    # create an empty map  \n",
    "    Map = {}  \n",
    "    \n",
    "    # Maintains sum of elements so far  \n",
    "    curr_sum = 0 \n",
    "    \n",
    "    for i in range(0,n):  \n",
    "       \n",
    "        # add current element to curr_sum  \n",
    "        curr_sum = curr_sum + arr[i]  \n",
    "    \n",
    "        # if curr_sum is equal to target sum we found a subarray starting from index 0 and ending at index i  \n",
    "        if curr_sum == Sum:  \n",
    "           \n",
    "            print(\"Sum found between indexes 0 to\", i) \n",
    "            return \n",
    "           \n",
    "    \n",
    "        # If curr_sum - sum already exists in map we have found a subarray with target sum  \n",
    "        if (curr_sum - Sum) in Map:  \n",
    "           \n",
    "            print(\"Sum found between indexes\", Map[curr_sum - Sum] + 1, \"to\", i)  \n",
    "              \n",
    "            return \n",
    "    \n",
    "        Map[curr_sum] = i  \n",
    "    \n",
    "    # If we reach here, then no subarray exists  \n",
    "    print(\"No subarray with given sum exists\")"
   ]
  },
  {
   "cell_type": "code",
   "execution_count": 50,
   "metadata": {
    "id": "fsMBv8LrRDu4",
    "outputId": "9e35b77a-576a-4bbc-96a2-e685dc337dcc"
   },
   "outputs": [
    {
     "name": "stdout",
     "output_type": "stream",
     "text": [
      "Sum found between indexes 0 to 3\n"
     ]
    }
   ],
   "source": [
    "arr = [10, 2, -2, -20, 10]  \n",
    "n = len(arr)  \n",
    "Sum = -10 \n",
    "    \n",
    "subArraySum(arr, n, Sum)"
   ]
  },
  {
   "cell_type": "markdown",
   "metadata": {
    "id": "Qse2g4FuRDu5"
   },
   "source": [
    "**19. Largest Sum Contiguous Subarray**\n",
    "\n",
    "Write an efficient program to find the sum of contiguous subarray within a one-dimensional array of numbers which has the largest sum."
   ]
  },
  {
   "cell_type": "markdown",
   "metadata": {
    "id": "Oaoukl8WRDu5"
   },
   "source": [
    "Kadane’s Algorithm\n",
    "```\n",
    "Initialize:  \n",
    "    max_so_far = 0  \n",
    "    max_ending_here = 0  \n",
    "\n",
    "Loop for each element of the array  \n",
    "  (a) max_ending_here = max_ending_here + a[i]  \n",
    "  (b) if(max_so_far < max_ending_here)  \n",
    "          max_so_far = max_ending_here  \n",
    "  (c) if(max_ending_here < 0)  \n",
    "            max_ending_here = 0  \n",
    "return max_so_far \n",
    "```"
   ]
  },
  {
   "cell_type": "code",
   "execution_count": 51,
   "metadata": {
    "id": "uymexpaCRDu5"
   },
   "outputs": [],
   "source": [
    "# Function to find the maximum contiguous subarray \n",
    "from sys import maxsize \n",
    "def maxSubArraySum_v1(a,size): \n",
    "       \n",
    "    max_so_far = -maxsize - 1\n",
    "    max_ending_here = 0\n",
    "       \n",
    "    for i in range(0, size): \n",
    "        max_ending_here = max_ending_here + a[i] \n",
    "        if (max_so_far < max_ending_here): \n",
    "            max_so_far = max_ending_here \n",
    "  \n",
    "        if max_ending_here < 0: \n",
    "            max_ending_here = 0   \n",
    "    return max_so_far "
   ]
  },
  {
   "cell_type": "code",
   "execution_count": 52,
   "metadata": {
    "id": "6j2DfKjrRDu5",
    "outputId": "81b39fa6-786d-49a1-e9d8-21b7cd6fe3a5"
   },
   "outputs": [
    {
     "name": "stdout",
     "output_type": "stream",
     "text": [
      "Maximum contiguous sum is -3\n"
     ]
    }
   ],
   "source": [
    "# Driver function to check the above function  \n",
    "a = [-13, -3, -25, -20, -3, -16, -23, -12, -5, -22, -15, -4, -7] \n",
    "print(\"Maximum contiguous sum is\", maxSubArraySum_v1(a, len(a)))"
   ]
  },
  {
   "cell_type": "code",
   "execution_count": 53,
   "metadata": {
    "id": "vA2KpSMnRDu5"
   },
   "outputs": [],
   "source": [
    "from sys import maxsize \n",
    "  \n",
    "# Function to find the maximum contiguous subarray \n",
    "# and print its starting and end index \n",
    "def maxSubArraySum_v2(a,size): \n",
    "  \n",
    "    max_so_far = -maxsize - 1\n",
    "    max_ending_here = 0\n",
    "    start = 0\n",
    "    end = 0\n",
    "    s = 0\n",
    "  \n",
    "    for i in range(0,size): \n",
    "  \n",
    "        max_ending_here += a[i] \n",
    "  \n",
    "        if max_so_far < max_ending_here: \n",
    "            max_so_far = max_ending_here \n",
    "            start = s \n",
    "            end = i \n",
    "  \n",
    "        if max_ending_here < 0: \n",
    "            max_ending_here = 0\n",
    "            s = i+1\n",
    "  \n",
    "    print (\"Maximum contiguous sum is %d\"%(max_so_far)) \n",
    "    print (\"Starting Index %d\"%(start)) \n",
    "    print (\"Ending Index %d\"%(end))"
   ]
  },
  {
   "cell_type": "markdown",
   "metadata": {
    "id": "XniUgqvfRDu6"
   },
   "source": [
    "**20. Find the Missing Number**\n",
    "\n",
    "You are given a list of n-1 integers and these integers are in the range of 1 to n. There are no duplicates in the list. One of the integers is missing in the list. Write an efficient code to find the missing integer."
   ]
  },
  {
   "cell_type": "code",
   "execution_count": 54,
   "metadata": {
    "id": "GCQ3DEJERDu6"
   },
   "outputs": [],
   "source": [
    "def getMissingNo(A):\n",
    "    n = len(A)\n",
    "    total = (n + 1)*(n + 2)/2\n",
    "    sum_of_A = sum(A)\n",
    "    return total - sum_of_A"
   ]
  },
  {
   "cell_type": "code",
   "execution_count": 55,
   "metadata": {
    "id": "S8nAInr9RDu6",
    "outputId": "f728612b-b091-4419-fd51-e7b7f83043dc"
   },
   "outputs": [
    {
     "data": {
      "text/plain": [
       "3.0"
      ]
     },
     "execution_count": 55,
     "metadata": {},
     "output_type": "execute_result"
    }
   ],
   "source": [
    "A = [1, 2, 4, 5, 6]\n",
    "getMissingNo(A)"
   ]
  },
  {
   "cell_type": "markdown",
   "metadata": {
    "id": "SSvlTCPkRDu9"
   },
   "source": [
    "**21. Sort an array of 0s, 1s and 2s**"
   ]
  },
  {
   "cell_type": "code",
   "execution_count": 56,
   "metadata": {
    "id": "ObZkCrzFRDu-"
   },
   "outputs": [],
   "source": [
    "# Utility function to print contents of an array \n",
    "def printArr(arr, n): \n",
    "    for i in range(n): \n",
    "        print(arr[i],end=\" \") \n",
    "  \n",
    "  \n",
    "# Function to sort the array of 0s, 1s and 2s \n",
    "def sortArr(arr, n): \n",
    "    cnt0 = 0\n",
    "    cnt1 = 0\n",
    "    cnt2 = 0\n",
    "      \n",
    "    # Count the number of 0s, 1s and 2s in the array \n",
    "    for i in range(n): \n",
    "        if arr[i] == 0: \n",
    "            cnt0+=1\n",
    "          \n",
    "        elif arr[i] == 1: \n",
    "            cnt1+=1\n",
    "              \n",
    "        elif arr[i] == 2: \n",
    "            cnt2+=1\n",
    "      \n",
    "    # Update the array \n",
    "    i = 0\n",
    "      \n",
    "    # Store all the 0s in the beginning \n",
    "    while (cnt0 > 0): \n",
    "        arr[i] = 0\n",
    "        i+=1\n",
    "        cnt0-=1\n",
    "      \n",
    "    # Then all the 1s \n",
    "    while (cnt1 > 0): \n",
    "        arr[i] = 1\n",
    "        i+=1\n",
    "        cnt1-=1\n",
    "      \n",
    "    # Finally all the 2s \n",
    "    while (cnt2 > 0): \n",
    "        arr[i] = 2\n",
    "        i+=1\n",
    "        cnt2-=1\n",
    "      \n",
    "    # Prthe sorted array \n",
    "    printArr(arr, n) "
   ]
  },
  {
   "cell_type": "code",
   "execution_count": 57,
   "metadata": {
    "id": "p425k1gmRDu-",
    "outputId": "ea379c38-1806-47e8-c38f-fc2eed280804"
   },
   "outputs": [
    {
     "name": "stdout",
     "output_type": "stream",
     "text": [
      "0 0 0 0 0 1 1 1 1 1 2 2 "
     ]
    }
   ],
   "source": [
    "arr = [0, 1, 1, 0, 1, 2, 1, 2, 0, 0, 0, 1] \n",
    "n = len(arr) \n",
    "  \n",
    "sortArr(arr, n)"
   ]
  },
  {
   "cell_type": "markdown",
   "metadata": {
    "id": "Ew7mYQd3RDu_"
   },
   "source": [
    "**22. Anagram**  \n",
    "Given two strings a and b consisting of lowercase characters. The task is to check whether two given strings are anagram of each other or not. An anagram of a string is another string that contains same characters, only the order of characters can be different. For example, “act” and “tac” are anagram of each other."
   ]
  },
  {
   "cell_type": "code",
   "execution_count": 58,
   "metadata": {
    "id": "0Ddx-J0mRDu_"
   },
   "outputs": [],
   "source": [
    "def anagram_check(s1,s2):\n",
    "    s1 = s1.replace(\" \",\"\").lower()\n",
    "    s2 = s2.replace(\" \",\"\").lower()\n",
    "    \n",
    "    if len(s1) != len(s2):\n",
    "        return False\n",
    "    \n",
    "    count = {}\n",
    "    for letter in s1:\n",
    "        if letter not in count:\n",
    "            count[letter] = 1\n",
    "        else:\n",
    "            count[letter] += 1\n",
    "            \n",
    "    for letter in s2:\n",
    "        if letter not in count:\n",
    "            count[letter] = 1\n",
    "        else:\n",
    "            count[letter] -= 1\n",
    "            \n",
    "    for k in count:\n",
    "        if count[k] != 0:\n",
    "            return False\n",
    "    \n",
    "    return True"
   ]
  },
  {
   "cell_type": "code",
   "execution_count": 59,
   "metadata": {
    "id": "1Lv1oghoRDvA",
    "outputId": "f2388b79-e0f6-4fc0-bde2-3489785e36b2"
   },
   "outputs": [
    {
     "data": {
      "text/plain": [
       "True"
      ]
     },
     "execution_count": 59,
     "metadata": {},
     "output_type": "execute_result"
    }
   ],
   "source": [
    "anagram_check(\"clint eastwood\",\"old WEst action\")"
   ]
  },
  {
   "cell_type": "code",
   "execution_count": 60,
   "metadata": {
    "id": "gCjalcsZRDvA"
   },
   "outputs": [],
   "source": [
    "def areAnagram(str1, str2):  \n",
    "    # Get lengths of both strings  \n",
    "    n1 = len(str1)  \n",
    "    n2 = len(str2)  \n",
    "  \n",
    "    # If length of both strings is not same, then  \n",
    "    # they cannot be anagram  \n",
    "    if n1 != n2:  \n",
    "        return 0\n",
    "  \n",
    "    # Sort both strings  \n",
    "    str1 = sorted(str1) \n",
    "    str2 = sorted(str2) \n",
    "  \n",
    "    # Compare sorted strings  \n",
    "    for i in range(0, n1):  \n",
    "        if str1[i] != str2[i]:  \n",
    "            return 0\n",
    "  \n",
    "    return 1"
   ]
  },
  {
   "cell_type": "markdown",
   "metadata": {
    "id": "MWP6mP9wRDvB"
   },
   "source": [
    "**23. Pair Sum**"
   ]
  },
  {
   "cell_type": "code",
   "execution_count": 61,
   "metadata": {
    "id": "hoWZHhMdRDvB"
   },
   "outputs": [],
   "source": [
    "def pair_sum(array, k):\n",
    "    if len(array)<2:\n",
    "        return print('Too small')\n",
    "    \n",
    "    seen = set()\n",
    "    output = set()\n",
    "    \n",
    "    for num in array:\n",
    "        target = k - num\n",
    "        \n",
    "        if target not in seen:\n",
    "            seen.add(num)\n",
    "            \n",
    "        else:\n",
    "            output.add((min(num,target), max(num,target)))\n",
    "            \n",
    "    print([x for x in output])"
   ]
  },
  {
   "cell_type": "code",
   "execution_count": 62,
   "metadata": {
    "id": "OLbWHj8oRDvB",
    "outputId": "15e60516-cdba-47fe-c821-c18852cd93ff"
   },
   "outputs": [
    {
     "name": "stdout",
     "output_type": "stream",
     "text": [
      "[(1, 3), (2, 2)]\n"
     ]
    }
   ],
   "source": [
    "pair_sum([1,3,2,2], 4)"
   ]
  },
  {
   "cell_type": "markdown",
   "metadata": {
    "id": "96l44SpERDvB"
   },
   "source": [
    "**24. Max sum in array** - Running through full array (Note: not finding Subarray)"
   ]
  },
  {
   "cell_type": "code",
   "execution_count": 63,
   "metadata": {
    "id": "U1HV_8eWRDvC"
   },
   "outputs": [],
   "source": [
    "def maxSubArraySum(array):\n",
    "    if len(array) == 0:\n",
    "        return print(\"Too Small\")\n",
    "    \n",
    "    max_sum = current_sum = arr[0]\n",
    "    \n",
    "    for num in arr[1:]:\n",
    "        current_sum = max(current_sum + num, num)\n",
    "        max_sum = max(current_sum, max_sum)\n",
    "        \n",
    "    return max_sum"
   ]
  },
  {
   "cell_type": "markdown",
   "metadata": {
    "id": "VkvcmhXERDvF"
   },
   "source": [
    "**25. Check for rotation**  \n",
    "Given array 1 check array 2 is rotation of the other"
   ]
  },
  {
   "cell_type": "code",
   "execution_count": 64,
   "metadata": {
    "id": "v0nlQ3NwRDvF"
   },
   "outputs": [],
   "source": [
    "def rotation(list1, list2):\n",
    "    if len(list1) != len(list2):\n",
    "        return False\n",
    "    \n",
    "    key = list1[0]\n",
    "    key_index = 0\n",
    "    \n",
    "    for i in range(len(list2)):\n",
    "        if list2[i] == key:\n",
    "            key_index = i\n",
    "            \n",
    "            break\n",
    "    \n",
    "    if key_index == 0:\n",
    "        return False\n",
    "    \n",
    "    for x in range(len(list1)):\n",
    "        l2index = (key_index + x) % len(list1)\n",
    "        \n",
    "        if list1[x] != list2[l2index]:\n",
    "            return False\n",
    "    \n",
    "    return True"
   ]
  },
  {
   "cell_type": "code",
   "execution_count": 65,
   "metadata": {
    "id": "heofQAYHRDvF",
    "outputId": "94026173-dd54-4641-ea1e-fad2bad69d82"
   },
   "outputs": [
    {
     "data": {
      "text/plain": [
       "True"
      ]
     },
     "execution_count": 65,
     "metadata": {},
     "output_type": "execute_result"
    }
   ],
   "source": [
    "rotation([1,2,3,4,5,6,7,8,9], [5,6,7,8,9,1,2,3,4])"
   ]
  },
  {
   "cell_type": "markdown",
   "metadata": {
    "id": "hvvsGfvCRDvF"
   },
   "source": [
    "**26. Common Elements in Two sorted Arrays**"
   ]
  },
  {
   "cell_type": "code",
   "execution_count": 66,
   "metadata": {
    "id": "7cxwRYSpRDvJ"
   },
   "outputs": [],
   "source": [
    "def printIntersection(arr1, arr2): \n",
    "    i, j = 0, 0\n",
    "    while i < len(arr1) and j < len(arr2): \n",
    "        if arr1[i] < arr2[j]: \n",
    "            i += 1\n",
    "        elif arr2[j] < arr1[i]: \n",
    "            j+= 1\n",
    "        else: \n",
    "            print(arr2[j]) \n",
    "            j += 1\n",
    "            i += 1"
   ]
  },
  {
   "cell_type": "code",
   "execution_count": 67,
   "metadata": {
    "id": "M2O2xVEuRDvJ",
    "outputId": "f42299f2-8d5f-4908-f39a-c0677b3f8274"
   },
   "outputs": [
    {
     "name": "stdout",
     "output_type": "stream",
     "text": [
      "20\n",
      "80\n"
     ]
    }
   ],
   "source": [
    "ar1 = [1, 5, 10, 20, 40, 80] \n",
    "ar2 = [6, 7, 20, 80, 100]\n",
    "\n",
    "printIntersection(ar1,ar2)"
   ]
  },
  {
   "cell_type": "markdown",
   "metadata": {
    "id": "XgGfc8LXRDvK"
   },
   "source": [
    "**27. Most frequesnt occuring element**"
   ]
  },
  {
   "cell_type": "code",
   "execution_count": 68,
   "metadata": {
    "id": "dixvOEm3RDvK",
    "outputId": "c1addf46-ec53-437c-f4a0-e2af1ed9b7b4"
   },
   "outputs": [
    {
     "name": "stdout",
     "output_type": "stream",
     "text": [
      "3\n"
     ]
    }
   ],
   "source": [
    "def most_frequent(list):\n",
    "    count = {}\n",
    "    max_count = 0\n",
    "    max_item = None\n",
    "    \n",
    "    for i in list:\n",
    "        if i not in count:\n",
    "            count[i] = 1\n",
    "            \n",
    "        else:\n",
    "            count[i] +=1\n",
    "            \n",
    "        if count[i] > max_count:\n",
    "            max_count = count[i]\n",
    "            max_item = i\n",
    "            \n",
    "    return max_item\n",
    "\n",
    "print(most_frequent([1,2,3,3,3,3,1,1,5]))\n",
    "            "
   ]
  },
  {
   "cell_type": "markdown",
   "metadata": {
    "id": "5lC2XiHQRDvL"
   },
   "source": [
    "**28. All characters uniques?**"
   ]
  },
  {
   "cell_type": "code",
   "execution_count": 69,
   "metadata": {
    "id": "nRpiMe8hRDvL"
   },
   "outputs": [],
   "source": [
    "def unique(string):\n",
    "    string = string.replace(\" \",'')\n",
    "    return len(set(string))==len(string)"
   ]
  },
  {
   "cell_type": "code",
   "execution_count": 70,
   "metadata": {
    "id": "srAB7kgNRDvM",
    "outputId": "5215955e-db73-4564-f24d-2a5861afa130"
   },
   "outputs": [
    {
     "name": "stdout",
     "output_type": "stream",
     "text": [
      "True\n"
     ]
    }
   ],
   "source": [
    "print(unique('a br c def'))"
   ]
  },
  {
   "cell_type": "code",
   "execution_count": 71,
   "metadata": {
    "id": "oKDCxVmuRDvM"
   },
   "outputs": [],
   "source": [
    "def unique_v1(s):\n",
    "    s = s.replace(\" \",\"\").lower()\n",
    "    characters = set()\n",
    "    \n",
    "    for letter in s:\n",
    "        if letter in characters:\n",
    "            return False\n",
    "        else:\n",
    "            characters.add(letter)\n",
    "            \n",
    "    return True"
   ]
  },
  {
   "cell_type": "markdown",
   "metadata": {
    "id": "oe3AjPPXRDvO"
   },
   "source": [
    "**29. Non Repeat Element**"
   ]
  },
  {
   "cell_type": "code",
   "execution_count": 72,
   "metadata": {
    "id": "s4gi6I18RDvO",
    "outputId": "7d336110-8cde-4555-d4c6-48e833279449"
   },
   "outputs": [
    {
     "name": "stdout",
     "output_type": "stream",
     "text": [
      "[('i', 1), ('s', 1)]\n"
     ]
    }
   ],
   "source": [
    "def non_repeating(s):\n",
    "    s = s.replace(\" \", '').lower()\n",
    "    char_count = {}\n",
    "    \n",
    "    for c in s:\n",
    "        if c in char_count:\n",
    "            char_count[c] += 1\n",
    "        else:\n",
    "            char_count[c] = 1\n",
    "            \n",
    "    all_uniques = []\n",
    "    y = sorted(char_count.items(), key=lambda x: x[1])\n",
    "    \n",
    "    \n",
    "    for item in y:\n",
    "        if item[1] == y[0][1]:\n",
    "            all_uniques.append(item)\n",
    "            \n",
    "    return all_uniques\n",
    "            \n",
    "print(non_repeating(\"I Apple ape peels\"))"
   ]
  },
  {
   "cell_type": "markdown",
   "metadata": {
    "id": "cdb7sz3nRDvO"
   },
   "source": [
    "**30. Bubble Sort**"
   ]
  },
  {
   "cell_type": "code",
   "execution_count": 73,
   "metadata": {
    "id": "wJeXtkSMRDvP"
   },
   "outputs": [],
   "source": [
    "def bubbleSort(arr): \n",
    "    n = len(arr) \n",
    "  \n",
    "    # Traverse through all array elements \n",
    "    for i in range(n): \n",
    "  \n",
    "        # Last i elements are already in place \n",
    "        for j in range(0, n-i-1): \n",
    "  \n",
    "            # traverse the array from 0 to n-i-1 \n",
    "            # Swap if the element found is greater \n",
    "            # than the next element \n",
    "            if arr[j] > arr[j+1] : \n",
    "                arr[j], arr[j+1] = arr[j+1], arr[j]\n",
    "    \n",
    "    return arr"
   ]
  },
  {
   "cell_type": "code",
   "execution_count": 74,
   "metadata": {
    "id": "OD9GR1hbRDvP",
    "outputId": "c817f378-f292-4568-a6be-de91f15c3950"
   },
   "outputs": [
    {
     "data": {
      "text/plain": [
       "[11, 12, 22, 25, 34, 64, 90]"
      ]
     },
     "execution_count": 74,
     "metadata": {},
     "output_type": "execute_result"
    }
   ],
   "source": [
    "arr = [64, 34, 25, 12, 22, 11, 90] \n",
    "  \n",
    "bubbleSort(arr)"
   ]
  },
  {
   "cell_type": "markdown",
   "metadata": {
    "id": "f6nhBdiHRDvR"
   },
   "source": [
    "**31. Merge two sorted arrays**  \n",
    "```\n",
    "Input: ar1[] = {1, 5, 9, 10, 15, 20};\n",
    "       ar2[] = {2, 3, 8, 13};\n",
    "Output: ar1[] = {1, 2, 3, 5, 8, 9}\n",
    "        ar2[] = {10, 13, 15, 20} \n",
    "```"
   ]
  },
  {
   "cell_type": "code",
   "execution_count": 75,
   "metadata": {
    "id": "T3I9GCA_RDvR"
   },
   "outputs": [],
   "source": [
    "# Python program to merge two sorted arrays with O(1) extra space. \n",
    "  \n",
    "# Merge ar1[] and ar2[] \n",
    "# with O(1) extra space \n",
    "def merge(ar1, ar2): \n",
    "  \n",
    "    # Iterate through all \n",
    "    # elements of ar2[] starting from \n",
    "    # the last element \n",
    "    for i in range(len(ar2)-1, -1, -1): \n",
    "      \n",
    "        # Find the smallest element \n",
    "        # greater than ar2[i]. Move all \n",
    "        # elements one position ahead \n",
    "        # till the smallest greater \n",
    "        # element is not found  \n",
    "        last = ar1[len(ar1)-1] \n",
    "        j=len(ar1)-2\n",
    "        while(j >= 0 and ar1[j] > ar2[i]): \n",
    "            ar1[j+1] = ar1[j] \n",
    "            j-=1\n",
    "   \n",
    "        # If there was a greater element \n",
    "        if (j != len(ar1)-2 or last > ar2[i]): \n",
    "          \n",
    "            ar1[j+1] = ar2[i] \n",
    "            ar2[i] = last \n",
    "    \n",
    "    return ar1, ar2"
   ]
  },
  {
   "cell_type": "code",
   "execution_count": 76,
   "metadata": {
    "id": "en69LZg8RDvS",
    "outputId": "f03ebb37-8028-4bc7-984c-9a6d47a40b87"
   },
   "outputs": [
    {
     "data": {
      "text/plain": [
       "([1, 2, 3, 5, 8, 9], [10, 13, 15, 20])"
      ]
     },
     "execution_count": 76,
     "metadata": {},
     "output_type": "execute_result"
    }
   ],
   "source": [
    "ar1 = [1, 5, 9, 10, 15, 20] \n",
    "ar2 = [2, 3, 8, 13]\n",
    "merge(ar1,ar2)"
   ]
  },
  {
   "cell_type": "markdown",
   "metadata": {
    "id": "xVT56ezIRDvU"
   },
   "source": [
    "**32. Strong Number**"
   ]
  },
  {
   "cell_type": "code",
   "execution_count": 77,
   "metadata": {
    "id": "WzESX7o6RDvU"
   },
   "outputs": [],
   "source": [
    "def factorial(num):\n",
    "    if num == 0 or num ==1:\n",
    "        return 1\n",
    "    else:\n",
    "        return num*factorial(num-1)\n",
    "\n",
    "\n",
    "def strong_number(num_list):\n",
    "    result = []\n",
    "    \n",
    "    for num in num_list:\n",
    "        temp = num\n",
    "        add = 0\n",
    "        \n",
    "        while num !=0:\n",
    "            r = num%10\n",
    "            add += factorial(r)\n",
    "            num //= 10\n",
    "            \n",
    "        if add == temp:\n",
    "            result.append(temp)\n",
    "            \n",
    "    return result"
   ]
  },
  {
   "cell_type": "code",
   "execution_count": 78,
   "metadata": {
    "id": "_oHP2CzmRDvU",
    "outputId": "3c88856d-2e15-4d48-e7ba-961c8f76a42a"
   },
   "outputs": [
    {
     "data": {
      "text/plain": [
       "[145, 2, 40585, 0]"
      ]
     },
     "execution_count": 78,
     "metadata": {},
     "output_type": "execute_result"
    }
   ],
   "source": [
    "num_list = [145, 375, 100, 2, 10, 40585, 0]\n",
    "strong_number(num_list)"
   ]
  },
  {
   "cell_type": "markdown",
   "metadata": {
    "id": "hnIXRpDxRDvV"
   },
   "source": [
    "**33. Count Triplets such that one of the numbers can be written as sum of the other two**\n"
   ]
  },
  {
   "cell_type": "code",
   "execution_count": 79,
   "metadata": {
    "id": "w2Nq1PxARDvV"
   },
   "outputs": [],
   "source": [
    "# Functoin to count the number of ways  \n",
    "# to choose the triples  \n",
    "def countWays(arr, n):  \n",
    "  \n",
    "    # compute the max value in the array  \n",
    "    # and create frequency array of size  \n",
    "    # max_val + 1.  \n",
    "    # We can also use HashMap to store  \n",
    "    # frequencies. We have used an array  \n",
    "    # to keep remaining code simple.  \n",
    "    max_val = 0\n",
    "    for i in range(n):  \n",
    "        max_val = max(max_val, arr[i]) \n",
    "  \n",
    "    freq = [0 for i in range(max_val + 1)]  \n",
    "  \n",
    "    for i in range(n):  \n",
    "        freq[arr[i]] += 1\n",
    "  \n",
    "    ans = 0 # stores the number of ways  \n",
    "  \n",
    "    # Case 1: 0, 0, 0  \n",
    "    ans += (freq[0] * (freq[0] - 1) * (freq[0] - 2) // 6) \n",
    "  \n",
    "    # Case 2: 0, x, x  \n",
    "    for i in range(1, max_val + 1):  \n",
    "        ans += (freq[0] * freq[i] * (freq[i] - 1) // 2) \n",
    "  \n",
    "    # Case 3: x, x, 2*x  \n",
    "    for i in range(1, (max_val + 1) // 2):  \n",
    "        ans += (freq[i] * (freq[i] - 1) // 2 * freq[2 * i])  \n",
    "  \n",
    "    # Case 4: x, y, x + y  \n",
    "    # iterate through all pairs (x, y)  \n",
    "    for i in range(1, max_val + 1):  \n",
    "        for j in range(i + 1, max_val - i + 1):  \n",
    "            ans += freq[i] * freq[j] * freq[i + j]  \n",
    "  \n",
    "    return ans "
   ]
  },
  {
   "cell_type": "code",
   "execution_count": 80,
   "metadata": {
    "id": "EC6bgjZ4RDvW",
    "outputId": "b6da1b40-87bd-445c-9fff-ea4fbfde5725"
   },
   "outputs": [
    {
     "name": "stdout",
     "output_type": "stream",
     "text": [
      "4\n"
     ]
    }
   ],
   "source": [
    "arr = [ 1, 2, 3, 4, 5] \n",
    "n = len(arr) \n",
    "print(countWays(arr, n)) "
   ]
  },
  {
   "cell_type": "code",
   "execution_count": 81,
   "metadata": {
    "id": "sgJ0wLd_RDvW"
   },
   "outputs": [],
   "source": [
    "# Returns true if there is Pythagorean triplet in ar[0..n-1] \n",
    "def isTriplet(ar, n): \n",
    "    # Square all the elemennts \n",
    "    for i in range(n): \n",
    "        ar[i] = ar[i] * ar[i] \n",
    "  \n",
    "    # sort array elements \n",
    "    ar.sort() \n",
    "  \n",
    "    # fix one element and find other two i goes from n - 1 to 2 \n",
    "    for i in range(n-1, 1, -1): \n",
    "        # start two index variables from two corners of the array and move them toward each other \n",
    "        j = 0\n",
    "        k = i - 1\n",
    "        while (j < k): \n",
    "            # A triplet found \n",
    "            if (ar[j] + ar[k] == ar[i]): \n",
    "                return True\n",
    "            else: \n",
    "                if (ar[j] + ar[k] < ar[i]): \n",
    "                    j = j + 1\n",
    "                else: \n",
    "                    k = k - 1\n",
    "    # If we reach here, then no triplet found \n",
    "    return False"
   ]
  },
  {
   "cell_type": "code",
   "execution_count": 82,
   "metadata": {
    "id": "xMgcst-6RDvW",
    "outputId": "5cdf58e2-51aa-4915-9294-1a49a5fa1917"
   },
   "outputs": [
    {
     "name": "stdout",
     "output_type": "stream",
     "text": [
      "Yes\n"
     ]
    }
   ],
   "source": [
    "# Driver program to test above function */ \n",
    "ar = [3, 1, 4, 6, 5] \n",
    "ar_size = len(ar) \n",
    "if(isTriplet(ar, ar_size)): \n",
    "    print(\"Yes\") \n",
    "else: \n",
    "    print(\"No\")"
   ]
  },
  {
   "cell_type": "markdown",
   "metadata": {
    "id": "b-T86Ll-RDvX"
   },
   "source": [
    "**34. Chocolate Distribution Problem**  \n",
    "Given an array of n integers where each value represents number of chocolates in a packet. Each packet can have variable number of chocolates. There are m students, the task is to distribute chocolate packets such that:\n",
    "\n",
    "+ Each student gets one packet.\n",
    "+ The difference between the number of chocolates in packet with maximum chocolates and packet with minimum chocolates given to the students is minimum."
   ]
  },
  {
   "cell_type": "code",
   "execution_count": 83,
   "metadata": {
    "id": "24ksg4MDRDvX"
   },
   "outputs": [],
   "source": [
    "import sys\n",
    "\n",
    "def findMinDiff(arr, n, m): \n",
    "  \n",
    "    # if there are no chocolates or number \n",
    "    # of students is 0 \n",
    "    if (m==0 or n==0): \n",
    "        return 0\n",
    "  \n",
    "    # Sort the given packets \n",
    "    arr.sort() \n",
    "  \n",
    "    # Number of students cannot be more than \n",
    "    # number of packets \n",
    "    if (n < m): \n",
    "        return -1\n",
    "  \n",
    "    # Largest number of chocolates \n",
    "    min_diff = sys.maxsize \n",
    "  \n",
    "    # Find the subarray of size m such that \n",
    "    # difference between last (maximum in case \n",
    "    # of sorted) and first (minimum in case of \n",
    "    # sorted) elements of subarray is minimum. \n",
    "    i=0\n",
    "    while(i+m-1<n ): \n",
    "      \n",
    "        diff = arr[i+m-1] - arr[i] \n",
    "        if (diff < min_diff): \n",
    "            min_diff = diff \n",
    "          \n",
    "        i+=1\n",
    "          \n",
    "    return min_diff"
   ]
  },
  {
   "cell_type": "code",
   "execution_count": 84,
   "metadata": {
    "id": "e4q2STTsRDvY",
    "outputId": "12d6af94-bbe9-4639-f95a-9a85fcc3ecdb"
   },
   "outputs": [
    {
     "name": "stdout",
     "output_type": "stream",
     "text": [
      "Minimum difference is 10\n"
     ]
    }
   ],
   "source": [
    "arr = [12, 4, 7, 9, 2, 23, 25, 41, 30, 40, 28, 42, 30, 44, 48, 43, 50] \n",
    "m = 7 # Number of students \n",
    "n = len(arr) \n",
    "print(\"Minimum difference is\", findMinDiff(arr, n, m))"
   ]
  },
  {
   "cell_type": "markdown",
   "metadata": {
    "id": "qHoJSJ2JRDvY"
   },
   "source": [
    "**35. Decimal to binary**"
   ]
  },
  {
   "cell_type": "code",
   "execution_count": 85,
   "metadata": {
    "id": "jp-w1SEERDvY",
    "outputId": "d7aec2b1-614a-499b-cb6c-9727e7a043e5"
   },
   "outputs": [
    {
     "name": "stdout",
     "output_type": "stream",
     "text": [
      "11000"
     ]
    }
   ],
   "source": [
    "def DecimalToBinary(num):   \n",
    "    if num > 1: \n",
    "        DecimalToBinary(num // 2) \n",
    "    print(num % 2, end = '')\n",
    "\n",
    "DecimalToBinary(24)"
   ]
  },
  {
   "cell_type": "markdown",
   "metadata": {
    "id": "-cZXqJ5wRDvZ"
   },
   "source": [
    "**36. Factorial**"
   ]
  },
  {
   "cell_type": "code",
   "execution_count": 86,
   "metadata": {
    "id": "7Rjw8g-5RDvZ"
   },
   "outputs": [],
   "source": [
    "def factorial(num):\n",
    "    if num == 0 or num ==1:\n",
    "        return 1\n",
    "    else:\n",
    "        return num*factorial(num-1)"
   ]
  },
  {
   "cell_type": "markdown",
   "metadata": {
    "id": "ws-81q80RDva"
   },
   "source": [
    "**37. Leaders in array**"
   ]
  },
  {
   "cell_type": "code",
   "execution_count": 87,
   "metadata": {
    "id": "4QX8ilYIRDva"
   },
   "outputs": [],
   "source": [
    "def printLeaders(arr, size):   \n",
    "    max_from_right = arr[size-1]    \n",
    "    print(max_from_right)     \n",
    "    for i in range( size-2, -1, -1):         \n",
    "        if max_from_right <= arr[i]:         \n",
    "            print(arr[i]) \n",
    "            max_from_right = arr[i]"
   ]
  },
  {
   "cell_type": "code",
   "execution_count": 88,
   "metadata": {
    "id": "yOVZaJF0RDva",
    "outputId": "334c6c3a-016e-4b07-c1c5-fc8eceb95023"
   },
   "outputs": [
    {
     "name": "stdout",
     "output_type": "stream",
     "text": [
      "2\n",
      "5\n",
      "17\n"
     ]
    }
   ],
   "source": [
    "arr = [16, 17, 4, 3, 5, 2] \n",
    "printLeaders(arr, len(arr)) "
   ]
  },
  {
   "cell_type": "markdown",
   "metadata": {
    "id": "5owKKEKkRDvb"
   },
   "source": [
    "**38. Rain Water Trapped**  \n",
    "Given n non-negative integers representing an elevation map where the width of each bar is 1, compute how much water it is able to trap after raining."
   ]
  },
  {
   "cell_type": "code",
   "execution_count": 89,
   "metadata": {
    "id": "LE2uNmyZRDvb"
   },
   "outputs": [],
   "source": [
    "def findWater(arr, n):\n",
    " \n",
    "    # left[i] contains height of tallest bar to the\n",
    "    # left of i'th bar including itself\n",
    "    left = [0]*n\n",
    " \n",
    "    # Right [i] contains height of tallest bar to\n",
    "    # the right of ith bar including itself\n",
    "    right = [0]*n\n",
    " \n",
    "    # Initialize result\n",
    "    water = 0\n",
    " \n",
    "    # Fill left array\n",
    "    left[0] = arr[0]\n",
    "    for i in range( 1, n):\n",
    "        left[i] = max(left[i-1], arr[i])\n",
    " \n",
    "    # Fill right array\n",
    "    right[n-1] = arr[n-1]\n",
    "    for i in range(n-2, -1, -1):\n",
    "        right[i] = max(right[i + 1], arr[i]);\n",
    " \n",
    "    # Calculate the accumulated water element by element\n",
    "    # consider the amount of water on i'th bar, the\n",
    "    # amount of water accumulated on this particular\n",
    "    # bar will be equal to min(left[i], right[i]) - arr[i] .\n",
    "    for i in range(0, n):\n",
    "        water += min(left[i], right[i]) - arr[i]\n",
    " \n",
    "    return water"
   ]
  },
  {
   "cell_type": "code",
   "execution_count": 90,
   "metadata": {
    "id": "wKrJ88BeRDvb",
    "outputId": "1b11f830-219b-4836-ee0b-2abd8b09da79"
   },
   "outputs": [
    {
     "name": "stdout",
     "output_type": "stream",
     "text": [
      "Maximum water that can be accumulated is 6\n"
     ]
    }
   ],
   "source": [
    "arr = [0, 1, 0, 2, 1, 0, 1, 3, 2, 1, 2, 1]\n",
    "n = len(arr)\n",
    "print(\"Maximum water that can be accumulated is\", findWater(arr, n))"
   ]
  },
  {
   "cell_type": "markdown",
   "metadata": {
    "id": "M9-lmXq8RDvc"
   },
   "source": [
    "**39. Stock Buy Sell to Maximize Profit**\n",
    "\n",
    "The cost of a stock on each day is given in an array, find the max profit that you can make by buying and selling in those days. For example, if the given array is {100, 180, 260, 310, 40, 535, 695}, the maximum profit can earned by buying on day 0, selling on day 3. Again buy on day 4 and sell on day 6. If the given array of prices is sorted in decreasing order, then profit cannot be earned at all."
   ]
  },
  {
   "cell_type": "code",
   "execution_count": 91,
   "metadata": {
    "id": "vAJmKt9RRDvc",
    "outputId": "6b463746-e5af-455d-e3f9-b7bf1359a8d5"
   },
   "outputs": [
    {
     "name": "stdout",
     "output_type": "stream",
     "text": [
      "Buy on day:  0 \t Sell on day:  3\n",
      "Buy on day:  4 \t Sell on day:  6\n"
     ]
    }
   ],
   "source": [
    "  # This function finds the buy sell \n",
    "# schedule for maximum profit \n",
    "def stockBuySell(price, n): \n",
    "      \n",
    "    # Prices must be given for at least two days \n",
    "    if (n == 1): \n",
    "        return\n",
    "      \n",
    "    # Traverse through given price array \n",
    "    i = 0\n",
    "    while (i < (n - 1)): \n",
    "          \n",
    "        # Find Local Minima \n",
    "        # Note that the limit is (n-2) as we are \n",
    "        # comparing present element to the next element \n",
    "        while ((i < (n - 1)) and \n",
    "                (price[i + 1] <= price[i])): \n",
    "            i += 1\n",
    "          \n",
    "        # If we reached the end, break \n",
    "        # as no further solution possible \n",
    "        if (i == n - 1): \n",
    "            break\n",
    "          \n",
    "        # Store the index of minima \n",
    "        buy = i \n",
    "        i += 1\n",
    "          \n",
    "        # Find Local Maxima \n",
    "        # Note that the limit is (n-1) as we are \n",
    "        # comparing to previous element \n",
    "        while ((i < n) and (price[i] >= price[i - 1])): \n",
    "            i += 1\n",
    "              \n",
    "        # Store the index of maxima \n",
    "        sell = i - 1\n",
    "          \n",
    "        print(\"Buy on day: \",buy,\"\\t\", \n",
    "                \"Sell on day: \",sell) \n",
    "          \n",
    "# Driver code \n",
    "  \n",
    "# Stock prices on consecutive days \n",
    "price = [100, 180, 260, 310, 40, 535, 695] \n",
    "n = len(price) \n",
    "  \n",
    "# Fucntion call \n",
    "stockBuySell(price, n) "
   ]
  },
  {
   "cell_type": "markdown",
   "metadata": {
    "id": "cxbVnc_IRDvd"
   },
   "source": [
    "**40. Product of all Subarrays of an Array**\n",
    "\n",
    "Given an array of integers arr of size N, the task is to print products of all subarrays of the array."
   ]
  },
  {
   "cell_type": "code",
   "execution_count": 92,
   "metadata": {
    "id": "KB3hG4ODRDvd"
   },
   "outputs": [],
   "source": [
    "def product_subarrays(arr, n): \n",
    "  \n",
    "    # Variable to store the product \n",
    "    res = 1; \n",
    "  \n",
    "    # Compute the product while \n",
    "    # traversing for subarrays \n",
    "    for i in range(n): \n",
    "        product = 1\n",
    "        for j in range(i, n): \n",
    "            product *= arr[j] \n",
    "            res = res * product \n",
    "  \n",
    "    # Printing product of all subarray \n",
    "    print(res)"
   ]
  },
  {
   "cell_type": "code",
   "execution_count": 93,
   "metadata": {
    "id": "-BqPLRdXRDve",
    "outputId": "385081a9-b1bf-4748-a29b-a477f6c0f9ed"
   },
   "outputs": [
    {
     "name": "stdout",
     "output_type": "stream",
     "text": [
      "27783000\n"
     ]
    }
   ],
   "source": [
    "arr = [ 10, 3, 7 ]\n",
    "n = len(arr)\n",
    "# Function call \n",
    "product_subarrays(arr, n)"
   ]
  },
  {
   "cell_type": "markdown",
   "metadata": {
    "id": "uh6qJMiMRDve"
   },
   "source": [
    "**41. Finding Square root**"
   ]
  },
  {
   "cell_type": "code",
   "execution_count": 94,
   "metadata": {
    "id": "28Ck7DF-RDve"
   },
   "outputs": [],
   "source": [
    "def squareRoot(n): \n",
    "\n",
    "    # We are using n itself as \n",
    "    # initial approximation This \n",
    "    # can definitely be improved  \n",
    "        x = n \n",
    "        y = 1\n",
    "          \n",
    "        # e decides the accuracy level \n",
    "        e = 0.000001\n",
    "        while(x - y > e): \n",
    "      \n",
    "            x = (x + y)/2\n",
    "            y = n / x \n",
    "      \n",
    "        return x "
   ]
  },
  {
   "cell_type": "code",
   "execution_count": 95,
   "metadata": {
    "id": "DQCsdHciRDve",
    "outputId": "f8bda523-25c3-4121-fa0c-5cc95ec2ba64"
   },
   "outputs": [
    {
     "name": "stdout",
     "output_type": "stream",
     "text": [
      "Square root of 36 is 6.0\n"
     ]
    }
   ],
   "source": [
    "n = 36\n",
    "print(\"Square root of\", n, \"is\", round(squareRoot(n), 6))"
   ]
  },
  {
   "cell_type": "code",
   "execution_count": null,
   "metadata": {
    "id": "drwq4ATMRDvf"
   },
   "outputs": [],
   "source": []
  }
 ],
 "metadata": {
  "colab": {
   "collapsed_sections": [
    "PmCAKqM2RDvf"
   ],
   "name": "Copy of Python Practice Programs for Data Science.ipynb",
   "provenance": [
    {
     "file_id": "191VZU4xEDKRLKWYVayRPVPfZSfcySER-",
     "timestamp": 1614190771175
    }
   ]
  },
  "kernelspec": {
   "display_name": "Python 3",
   "language": "python",
   "name": "python3"
  },
  "language_info": {
   "codemirror_mode": {
    "name": "ipython",
    "version": 3
   },
   "file_extension": ".py",
   "mimetype": "text/x-python",
   "name": "python",
   "nbconvert_exporter": "python",
   "pygments_lexer": "ipython3",
   "version": "3.8.3"
  }
 },
 "nbformat": 4,
 "nbformat_minor": 1
}
