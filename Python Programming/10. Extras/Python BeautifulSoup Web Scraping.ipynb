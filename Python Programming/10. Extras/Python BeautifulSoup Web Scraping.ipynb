{
 "cells": [
  {
   "cell_type": "markdown",
   "metadata": {},
   "source": [
    "# Python BeautifulSoup Web Scraping Tutorial\n",
    "Learn to scrape data from the web using the Python BeautifulSoup bs4 library.  \n",
    "BeautifulSoup makes it easy to parse useful data out of an HTML page.  \n",
    "First install the bs4 library on your system by running at the command line,   \n",
    "*pip install beautifulsoup4* or *easy_install beautifulsoup4* (or bs4)  \n",
    "See [BeautifulSoup official documentation](https://www.crummy.com/software/BeautifulSoup/bs4/doc/) for the complete set of functions.\n",
    "\n",
    "### Import requests so we can fetch the html content of the webpage\n",
    "You can see our example page has about 28k characters."
   ]
  },
  {
   "cell_type": "code",
   "execution_count": 10,
   "metadata": {},
   "outputs": [
    {
     "name": "stdout",
     "output_type": "stream",
     "text": [
      "42402\n"
     ]
    }
   ],
   "source": [
    "import requests\n",
    "r = requests.get('https://www.usclimatedata.com/climate/united-states/us')\n",
    "print(len(r.text))"
   ]
  },
  {
   "cell_type": "markdown",
   "metadata": {},
   "source": [
    "### Import BeautifulSoup, and convert your HTML into a bs4 object\n",
    "Now we can access specific HTML tags on the page using dot, just like a JSON object."
   ]
  },
  {
   "cell_type": "code",
   "execution_count": 11,
   "metadata": {},
   "outputs": [
    {
     "name": "stdout",
     "output_type": "stream",
     "text": [
      "<title>Climate United States - Normals and averages</title>\n",
      "Climate United States - Normals and averages\n"
     ]
    }
   ],
   "source": [
    "from bs4 import BeautifulSoup\n",
    "soup = BeautifulSoup(r.text)\n",
    "print(soup.title)\n",
    "print(soup.title.string)"
   ]
  },
  {
   "cell_type": "markdown",
   "metadata": {},
   "source": [
    "### Drill into the bs4 object to access page contents\n",
    "soup.p will give you the contents of the first paragraph tag on the page.  \n",
    "soup.a gives you anchors / links on the page.  \n",
    "Get contents of an attribute inside an HTML tag using square brackets and perentheses.  \n",
    "Use .parent to get the parent object, and .next_sibling to get the next peer object.  \n",
    "**Use your browser's *inspect element* feature to find the tag for the data you want.**"
   ]
  },
  {
   "cell_type": "code",
   "execution_count": 12,
   "metadata": {},
   "outputs": [
    {
     "name": "stdout",
     "output_type": "stream",
     "text": [
      "<p class=\"selection_title\">Select a state by name</p>\n",
      "Select a state by name\n",
      "<a class=\"navbar-brand\" href=\"/\" title=\"Temperature - Precipitation - Sunshine - Snowfall\"><img alt=\"Temperature - Precipitation - Sunshine - Snowfall\" data-src=\"https://www.usclimatedata.com/assets/images/us-climate-data.png\" height=\"34\" src=\"https://www.usclimatedata.com/assets/images/us-climate-data.png\" srcset=\"https://www.usclimatedata.com/assets/images/us-climate-data.png 1x, https://www.usclimatedata.com/assets/images/us-climate-data-2.png 2x\" width=\"31\"/><span class=\"white ml-2\">U.S. Climate Data</span></a>\n",
      "Temperature - Precipitation - Sunshine - Snowfall\n",
      "\n",
      "<div class=\"float-left mb-4 mt-2\"><p class=\"selection_title\">Select a state by name</p></div>\n"
     ]
    }
   ],
   "source": [
    "print(soup.p)\n",
    "print(soup.p.text)\n",
    "print(soup.a)\n",
    "print(soup.a['title'])\n",
    "print()\n",
    "print(soup.p.parent)"
   ]
  },
  {
   "cell_type": "markdown",
   "metadata": {},
   "source": [
    "### Prettify() is handy for formatted printing   \n",
    "but note this works only on bs4 objects, not on strings, dicts or lists. For those you need to import pprint."
   ]
  },
  {
   "cell_type": "code",
   "execution_count": 13,
   "metadata": {},
   "outputs": [
    {
     "name": "stdout",
     "output_type": "stream",
     "text": [
      "<div class=\"float-left mb-4 mt-2\">\n",
      " <p class=\"selection_title\">\n",
      "  Select a state by name\n",
      " </p>\n",
      "</div>\n",
      "\n"
     ]
    }
   ],
   "source": [
    "print(soup.p.parent.prettify())"
   ]
  },
  {
   "cell_type": "markdown",
   "metadata": {},
   "source": [
    "### We need all the state links on this page\n",
    "First we find_all anchor tags, and print out the href attribute, which is the actual link url.   \n",
    "But we see the result includes some links we don't want, so we need to filter those out."
   ]
  },
  {
   "cell_type": "code",
   "execution_count": 14,
   "metadata": {},
   "outputs": [
    {
     "name": "stdout",
     "output_type": "stream",
     "text": [
      "/\n",
      "#\n",
      "/\n",
      "/climate/united-states/us\n",
      "/\n",
      "/climate/united-states/us\n",
      "/climate/alabama/united-states/3170\n",
      "/climate/alaska/united-states/3171\n",
      "/climate/arizona/united-states/3172\n",
      "/climate/arkansas/united-states/3173\n",
      "/climate/california/united-states/3174\n",
      "/climate/colorado/united-states/3175\n",
      "/climate/connecticut/united-states/3176\n",
      "/climate/delaware/united-states/3177\n",
      "/climate/district-of-columbia/united-states/3178\n",
      "/climate/florida/united-states/3179\n",
      "/climate/georgia/united-states/3180\n",
      "/climate/hawaii/united-states/3181\n",
      "/climate/idaho/united-states/3182\n",
      "/climate/illinois/united-states/3183\n",
      "/climate/indiana/united-states/3184\n",
      "/climate/iowa/united-states/3185\n",
      "/climate/kansas/united-states/3186\n",
      "/climate/kentucky/united-states/3187\n",
      "/climate/louisiana/united-states/3188\n",
      "/climate/maine/united-states/3189\n",
      "/climate/maryland/united-states/1872\n",
      "/climate/massachusetts/united-states/3191\n",
      "/climate/michigan/united-states/3192\n",
      "/climate/minnesota/united-states/3193\n",
      "/climate/mississippi/united-states/3194\n",
      "/climate/missouri/united-states/3195\n",
      "/climate/montana/united-states/919\n",
      "/climate/nebraska/united-states/3197\n",
      "/climate/nevada/united-states/3198\n",
      "/climate/new-hampshire/united-states/3199\n",
      "/climate/new-jersey/united-states/3200\n",
      "/climate/new-mexico/united-states/3201\n",
      "/climate/new-york/united-states/3202\n",
      "/climate/north-carolina/united-states/3203\n",
      "/climate/north-dakota/united-states/3204\n",
      "/climate/ohio/united-states/3205\n",
      "/climate/oklahoma/united-states/3206\n",
      "/climate/oregon/united-states/3207\n",
      "/climate/pennsylvania/united-states/3208\n",
      "/climate/puerto-rico/united-states/7335\n",
      "/climate/rhode-island/united-states/3209\n",
      "/climate/south-carolina/united-states/3210\n",
      "/climate/south-dakota/united-states/3211\n",
      "/climate/tennessee/united-states/3212\n",
      "/climate/texas/united-states/3213\n",
      "/climate/utah/united-states/3214\n",
      "/climate/vermont/united-states/3215\n",
      "/climate/virginia/united-states/3216\n",
      "/climate/washington/united-states/3217\n",
      "/climate/west-virginia/united-states/3218\n",
      "/climate/wisconsin/united-states/3219\n",
      "/climate/wyoming/united-states/3220\n",
      "/climate/washington/district-of-columbia/united-states/usdc0001\n",
      " https://facebook.com/sharer/sharer.php?u=https://www.usclimatedata.com/climate/united-states/us\n",
      "https://twitter.com/intent/tweet/?text=Climate+United+States+-+Normals+and+averages&url=https://www.usclimatedata.com/climate/united-states/us\n",
      "https://pinterest.com/pin/create/button/?url=https://www.usclimatedata.com/climate/united-states/us&media=description=Climate+United+States+-+Normals+and+averages\n",
      "mailto:mail@example.com?subject=Climate+United+States+-+Normals+and+averages&body=Climate+United+States+-+Normals+and+averages+-+https%3A%2F%2Fwww.usclimatedata.com%2Fclimate%2Funited-states%2Fus\n",
      "https://www.tumblr.com/widgets/share/tool?posttype=link&title=Climate+United+States+-+Normals+and+averages&caption=&content=Climate+United+States+-+Normals+and+averages+-+https%3A%2F%2Fwww.usclimatedata.com%2Fclimate%2Funited-states%2Fus&canonicalUrl=https://www.usclimatedata.com/climate/united-states/us&shareSource=tumblr_share_button\n",
      "whatsapp://send?text=Climate+United+States+-+Normals+and+averages+-+https%3A%2F%2Fwww.usclimatedata.com%2Fclimate%2Funited-states%2Fus\n",
      "https://www.facebook.com/yourweatherservice\n",
      "https://twitter.com/usclimatedata\n",
      "/website-info\n"
     ]
    }
   ],
   "source": [
    "for link in soup.find_all('a'):\n",
    "    print(link.get('href'))"
   ]
  },
  {
   "cell_type": "markdown",
   "metadata": {},
   "source": [
    "### Filter urls using string functions\n",
    "We just add an *if* to check conditions, then add the good ones to a list.  \n",
    "In the end we get 51 state links, including Washington DC."
   ]
  },
  {
   "cell_type": "code",
   "execution_count": 15,
   "metadata": {},
   "outputs": [
    {
     "name": "stdout",
     "output_type": "stream",
     "text": [
      "53\n"
     ]
    }
   ],
   "source": [
    "base_url = 'https://www.usclimatedata.com'\n",
    "state_links = []\n",
    "for link in soup.find_all('a'):\n",
    "    url = link.get('href')\n",
    "    if url and '/climate/' in url and '/climate/united-states/us' not in url:\n",
    "        state_links.append(url)\n",
    "print(len(state_links))"
   ]
  },
  {
   "cell_type": "markdown",
   "metadata": {},
   "source": [
    "### Test getting the data for one state\n",
    "then print the title for that page."
   ]
  },
  {
   "cell_type": "code",
   "execution_count": 16,
   "metadata": {
    "scrolled": true
   },
   "outputs": [
    {
     "name": "stdout",
     "output_type": "stream",
     "text": [
      "Climate Colorado - Temperature, Rainfall and Averages\n"
     ]
    }
   ],
   "source": [
    "r = requests.get(base_url + state_links[5])\n",
    "soup = BeautifulSoup(r.text)\n",
    "print(soup.title.string)"
   ]
  },
  {
   "cell_type": "markdown",
   "metadata": {},
   "source": [
    "### The data we need is in *tr* tags\n",
    "But look, there are 58 tr tags on the page, and we only want 2 of them - the *Average high* rows."
   ]
  },
  {
   "cell_type": "code",
   "execution_count": 17,
   "metadata": {},
   "outputs": [
    {
     "name": "stdout",
     "output_type": "stream",
     "text": [
      "12\n"
     ]
    }
   ],
   "source": [
    "rows = soup.find_all('tr')\n",
    "print(len(rows))"
   ]
  },
  {
   "cell_type": "markdown",
   "metadata": {},
   "source": [
    "### Filter rows, and add temp data to a list\n",
    "We use a list comprehension to filter the rows.  \n",
    "Then we have only 2 rows left.  \n",
    "We iterate through those 2 rows, and add all the temps from data cells (td) into a list."
   ]
  },
  {
   "cell_type": "code",
   "execution_count": 18,
   "metadata": {},
   "outputs": [
    {
     "name": "stdout",
     "output_type": "stream",
     "text": [
      "2\n",
      "[<td class=\"high text-right\">45</td>, <td class=\"high text-right\">46</td>, <td class=\"high text-right\">54</td>, <td class=\"high text-right\">61</td>, <td class=\"high text-right\">72</td>, <td class=\"high text-right\">82</td>]\n"
     ]
    },
    {
     "ename": "IndexError",
     "evalue": "list index out of range",
     "output_type": "error",
     "traceback": [
      "\u001b[1;31m---------------------------------------------------------------------------\u001b[0m",
      "\u001b[1;31mIndexError\u001b[0m                                Traceback (most recent call last)",
      "\u001b[1;32m<ipython-input-18-cc933ccefc85>\u001b[0m in \u001b[0;36m<module>\u001b[1;34m\u001b[0m\n\u001b[0;32m      7\u001b[0m     \u001b[0mprint\u001b[0m\u001b[1;33m(\u001b[0m\u001b[0mtds\u001b[0m\u001b[1;33m)\u001b[0m\u001b[1;33m\u001b[0m\u001b[1;33m\u001b[0m\u001b[0m\n\u001b[0;32m      8\u001b[0m     \u001b[1;32mfor\u001b[0m \u001b[0mi\u001b[0m \u001b[1;32min\u001b[0m \u001b[0mrange\u001b[0m\u001b[1;33m(\u001b[0m\u001b[1;36m1\u001b[0m\u001b[1;33m,\u001b[0m\u001b[1;36m7\u001b[0m\u001b[1;33m)\u001b[0m\u001b[1;33m:\u001b[0m\u001b[1;33m\u001b[0m\u001b[1;33m\u001b[0m\u001b[0m\n\u001b[1;32m----> 9\u001b[1;33m         \u001b[0mhigh_temps\u001b[0m\u001b[1;33m.\u001b[0m\u001b[0mappend\u001b[0m\u001b[1;33m(\u001b[0m\u001b[0mtds\u001b[0m\u001b[1;33m[\u001b[0m\u001b[0mi\u001b[0m\u001b[1;33m]\u001b[0m\u001b[1;33m.\u001b[0m\u001b[0mtext\u001b[0m\u001b[1;33m)\u001b[0m\u001b[1;33m\u001b[0m\u001b[1;33m\u001b[0m\u001b[0m\n\u001b[0m\u001b[0;32m     10\u001b[0m \u001b[0mprint\u001b[0m\u001b[1;33m(\u001b[0m\u001b[0mhigh_temps\u001b[0m\u001b[1;33m)\u001b[0m\u001b[1;33m\u001b[0m\u001b[1;33m\u001b[0m\u001b[0m\n",
      "\u001b[1;31mIndexError\u001b[0m: list index out of range"
     ]
    }
   ],
   "source": [
    "rows = [row for row in rows if 'Average high' in str(row)]\n",
    "print(len(rows))\n",
    "\n",
    "high_temps = []\n",
    "for row in rows:\n",
    "    tds = row.find_all('td')\n",
    "    print(tds)\n",
    "    for i in range(1,7):\n",
    "        high_temps.append(tds[i].text)\n",
    "print(high_temps)"
   ]
  },
  {
   "cell_type": "markdown",
   "metadata": {},
   "source": [
    "### Get the name of the State\n",
    "First attempt we just split the title string into a list, and grab the second word.  \n",
    "But that doesn't work for 2-word states like New York and North Carolina.   \n",
    "So instead we slice the string from first blank to the hyphen. "
   ]
  },
  {
   "cell_type": "code",
   "execution_count": null,
   "metadata": {},
   "outputs": [],
   "source": [
    "state = soup.title.string.split()[1]\n",
    "print(state)\n",
    "s = soup.title.string\n",
    "state = s[s.find(' '):s.find('-')].strip()\n",
    "print(state)"
   ]
  },
  {
   "cell_type": "markdown",
   "metadata": {},
   "source": [
    "### Add state name and temp list to the data dictionary\n",
    "For a single state, this is what our scraped data looks like.  \n",
    "In this example we only got monthly highs by state, but you could drill into cities, and could get lows and precipitation. "
   ]
  },
  {
   "cell_type": "code",
   "execution_count": null,
   "metadata": {},
   "outputs": [],
   "source": [
    "data = {}\n",
    "data[state] = high_temps\n",
    "print(data)"
   ]
  },
  {
   "cell_type": "markdown",
   "metadata": {},
   "source": [
    "### Put it all together and iterate 51 states\n",
    "We loop through our 51-state list, and get high temp data for each state, and add it to the data dict.  \n",
    "This combines all our work above into a single for loop.  \n",
    "The result is a dict with 51 states and a list of monthly highs for each."
   ]
  },
  {
   "cell_type": "code",
   "execution_count": null,
   "metadata": {},
   "outputs": [],
   "source": [
    "data = {}\n",
    "for state_link in state_links:\n",
    "    url = base_url + state_link\n",
    "    r = requests.get(base_url + state_link)\n",
    "    soup = BeautifulSoup(r.text)\n",
    "    rows = soup.find_all('tr')\n",
    "    rows = [row for row in rows if 'Average high' in str(row)]\n",
    "    high_temps = []\n",
    "    for row in rows:\n",
    "        tds = row.find_all('td')\n",
    "        for i in range(1,7):\n",
    "            high_temps.append(tds[i].text)\n",
    "    s = soup.title.string\n",
    "    state = s[s.find(' '):s.find('-')].strip()\n",
    "    data[state] = high_temps\n",
    "print(data)"
   ]
  },
  {
   "cell_type": "markdown",
   "metadata": {},
   "source": [
    "### Save to CSV file\n",
    "Lastly, we might want to write all this data to a CSV file.  \n",
    "Here's a quick easy way to do that."
   ]
  },
  {
   "cell_type": "code",
   "execution_count": null,
   "metadata": {},
   "outputs": [],
   "source": [
    "import csv\n",
    "\n",
    "with open('high_temps.csv','w') as f:\n",
    "    w = csv.writer(f)\n",
    "    w.writerows(data.items())"
   ]
  }
 ],
 "metadata": {
  "kernelspec": {
   "display_name": "Python 3",
   "language": "python",
   "name": "python3"
  },
  "language_info": {
   "codemirror_mode": {
    "name": "ipython",
    "version": 3
   },
   "file_extension": ".py",
   "mimetype": "text/x-python",
   "name": "python",
   "nbconvert_exporter": "python",
   "pygments_lexer": "ipython3",
   "version": "3.8.8"
  }
 },
 "nbformat": 4,
 "nbformat_minor": 2
}
