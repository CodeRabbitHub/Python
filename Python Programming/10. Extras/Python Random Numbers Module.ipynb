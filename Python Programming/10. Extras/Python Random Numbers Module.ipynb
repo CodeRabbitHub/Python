{
 "cells": [
  {
   "cell_type": "markdown",
   "metadata": {},
   "source": [
    "# Python Random Numbers Module\n",
    "[Official Documentation](https://docs.python.org/3/library/random.html)"
   ]
  },
  {
   "cell_type": "code",
   "execution_count": 1,
   "metadata": {},
   "outputs": [],
   "source": [
    "import random"
   ]
  },
  {
   "cell_type": "markdown",
   "metadata": {},
   "source": [
    "### randint\n",
    "Gives you a random integer between from and to values, inclusive."
   ]
  },
  {
   "cell_type": "code",
   "execution_count": 2,
   "metadata": {},
   "outputs": [
    {
     "name": "stdout",
     "output_type": "stream",
     "text": [
      "2 0 0 2 0 3 2 0 0 1 3 1 1 0 1 2 2 3 1 0 3 2 3 1 0 "
     ]
    }
   ],
   "source": [
    "for i in range (25):\n",
    "    print(random.randint(0, 3), end=' ')"
   ]
  },
  {
   "cell_type": "markdown",
   "metadata": {},
   "source": [
    "### randrange\n",
    "Works similar to the range function -- gives you a random number between from and to-1, with optional step.  \n",
    "From defaults to 0 if only 1 argument is given.  \n",
    "Step defaults to 1 if only 2 arguments are given."
   ]
  },
  {
   "cell_type": "code",
   "execution_count": 3,
   "metadata": {},
   "outputs": [
    {
     "name": "stdout",
     "output_type": "stream",
     "text": [
      "98\n",
      "3 6 6 3 0 6 3 3 0 3 6 0 6 6 6 3 3 3 6 6 3 0 6 3 6 "
     ]
    }
   ],
   "source": [
    "print(random.randrange(100))\n",
    "\n",
    "for i in range (25):\n",
    "    print(random.randrange(0, 9, 3), end=' ')"
   ]
  },
  {
   "cell_type": "markdown",
   "metadata": {},
   "source": [
    "### choice\n",
    "Returns one randomly chosen item from a sequence (list, tuple or string). Works for lists/tuples of integers, floats, strings or other objects. "
   ]
  },
  {
   "cell_type": "code",
   "execution_count": 4,
   "metadata": {},
   "outputs": [
    {
     "name": "stdout",
     "output_type": "stream",
     "text": [
      "3\n",
      "Hampton\n",
      "Darby\n",
      "Hampton\n",
      "Darby\n"
     ]
    }
   ],
   "source": [
    "print(random.choice([3, 5, 7, 9, 11]))\n",
    "\n",
    "names = ['Roby', 'Matthews', 'Washington', 'Darby', 'Hampton']\n",
    "for i in range(4):\n",
    "    print(random.choice(names))"
   ]
  },
  {
   "cell_type": "code",
   "execution_count": 5,
   "metadata": {},
   "outputs": [
    {
     "name": "stdout",
     "output_type": "stream",
     "text": [
      "-\n",
      "c  d  b  c  r  a  b  e  e  r  "
     ]
    }
   ],
   "source": [
    "print(random.choice('bunch-of-letters'))\n",
    "\n",
    "material = 'brocade'\n",
    "for i in range(10):\n",
    "    print(random.choice(material), end='  ')"
   ]
  },
  {
   "cell_type": "markdown",
   "metadata": {},
   "source": [
    "### choices\n",
    "Just like choice, but returns a list of n random choices, with replacement, so each pick is from the full sequence."
   ]
  },
  {
   "cell_type": "code",
   "execution_count": 6,
   "metadata": {},
   "outputs": [
    {
     "name": "stdout",
     "output_type": "stream",
     "text": [
      "[6, 10, 8, 4, 4, 7, 5, 10, 6, 7, 5, 9, 3, 2, 6]\n",
      "[1, 2, 3, 4, 5, 6, 7, 8, 9, 10]\n"
     ]
    }
   ],
   "source": [
    "numbers = [n+1 for n in range(10)]\n",
    "my_picks = random.choices(numbers, k=15)\n",
    "print(my_picks)\n",
    "print(numbers)"
   ]
  },
  {
   "cell_type": "code",
   "execution_count": 7,
   "metadata": {},
   "outputs": [
    {
     "name": "stdout",
     "output_type": "stream",
     "text": [
      "['Washington', 'Washington']\n"
     ]
    }
   ],
   "source": [
    "names = ['Roby', 'Matthews', 'Washington', 'Darby', 'Hampton']\n",
    "print(random.choices(names, k=2))"
   ]
  },
  {
   "cell_type": "markdown",
   "metadata": {},
   "source": [
    "You can also add weights if you want some items to have a better chance of being picked. Here, 1 is 4x more likely than 4 to be picked."
   ]
  },
  {
   "cell_type": "code",
   "execution_count": 8,
   "metadata": {},
   "outputs": [
    {
     "name": "stdout",
     "output_type": "stream",
     "text": [
      "[1, 1, 3, 2, 2, 2, 2, 4, 2, 1, 3, 2, 1, 2, 2, 1, 1, 2, 2, 2]\n"
     ]
    }
   ],
   "source": [
    "numbers = [1,2,3,4]\n",
    "my_picks = random.choices(numbers, weights=[4,3,2,1], k=20)\n",
    "print(my_picks)"
   ]
  },
  {
   "cell_type": "markdown",
   "metadata": {},
   "source": [
    "#### Use random.choices to generate random passwords  \n",
    "First we pick a list of 8 random numbers between a and z on the ascii table, then we convert the numbers to ascii letters, then join them into a string."
   ]
  },
  {
   "cell_type": "code",
   "execution_count": 9,
   "metadata": {},
   "outputs": [
    {
     "name": "stdout",
     "output_type": "stream",
     "text": [
      "[115, 97, 116, 114, 105, 111, 115, 101]\n",
      "satriose\n"
     ]
    }
   ],
   "source": [
    "picks = random.choices(range(ord('a'),ord('z')), k=8)\n",
    "print(picks)\n",
    "picks = [chr(i) for i in picks]\n",
    "print(''.join(picks))"
   ]
  },
  {
   "cell_type": "markdown",
   "metadata": {},
   "source": [
    "Here's a random password generator that uses all upper and lower case letters and numbers."
   ]
  },
  {
   "cell_type": "code",
   "execution_count": 10,
   "metadata": {},
   "outputs": [
    {
     "name": "stdout",
     "output_type": "stream",
     "text": [
      "sztURgZ7\n"
     ]
    }
   ],
   "source": [
    "import string\n",
    "all_chars = string.ascii_lowercase + string.ascii_uppercase + string.digits\n",
    "pw = ''.join(random.choices(all_chars, k=8))\n",
    "print(pw)"
   ]
  },
  {
   "cell_type": "markdown",
   "metadata": {},
   "source": [
    "### sample\n",
    "Just like choices, but without replacement.  \n",
    "Useful for picking lottery winners or bingo numbers.  \n",
    "Returned list is in the order they were picked."
   ]
  },
  {
   "cell_type": "code",
   "execution_count": 11,
   "metadata": {},
   "outputs": [
    {
     "name": "stdout",
     "output_type": "stream",
     "text": [
      "['red', 'pink']\n"
     ]
    }
   ],
   "source": [
    "colors = ['red', 'blue', 'green', 'aqua', 'pink', 'black']\n",
    "picks = random.sample(colors, k=2)\n",
    "print(picks)"
   ]
  },
  {
   "cell_type": "markdown",
   "metadata": {},
   "source": [
    "Using the range function as an argument will not give you any duplicate picks."
   ]
  },
  {
   "cell_type": "code",
   "execution_count": 12,
   "metadata": {},
   "outputs": [
    {
     "name": "stdout",
     "output_type": "stream",
     "text": [
      "[31, 2, 11, 36, 26]\n"
     ]
    }
   ],
   "source": [
    "picks = random.sample(range(1,51), k=5)\n",
    "print(picks)"
   ]
  },
  {
   "cell_type": "markdown",
   "metadata": {},
   "source": [
    "### shuffle\n",
    "Shuffle any sequence into random order.  \n",
    "This is an in-place shuffle, and it doesn't return anything."
   ]
  },
  {
   "cell_type": "code",
   "execution_count": 13,
   "metadata": {},
   "outputs": [
    {
     "name": "stdout",
     "output_type": "stream",
     "text": [
      "[1, 2, 3, 4, 5, 6, 7, 8]\n",
      "None\n",
      "[7, 1, 5, 8, 3, 4, 2, 6]\n"
     ]
    }
   ],
   "source": [
    "numbers = [1, 2, 3, 4, 5, 6, 7, 8]\n",
    "print(numbers)\n",
    "print(random.shuffle(numbers))\n",
    "\n",
    "random.shuffle(numbers)\n",
    "print(numbers)"
   ]
  },
  {
   "cell_type": "markdown",
   "metadata": {},
   "source": [
    "----"
   ]
  },
  {
   "cell_type": "markdown",
   "metadata": {},
   "source": [
    "### random.random()\n",
    "Random floating point values between 0.0 and 1.0."
   ]
  },
  {
   "cell_type": "code",
   "execution_count": 14,
   "metadata": {},
   "outputs": [
    {
     "name": "stdout",
     "output_type": "stream",
     "text": [
      "0.495010237695784\n",
      "0.8501869216871818\n",
      "0.608699890594937\n",
      "0.5108729078779687\n",
      "0.320328978771386\n",
      "0.19038794853461627\n"
     ]
    }
   ],
   "source": [
    "print(random.random())\n",
    "\n",
    "for i in range(5):\n",
    "    print(random.random())"
   ]
  },
  {
   "cell_type": "markdown",
   "metadata": {},
   "source": [
    "### uniform (from, to)\n",
    "Random float between a range of values"
   ]
  },
  {
   "cell_type": "code",
   "execution_count": 15,
   "metadata": {},
   "outputs": [
    {
     "name": "stdout",
     "output_type": "stream",
     "text": [
      "3.042750490669379\n",
      "9.718222062219235\n",
      "10.383693102532753\n",
      "10.212244138741038\n",
      "9.61768542983453\n",
      "9.881197975037349\n"
     ]
    }
   ],
   "source": [
    "print(random.uniform(2.1, 4.3))\n",
    "\n",
    "for i in range(5):\n",
    "    print(random.uniform(9.4, 10.7))"
   ]
  },
  {
   "cell_type": "code",
   "execution_count": null,
   "metadata": {},
   "outputs": [],
   "source": []
  }
 ],
 "metadata": {
  "kernelspec": {
   "display_name": "Python 3",
   "language": "python",
   "name": "python3"
  },
  "language_info": {
   "codemirror_mode": {
    "name": "ipython",
    "version": 3
   },
   "file_extension": ".py",
   "mimetype": "text/x-python",
   "name": "python",
   "nbconvert_exporter": "python",
   "pygments_lexer": "ipython3",
   "version": "3.8.8"
  }
 },
 "nbformat": 4,
 "nbformat_minor": 2
}
