{
 "cells": [
  {
   "cell_type": "markdown",
   "metadata": {
    "id": "zs7xA-t40QXq"
   },
   "source": [
    "## **Topics: Dynamic Programming-Arrays-Dictionaries-String-Sorting-Searching-Math**\n",
    "___\n"
   ]
  },
  {
   "cell_type": "markdown",
   "metadata": {
    "id": "rbz7bdMx0QX0"
   },
   "source": [
    "**1. House Robber**\n",
    "\n",
    "You are a professional robber planning to rob houses along a street. Each house has a certain amount of money stashed, the only constraint stopping you from robbing each of them is that adjacent houses have security systems connected and it will automatically contact the police if two adjacent houses were broken into on the same night.\n",
    "\n",
    "Given an integer array nums representing the amount of money of each house, return the maximum amount of money you can rob tonight without alerting the police.\n",
    "\n",
    " \n",
    "\n",
    "Example 1:\n",
    "Input: nums = [1,2,3,1]  \n",
    "Output: 4  \n",
    "Explanation: Rob house 1 (money = 1) and then rob house 3 (money = 3).  \n",
    "Total amount you can rob = 1 + 3 = 4.  \n",
    "\n",
    "Example 2:  \n",
    "Input: nums = [2,7,9,3,1]  \n",
    "Output: 12  \n",
    "Explanation: Rob house 1 (money = 2), rob house 3 (money = 9) and rob house 5 (money = 1).  \n",
    "Total amount you can rob = 2 + 9 + 1 = 12.  "
   ]
  },
  {
   "cell_type": "code",
   "execution_count": 1,
   "metadata": {
    "id": "zVDix0TO0QX3"
   },
   "outputs": [],
   "source": [
    "def rob(lst:list)->int:\n",
    "    n = len(lst)\n",
    "    if n==0:\n",
    "        return 0\n",
    "    \n",
    "    dp = [0]*n\n",
    "    dp[0] = lst[0]\n",
    "     \n",
    "    for i in range(1,n):\n",
    "        if (i==1):\n",
    "            dp[i] = max(lst[0], lst[1])\n",
    "        else:\n",
    "            dp[i] = max(dp[i-1], dp[i-2]+lst[i])\n",
    "    \n",
    "    return dp[-1]"
   ]
  },
  {
   "cell_type": "code",
   "execution_count": 2,
   "metadata": {
    "colab": {
     "base_uri": "https://localhost:8080/"
    },
    "executionInfo": {
     "elapsed": 4020,
     "status": "ok",
     "timestamp": 1625283861395,
     "user": {
      "displayName": "Aman Roland",
      "photoUrl": "https://lh3.googleusercontent.com/a-/AOh14GgVx_jS7yxiRP3I-pViq_GOAmsYtC7th9HKuzAydMc=s64",
      "userId": "18048666117095936338"
     },
     "user_tz": -330
    },
    "id": "5-lg7TMM0QX8",
    "outputId": "e3a16c99-5756-4a41-f198-870fc8e90c75"
   },
   "outputs": [
    {
     "data": {
      "text/plain": [
       "12"
      ]
     },
     "execution_count": 2,
     "metadata": {},
     "output_type": "execute_result"
    }
   ],
   "source": [
    "rob([2,7,9,3,1])"
   ]
  },
  {
   "cell_type": "markdown",
   "metadata": {
    "id": "a3yUER7F0QYB"
   },
   "source": [
    "**2. Best Time to Buy and Sell Stock**\n",
    "\n",
    "You are given an array prices where prices[i] is the price of a given stock on the ith day.\n",
    "\n",
    "You want to maximize your profit by choosing a single day to buy one stock and choosing a different day in the future to sell that stock.\n",
    "\n",
    "Return the maximum profit you can achieve from this transaction. If you cannot achieve any profit, return 0.\n",
    "\n",
    " \n",
    "\n",
    "Example 1:\n",
    "Input: prices = [7,1,5,3,6,4]  \n",
    "Output: 5  \n",
    "Explanation: Buy on day 2 (price = 1) and sell on day 5 (price = 6), profit = 6-1 = 5.  \n",
    "Note that buying on day 2 and selling on day 1 is not allowed because you must buy before you sell.  \n",
    "\n",
    "Example 2:  \n",
    "Input: prices = [7,6,4,3,1]  \n",
    "Output: 0   \n",
    "Explanation: In this case, no transactions are done and the max profit = 0.  "
   ]
  },
  {
   "cell_type": "code",
   "execution_count": 3,
   "metadata": {
    "id": "N3FwSl-T0QYH"
   },
   "outputs": [],
   "source": [
    "def buynsell(prices:list)->int:\n",
    "    \n",
    "    buy_price = float('inf')\n",
    "    profit = 0\n",
    "\n",
    "    for price in prices:\n",
    "        if(price < buy_price):\n",
    "            buy_price = price\n",
    "        else:\n",
    "            profit = max(profit, price - buy_price)\n",
    "    return profit"
   ]
  },
  {
   "cell_type": "code",
   "execution_count": 4,
   "metadata": {
    "colab": {
     "base_uri": "https://localhost:8080/"
    },
    "executionInfo": {
     "elapsed": 3768,
     "status": "ok",
     "timestamp": 1625283861410,
     "user": {
      "displayName": "Aman Roland",
      "photoUrl": "https://lh3.googleusercontent.com/a-/AOh14GgVx_jS7yxiRP3I-pViq_GOAmsYtC7th9HKuzAydMc=s64",
      "userId": "18048666117095936338"
     },
     "user_tz": -330
    },
    "id": "8jpsOLF00QYL",
    "outputId": "f0e83c6e-e4a3-4d86-c17a-8e0f95e9ae83"
   },
   "outputs": [
    {
     "data": {
      "text/plain": [
       "5"
      ]
     },
     "execution_count": 4,
     "metadata": {},
     "output_type": "execute_result"
    }
   ],
   "source": [
    "buynsell([7,1,5,3,6,4])"
   ]
  },
  {
   "cell_type": "markdown",
   "metadata": {
    "id": "cxaGMVDS0QYO"
   },
   "source": [
    "**3. Climbing Stairs**\n",
    "\n",
    "You are climbing a staircase. It takes n steps to reach the top.\n",
    "\n",
    "Each time you can either climb 1 or 2 steps. In how many distinct ways can you climb to the top?\n",
    "\n",
    "\n",
    "Example 1:  \n",
    "Input: n = 2  \n",
    "Output: 2  \n",
    "Explanation: There are two ways to climb to the top.  \n",
    "1. 1 step + 1 step  \n",
    "2. 2 steps  \n",
    "\n",
    "Example 2:  \n",
    "Input: n = 3  \n",
    "Output: 3  \n",
    "Explanation: There are three ways to climb to the top.  \n",
    "1. 1 step + 1 step + 1 step  \n",
    "2. 1 step + 2 steps  \n",
    "3. 2 steps + 1 step  "
   ]
  },
  {
   "cell_type": "code",
   "execution_count": 5,
   "metadata": {
    "executionInfo": {
     "elapsed": 1375,
     "status": "ok",
     "timestamp": 1625716673707,
     "user": {
      "displayName": "Aman Roland",
      "photoUrl": "https://lh3.googleusercontent.com/a-/AOh14GgVx_jS7yxiRP3I-pViq_GOAmsYtC7th9HKuzAydMc=s64",
      "userId": "18048666117095936338"
     },
     "user_tz": -330
    },
    "id": "Nivu479F0QYQ"
   },
   "outputs": [],
   "source": [
    "def climbingstairs(n:int)->int:\n",
    "    if(n==1):\n",
    "        return 1\n",
    "    \n",
    "    dp = [0]*(n+1)\n",
    "    # 0 1 2 3 4\n",
    "    # 0 1 2 3 4 5\n",
    "    \n",
    "    dp[1] = 1\n",
    "    dp[2] = 2\n",
    "    \n",
    "    for i in range(3, n+1):\n",
    "        dp[i] = dp[i-1]+dp[i-2]\n",
    "        \n",
    "    return dp[n]"
   ]
  },
  {
   "cell_type": "code",
   "execution_count": 6,
   "metadata": {
    "colab": {
     "base_uri": "https://localhost:8080/"
    },
    "executionInfo": {
     "elapsed": 5,
     "status": "ok",
     "timestamp": 1625716675013,
     "user": {
      "displayName": "Aman Roland",
      "photoUrl": "https://lh3.googleusercontent.com/a-/AOh14GgVx_jS7yxiRP3I-pViq_GOAmsYtC7th9HKuzAydMc=s64",
      "userId": "18048666117095936338"
     },
     "user_tz": -330
    },
    "id": "QakSbj0a0QYS",
    "outputId": "36952fd6-71d1-4c2f-e43e-5dc11cedc029"
   },
   "outputs": [
    {
     "data": {
      "text/plain": [
       "573147844013817084101"
      ]
     },
     "execution_count": 6,
     "metadata": {},
     "output_type": "execute_result"
    }
   ],
   "source": [
    "climbingstairs(100)"
   ]
  },
  {
   "cell_type": "markdown",
   "metadata": {
    "id": "Rvd8Pt4s0QYU"
   },
   "source": [
    "**4. Maximum Subarray**\n",
    "\n",
    "Given an integer array nums, find the contiguous subarray (containing at least one number) which has the largest sum and return its sum.\n",
    "\n",
    "Example 1:  \n",
    "Input: nums = [-2,1,-3,4,-1,2,1,-5,4]  \n",
    "Output: 6  \n",
    "Explanation: [4,-1,2,1] has the largest sum = 6.  \n",
    "\n",
    "Example 2:  \n",
    "Input: nums = [1]  \n",
    "Output: 1  \n",
    "\n",
    "Example 3:  \n",
    "Input: nums = [5,4,-1,7,8]  \n",
    "Output: 23  "
   ]
  },
  {
   "cell_type": "code",
   "execution_count": 7,
   "metadata": {
    "id": "lJOoi6pO0QYV"
   },
   "outputs": [],
   "source": [
    "def maxSubArray(nums:list):\n",
    "    current_subarray = max_subarray = nums[0]\n",
    "    \n",
    "    for num in nums[1:]:\n",
    "        current_subarray = max(num, current_subarray + num)\n",
    "        max_subarray = max(max_subarray, current_subarray)\n",
    "    return max_subarray"
   ]
  },
  {
   "cell_type": "code",
   "execution_count": 8,
   "metadata": {
    "colab": {
     "base_uri": "https://localhost:8080/"
    },
    "executionInfo": {
     "elapsed": 3658,
     "status": "ok",
     "timestamp": 1625283861435,
     "user": {
      "displayName": "Aman Roland",
      "photoUrl": "https://lh3.googleusercontent.com/a-/AOh14GgVx_jS7yxiRP3I-pViq_GOAmsYtC7th9HKuzAydMc=s64",
      "userId": "18048666117095936338"
     },
     "user_tz": -330
    },
    "id": "D5wq8zVu0QYX",
    "outputId": "f4264743-2e1b-4dcc-bf46-0d8d8506aced"
   },
   "outputs": [
    {
     "data": {
      "text/plain": [
       "6"
      ]
     },
     "execution_count": 8,
     "metadata": {},
     "output_type": "execute_result"
    }
   ],
   "source": [
    "maxSubArray( [-2,1,-3,4,-1,2,1,-5,4])"
   ]
  },
  {
   "cell_type": "markdown",
   "metadata": {
    "id": "fIfgRgpU0QYY"
   },
   "source": [
    "**5. Jump Game**\n",
    "\n",
    "Given an array of non-negative integers nums, you are initially positioned at the first index of the array.\n",
    "\n",
    "Each element in the array represents your maximum jump length at that position.\n",
    "\n",
    "Determine if you are able to reach the last index.\n",
    "\n",
    " \n",
    "\n",
    "Example 1:  \n",
    "Input: nums = [2,3,1,1,4]  \n",
    "Output: true  \n",
    "Explanation: Jump 1 step from index 0 to 1, then 3 steps to the last index.  \n",
    "\n",
    "Example 2:  \n",
    "Input: nums = [3,2,1,0,4]  \n",
    "Output: false  \n",
    "Explanation: You will always arrive at index 3 no matter what. Its maximum jump length is 0, which makes it impossible to reach the last index.  "
   ]
  },
  {
   "cell_type": "code",
   "execution_count": 9,
   "metadata": {
    "id": "0azR4ik-0QYa"
   },
   "outputs": [],
   "source": [
    "def canJump(A):\n",
    "        reachable = 0\n",
    "        for i, length in enumerate(A):\n",
    "            if i > reachable:\n",
    "                break\n",
    "            reachable = max(reachable, i + length)\n",
    "        return reachable >= len(A) - 1"
   ]
  },
  {
   "cell_type": "code",
   "execution_count": 10,
   "metadata": {
    "colab": {
     "base_uri": "https://localhost:8080/"
    },
    "executionInfo": {
     "elapsed": 3614,
     "status": "ok",
     "timestamp": 1625283861442,
     "user": {
      "displayName": "Aman Roland",
      "photoUrl": "https://lh3.googleusercontent.com/a-/AOh14GgVx_jS7yxiRP3I-pViq_GOAmsYtC7th9HKuzAydMc=s64",
      "userId": "18048666117095936338"
     },
     "user_tz": -330
    },
    "id": "loZJmtZI0QYb",
    "outputId": "8c6a9c59-c1fd-4030-b49f-d951c7d2fcdc"
   },
   "outputs": [
    {
     "data": {
      "text/plain": [
       "True"
      ]
     },
     "execution_count": 10,
     "metadata": {},
     "output_type": "execute_result"
    }
   ],
   "source": [
    "canJump([2,3,1,1,4])"
   ]
  },
  {
   "cell_type": "markdown",
   "metadata": {
    "id": "ZkicRo-E0QYc"
   },
   "source": [
    "**6. Move Zeroes**\n",
    "  \n",
    "Given an integer array nums, move all 0's to the end of it while maintaining the relative order of the non-zero elements.  \n",
    "  \n",
    "Note that you must do this in-place without making a copy of the array.  \n",
    "  \n",
    " \n",
    "\n",
    "Example 1:  \n",
    "Input: nums = [0,1,0,3,12]  \n",
    "Output: [1,3,12,0,0]  \n",
    "\n",
    "Example 2:  \n",
    "Input: nums = [0]  \n",
    "Output: [0]  "
   ]
  },
  {
   "cell_type": "code",
   "execution_count": 11,
   "metadata": {
    "id": "0UlSMZba0QYd"
   },
   "outputs": [],
   "source": [
    "def movezeros(lst:list)->list:\n",
    "    j=0\n",
    "    l=len(lst)\n",
    "    \n",
    "    for i in lst:\n",
    "        if i != 0:\n",
    "            lst[j]=i\n",
    "            j += 1\n",
    "\n",
    "    for k in range(j,l):\n",
    "        lst[k]=0\n",
    "    return lst"
   ]
  },
  {
   "cell_type": "code",
   "execution_count": 12,
   "metadata": {
    "colab": {
     "base_uri": "https://localhost:8080/"
    },
    "executionInfo": {
     "elapsed": 3552,
     "status": "ok",
     "timestamp": 1625283861458,
     "user": {
      "displayName": "Aman Roland",
      "photoUrl": "https://lh3.googleusercontent.com/a-/AOh14GgVx_jS7yxiRP3I-pViq_GOAmsYtC7th9HKuzAydMc=s64",
      "userId": "18048666117095936338"
     },
     "user_tz": -330
    },
    "id": "dbJ8Eo_N0QYe",
    "outputId": "d352b52b-388b-4881-b932-bf1099a2be58"
   },
   "outputs": [
    {
     "data": {
      "text/plain": [
       "[1, 3, 12, 0, 0]"
      ]
     },
     "execution_count": 12,
     "metadata": {},
     "output_type": "execute_result"
    }
   ],
   "source": [
    "movezeros([0,1,0,3,12])"
   ]
  },
  {
   "cell_type": "code",
   "execution_count": 13,
   "metadata": {
    "colab": {
     "base_uri": "https://localhost:8080/"
    },
    "executionInfo": {
     "elapsed": 3457,
     "status": "ok",
     "timestamp": 1625283861461,
     "user": {
      "displayName": "Aman Roland",
      "photoUrl": "https://lh3.googleusercontent.com/a-/AOh14GgVx_jS7yxiRP3I-pViq_GOAmsYtC7th9HKuzAydMc=s64",
      "userId": "18048666117095936338"
     },
     "user_tz": -330
    },
    "id": "9OgUDFXw0QYf",
    "outputId": "65979e0c-fb11-4d3f-f1bd-5d7b1913a156"
   },
   "outputs": [
    {
     "data": {
      "text/plain": [
       "[0]"
      ]
     },
     "execution_count": 13,
     "metadata": {},
     "output_type": "execute_result"
    }
   ],
   "source": [
    "movezeros([0])"
   ]
  },
  {
   "cell_type": "markdown",
   "metadata": {
    "id": "Wsn9Rm-40QYg"
   },
   "source": [
    "**7. Boats to Save People**\n",
    "\n",
    "\n",
    "You are given an array people where people[i] is the weight of the ith person, and an infinite number of boats where each boat can carry a maximum weight of limit. Each boat carries at most two people at the same time, provided the sum of the weight of those people is at most limit.\n",
    "\n",
    "Return the minimum number of boats to carry every given person.  \n",
    "\n",
    " \n",
    "\n",
    "Example 1:  \n",
    "Input: people = [1,2], limit = 3  \n",
    "Output: 1  \n",
    "Explanation: 1 boat (1, 2)  \n",
    "\n",
    "Example 2:  \n",
    "Input: people = [3,2,2,1], limit = 3  \n",
    "Output: 3  \n",
    "Explanation: 3 boats (1, 2), (2) and (3)  \n",
    "\n",
    "Example 3:  \n",
    "Input: people = [3,5,3,4], limit = 5  \n",
    "Output: 4  \n",
    "Explanation: 4 boats (3), (3), (4), (5)  "
   ]
  },
  {
   "cell_type": "code",
   "execution_count": 14,
   "metadata": {
    "id": "v-Jcjx_q0QYi"
   },
   "outputs": [],
   "source": [
    "def savepeople(lst:list, limit:int)->int:\n",
    "    \n",
    "    lst.sort()\n",
    "    \n",
    "    l=0\n",
    "    r=len(lst)-1\n",
    "    b=0\n",
    "    \n",
    "    \n",
    "    while l<=r:\n",
    "        if l==r:\n",
    "            b+=1\n",
    "            break\n",
    "        \n",
    "        if (lst[r]+lst[l]<=limit):\n",
    "            l+=1\n",
    "        \n",
    "        b=b+1\n",
    "        r-=1\n",
    "    return b"
   ]
  },
  {
   "cell_type": "code",
   "execution_count": 15,
   "metadata": {
    "colab": {
     "base_uri": "https://localhost:8080/"
    },
    "executionInfo": {
     "elapsed": 3427,
     "status": "ok",
     "timestamp": 1625283861465,
     "user": {
      "displayName": "Aman Roland",
      "photoUrl": "https://lh3.googleusercontent.com/a-/AOh14GgVx_jS7yxiRP3I-pViq_GOAmsYtC7th9HKuzAydMc=s64",
      "userId": "18048666117095936338"
     },
     "user_tz": -330
    },
    "id": "UxkrKiGH0QYj",
    "outputId": "cb66a414-d3ee-45c0-fb79-c14722bfd53d"
   },
   "outputs": [
    {
     "data": {
      "text/plain": [
       "1"
      ]
     },
     "execution_count": 15,
     "metadata": {},
     "output_type": "execute_result"
    }
   ],
   "source": [
    "savepeople([2,1],3)"
   ]
  },
  {
   "cell_type": "markdown",
   "metadata": {
    "id": "GK1xp2i-0QYl"
   },
   "source": [
    "**8. Valid Mountain Array**\n",
    "\n",
    "Given an array of integers arr, return true if and only if it is a valid mountain array.  \n",
    "\n",
    "Recall that arr is a mountain array if and only if:  \n",
    "  \n",
    "arr.length >= 3  \n",
    "There exists some i with 0 < i < arr.length - 1 such that:  \n",
    "arr[0] < arr[1] < ... < arr[i - 1] < arr[i]  \n",
    "arr[i] > arr[i + 1] > ... > arr[arr.length - 1]  \n",
    "\n",
    "   \n",
    "\n",
    "Example 1:  \n",
    "Input: arr = [2,1]  \n",
    "Output: false  \n",
    "\n",
    "Example 2:  \n",
    "Input: arr = [3,5,5]  \n",
    "Output: false  \n",
    "\n",
    "Example 3:  \n",
    "Input: arr = [0,3,2,1]  \n",
    "Output: true  "
   ]
  },
  {
   "cell_type": "code",
   "execution_count": 16,
   "metadata": {
    "id": "73bIQGdZ0QYl"
   },
   "outputs": [],
   "source": [
    "def hill(lst):\n",
    "    if len(lst)<3:\n",
    "        return False\n",
    "    \n",
    "    i=1\n",
    "    while (i<len(lst) and lst[i-1]<lst[i]):\n",
    "        i+=1\n",
    "    \n",
    "    if i == len(lst) or i==1:\n",
    "        return False\n",
    "    \n",
    "    while (i<len(lst) and lst[i]<lst[i-1]):\n",
    "        i +=1\n",
    "        \n",
    "    return i==len(lst)"
   ]
  },
  {
   "cell_type": "code",
   "execution_count": 17,
   "metadata": {
    "colab": {
     "base_uri": "https://localhost:8080/"
    },
    "executionInfo": {
     "elapsed": 3411,
     "status": "ok",
     "timestamp": 1625283861469,
     "user": {
      "displayName": "Aman Roland",
      "photoUrl": "https://lh3.googleusercontent.com/a-/AOh14GgVx_jS7yxiRP3I-pViq_GOAmsYtC7th9HKuzAydMc=s64",
      "userId": "18048666117095936338"
     },
     "user_tz": -330
    },
    "id": "grq51W410QYm",
    "outputId": "266315cb-ca19-446c-cffe-977ddcb5ff8c"
   },
   "outputs": [
    {
     "data": {
      "text/plain": [
       "True"
      ]
     },
     "execution_count": 17,
     "metadata": {},
     "output_type": "execute_result"
    }
   ],
   "source": [
    "hill([0,3,2,1])"
   ]
  },
  {
   "cell_type": "markdown",
   "metadata": {
    "id": "Ozh5BDhG0QYo"
   },
   "source": [
    "**9. Container With Most Water**\n",
    "\n",
    "Given n non-negative integers a1, a2, ..., an , where each represents a point at coordinate (i, ai). n vertical lines are drawn such that the two endpoints of the line i is at (i, ai) and (i, 0). Find two lines, which, together with the x-axis forms a container, such that the container contains the most water.\n",
    "\n",
    "Notice that you may not slant the container.\n",
    "\n",
    "Input: height = [1,8,6,2,5,4,8,3,7]  \n",
    "Output: 49"
   ]
  },
  {
   "cell_type": "code",
   "execution_count": 18,
   "metadata": {
    "id": "wiytSAwQ0QYp"
   },
   "outputs": [],
   "source": [
    "def mostwater(A):\n",
    "    left = 0\n",
    "    right = len(A)-1\n",
    "    area = 0\n",
    "    \n",
    "    while left<=right:\n",
    "        area = max(area, min(A[left], A[right])*(right-left))\n",
    "        \n",
    "        if A[left]<A[right]:\n",
    "            left+=1\n",
    "        else:\n",
    "            right-=1\n",
    "    \n",
    "    return area "
   ]
  },
  {
   "cell_type": "code",
   "execution_count": 19,
   "metadata": {
    "colab": {
     "base_uri": "https://localhost:8080/"
    },
    "executionInfo": {
     "elapsed": 3386,
     "status": "ok",
     "timestamp": 1625283861474,
     "user": {
      "displayName": "Aman Roland",
      "photoUrl": "https://lh3.googleusercontent.com/a-/AOh14GgVx_jS7yxiRP3I-pViq_GOAmsYtC7th9HKuzAydMc=s64",
      "userId": "18048666117095936338"
     },
     "user_tz": -330
    },
    "id": "HxtB-Jpw0QYq",
    "outputId": "786c1dcd-9065-4c28-dba3-47f17e428a5b"
   },
   "outputs": [
    {
     "data": {
      "text/plain": [
       "49"
      ]
     },
     "execution_count": 19,
     "metadata": {},
     "output_type": "execute_result"
    }
   ],
   "source": [
    "mostwater([1,8,6,2,5,4,8,3,7])"
   ]
  },
  {
   "cell_type": "markdown",
   "metadata": {
    "id": "cmPrSGhR0QYr"
   },
   "source": [
    "**10. Longest Substring Without Repeating Characters**\n",
    "\n",
    "Given a string s, find the length of the longest substring without repeating characters.\n",
    "\n",
    " \n",
    "\n",
    "Example 1:  \n",
    "Input: s = \"abcabcbb\"  \n",
    "Output: 3  \n",
    "Explanation: The answer is \"abc\", with the length of 3.  \n",
    "\n",
    "Example 2:  \n",
    "Input: s = \"bbbbb\"  \n",
    "Output: 1  \n",
    "Explanation: The answer is \"b\", with the length of 1.  \n",
    "\n",
    "Example 3:  \n",
    "Input: s = \"pwwkew\"  \n",
    "Output: 3  \n",
    "Explanation: The answer is \"wke\", with the length of 3.  \n",
    "Notice that the answer must be a substring, \"pwke\" is a subsequence and not a substring.  \n",
    "\n",
    "Example 4:  \n",
    "Input: s = \"\"  \n",
    "Output: 0  "
   ]
  },
  {
   "cell_type": "code",
   "execution_count": 20,
   "metadata": {
    "id": "z9-Z3HJl0QYs"
   },
   "outputs": [],
   "source": [
    "def longestSubstring(s:str) -> int:\n",
    "    m = {}\n",
    "    left = 0\n",
    "    right = 0\n",
    "    ans = 0\n",
    "    n = len(s)\n",
    "    while(left<n and right<n):\n",
    "        el = s[right]\n",
    "        if(el in m):\n",
    "            left = max(left,m[el]+1)\n",
    "        m[el] = right\n",
    "        ans = max(ans,right-left+1)\n",
    "        right+=1\n",
    "    return ans"
   ]
  },
  {
   "cell_type": "code",
   "execution_count": 21,
   "metadata": {
    "colab": {
     "base_uri": "https://localhost:8080/"
    },
    "executionInfo": {
     "elapsed": 3353,
     "status": "ok",
     "timestamp": 1625283861479,
     "user": {
      "displayName": "Aman Roland",
      "photoUrl": "https://lh3.googleusercontent.com/a-/AOh14GgVx_jS7yxiRP3I-pViq_GOAmsYtC7th9HKuzAydMc=s64",
      "userId": "18048666117095936338"
     },
     "user_tz": -330
    },
    "id": "-dlRlBX_0QYt",
    "outputId": "afff50a1-8188-42c7-cc85-e05997aaccff"
   },
   "outputs": [
    {
     "data": {
      "text/plain": [
       "3"
      ]
     },
     "execution_count": 21,
     "metadata": {},
     "output_type": "execute_result"
    }
   ],
   "source": [
    "s = \"abcabcbb\"\n",
    "longestSubstring(s)"
   ]
  },
  {
   "cell_type": "code",
   "execution_count": 22,
   "metadata": {
    "colab": {
     "base_uri": "https://localhost:8080/"
    },
    "executionInfo": {
     "elapsed": 3321,
     "status": "ok",
     "timestamp": 1625283861482,
     "user": {
      "displayName": "Aman Roland",
      "photoUrl": "https://lh3.googleusercontent.com/a-/AOh14GgVx_jS7yxiRP3I-pViq_GOAmsYtC7th9HKuzAydMc=s64",
      "userId": "18048666117095936338"
     },
     "user_tz": -330
    },
    "id": "gLfvmEpQ0QYu",
    "outputId": "bbe3fce4-2279-4da8-8732-e796bda4598e"
   },
   "outputs": [
    {
     "data": {
      "text/plain": [
       "0"
      ]
     },
     "execution_count": 22,
     "metadata": {},
     "output_type": "execute_result"
    }
   ],
   "source": [
    "s =\"\"\n",
    "longestSubstring(s)"
   ]
  },
  {
   "cell_type": "code",
   "execution_count": 23,
   "metadata": {
    "colab": {
     "base_uri": "https://localhost:8080/"
    },
    "executionInfo": {
     "elapsed": 3291,
     "status": "ok",
     "timestamp": 1625283861490,
     "user": {
      "displayName": "Aman Roland",
      "photoUrl": "https://lh3.googleusercontent.com/a-/AOh14GgVx_jS7yxiRP3I-pViq_GOAmsYtC7th9HKuzAydMc=s64",
      "userId": "18048666117095936338"
     },
     "user_tz": -330
    },
    "id": "v40NOwVz0QYv",
    "outputId": "f20520d2-0717-49db-abd0-642cf6961caf"
   },
   "outputs": [
    {
     "data": {
      "text/plain": [
       "3"
      ]
     },
     "execution_count": 23,
     "metadata": {},
     "output_type": "execute_result"
    }
   ],
   "source": [
    " s = \"pwwkew\"\n",
    "longestSubstring(s)"
   ]
  },
  {
   "cell_type": "code",
   "execution_count": 24,
   "metadata": {
    "colab": {
     "base_uri": "https://localhost:8080/"
    },
    "executionInfo": {
     "elapsed": 3234,
     "status": "ok",
     "timestamp": 1625283861495,
     "user": {
      "displayName": "Aman Roland",
      "photoUrl": "https://lh3.googleusercontent.com/a-/AOh14GgVx_jS7yxiRP3I-pViq_GOAmsYtC7th9HKuzAydMc=s64",
      "userId": "18048666117095936338"
     },
     "user_tz": -330
    },
    "id": "tQa9bMRa0QYw",
    "outputId": "13d0067d-4b24-4268-f127-ea48321df51b"
   },
   "outputs": [
    {
     "data": {
      "text/plain": [
       "1"
      ]
     },
     "execution_count": 24,
     "metadata": {},
     "output_type": "execute_result"
    }
   ],
   "source": [
    "s ='bbb'\n",
    "longestSubstring(s)"
   ]
  },
  {
   "cell_type": "markdown",
   "metadata": {
    "id": "bxmBioRQ0QYx"
   },
   "source": [
    "**11. Find First and Last Position of Element in Sorted Array**\n",
    "\n",
    "Given an array of integers nums sorted in ascending order, find the starting and ending position of a given target value.  \n",
    "\n",
    "If target is not found in the array, return [-1, -1].  \n",
    "\n",
    "You must write an algorithm with O(log n) runtime complexity.  \n",
    "\n",
    " \n",
    "\n",
    "Example 1:  \n",
    "Input: nums = [5,7,7,8,8,10], target = 8  \n",
    "Output: [3,4]  \n",
    "\n",
    "Example 2:  \n",
    "Input: nums = [5,7,7,8,8,10], target = 6  \n",
    "Output: [-1,-1]  \n",
    "\n",
    "Example 3:  \n",
    "Input: nums = [], target = 0  \n",
    "Output: [-1,-1] "
   ]
  },
  {
   "cell_type": "code",
   "execution_count": 25,
   "metadata": {
    "id": "49AKm8hz0QYy"
   },
   "outputs": [],
   "source": [
    "def searchfirst(A:list, tar:int)->list:\n",
    "    left=0\n",
    "    right=len(A)-1\n",
    "\n",
    "    while(left<=right):\n",
    "        mid = (left+right)//2\n",
    "        if(A[mid]==tar):\n",
    "            if ((mid-1)>0 and A[mid-1]!=tar or mid==0):\n",
    "                return mid\n",
    "            right = mid-1\n",
    "        elif(A[mid]>tar):\n",
    "            right = mid-1\n",
    "        else:\n",
    "            left=mid+1\n",
    "    return -1\n",
    "\n",
    "\n",
    "def searchlast(A:list, tar:int)->list:\n",
    "    left=0\n",
    "    right=len(A)-1\n",
    "\n",
    "    while(left <= right):\n",
    "        mid = left+(right-left)//2\n",
    "        if(A[mid] == tar):\n",
    "            if((mid+1)<len(A) and A[mid+1]!=tar or mid == len(A)-1):\n",
    "                return mid\n",
    "            left = mid+1\n",
    "        elif(A[mid] > tar):\n",
    "            right = mid-1\n",
    "        else:\n",
    "            left = mid+1\n",
    "\n",
    "    return -1\n",
    "\n",
    "\n",
    "def firstnlast(A:list, tar:int)->list:\n",
    "    left = searchfirst(A, tar)\n",
    "    right = searchlast(A, tar)\n",
    "\n",
    "    return [left, right]"
   ]
  },
  {
   "cell_type": "code",
   "execution_count": 26,
   "metadata": {
    "colab": {
     "base_uri": "https://localhost:8080/"
    },
    "executionInfo": {
     "elapsed": 3195,
     "status": "ok",
     "timestamp": 1625283861501,
     "user": {
      "displayName": "Aman Roland",
      "photoUrl": "https://lh3.googleusercontent.com/a-/AOh14GgVx_jS7yxiRP3I-pViq_GOAmsYtC7th9HKuzAydMc=s64",
      "userId": "18048666117095936338"
     },
     "user_tz": -330
    },
    "id": "lx1v9Xi10QYz",
    "outputId": "21c542e9-7cb1-4a62-9639-135f7a7c5323"
   },
   "outputs": [
    {
     "data": {
      "text/plain": [
       "[3, 4]"
      ]
     },
     "execution_count": 26,
     "metadata": {},
     "output_type": "execute_result"
    }
   ],
   "source": [
    "firstnlast([5,7,7,8,8,10],8)"
   ]
  },
  {
   "cell_type": "markdown",
   "metadata": {
    "id": "V-72Ocu30QY0"
   },
   "source": [
    "**12. First bad version**\n",
    "\n",
    "You are a product manager and currently leading a team to develop a new product. Unfortunately, the latest version of your product fails the quality check. Since each version is developed based on the previous version, all the versions after a bad version are also bad.\n",
    "\n",
    "Suppose you have n versions [1, 2, ..., n] and you want to find out the first bad one, which causes all the following ones to be bad.\n",
    "\n",
    "You are given an API bool isBadVersion(version) which returns whether version is bad. Implement a function to find the first bad version. You should minimize the number of calls to the API.\n",
    "\n",
    " \n",
    "\n",
    "Example 1:  \n",
    "\n",
    "Input: n = 5, bad = 4  \n",
    "Output: 4  \n",
    "Explanation:  \n",
    "call isBadVersion(3) -> false  \n",
    "call isBadVersion(5) -> true  \n",
    "call isBadVersion(4) -> true  \n",
    "Then 4 is the first bad version.  \n",
    "Example 2:  \n",
    "\n",
    "Input: n = 1, bad = 1  \n",
    "Output: 1  "
   ]
  },
  {
   "cell_type": "code",
   "execution_count": 27,
   "metadata": {
    "id": "Dc6WwITQ0QY1"
   },
   "outputs": [],
   "source": [
    "def firstBadVersion(self, n):\n",
    "    left = 1\n",
    "    right = n\n",
    "\n",
    "    while(left < right):\n",
    "        mid = left+(right-left)//2\n",
    "        if not isBadVersion(mid):\n",
    "            left = mid+1\n",
    "        else:\n",
    "            right = mid\n",
    "    return left"
   ]
  },
  {
   "cell_type": "markdown",
   "metadata": {
    "id": "uqw5nKhQ0QY3"
   },
   "source": [
    "**13. Remove Duplicates from Sorted Array**\n",
    "\n",
    "Given an integer array nums sorted in non-decreasing order, remove the duplicates in-place such that each unique element appears only once. The relative order of the elements should be kept the same.\n",
    "\n",
    "Since it is impossible to change the length of the array in some languages, you must instead have the result be placed in the first part of the array nums. More formally, if there are k elements after removing the duplicates, then the first k elements of nums should hold the final result. It does not matter what you leave beyond the first k elements.\n",
    "\n",
    "Return k after placing the final result in the first k slots of nums.\n",
    "\n",
    "Do not allocate extra space for another array. You must do this by modifying the input array in-place with O(1) extra memory.\n",
    "\n",
    "Example 1:  \n",
    "Input: nums = [1,1,2]  \n",
    "Output: 2, nums = [1,2,_]  \n",
    "Explanation: Your function should return k = 2, with the first two elements of nums being 1 and 2 respectively.\n",
    "It does not matter what you leave beyond the returned k (hence they are underscores).  \n",
    "\n",
    "Example 2:  \n",
    "Input: nums = [0,0,1,1,1,2,2,3,3,4]  \n",
    "Output: 5, nums = [0,1,2,3,4,_ ,_ ,_ ,_ ,_]  \n",
    "Explanation: Your function should return k = 5, with the first five elements of nums being 0, 1, 2, 3, and 4 respectively.\n",
    "It does not matter what you leave beyond the returned k (hence they are underscores).  "
   ]
  },
  {
   "cell_type": "code",
   "execution_count": 28,
   "metadata": {
    "id": "STK3wm-Z0QY4"
   },
   "outputs": [],
   "source": [
    "def removeDuplicates(A):\n",
    "    i = 0\n",
    "    j = 0\n",
    "    \n",
    "    while j < len(A):\n",
    "        if A[j]!=A[i]:\n",
    "            i += 1\n",
    "            A[i]=A[j]\n",
    "        j+=1\n",
    "    \n",
    "    unique = i+1\n",
    "    \n",
    "    for num in range(i+1, len(A)):\n",
    "        A[num]=\"_\"\n",
    "    \n",
    "    return unique, A"
   ]
  },
  {
   "cell_type": "code",
   "execution_count": 29,
   "metadata": {
    "colab": {
     "base_uri": "https://localhost:8080/"
    },
    "executionInfo": {
     "elapsed": 3136,
     "status": "ok",
     "timestamp": 1625283861510,
     "user": {
      "displayName": "Aman Roland",
      "photoUrl": "https://lh3.googleusercontent.com/a-/AOh14GgVx_jS7yxiRP3I-pViq_GOAmsYtC7th9HKuzAydMc=s64",
      "userId": "18048666117095936338"
     },
     "user_tz": -330
    },
    "id": "kUZVbgSg0QY5",
    "outputId": "99ac8b68-f41f-4939-a24f-6a22163b96b4"
   },
   "outputs": [
    {
     "data": {
      "text/plain": [
       "(5, [0, 1, 2, 3, 4, '_', '_', '_', '_', '_'])"
      ]
     },
     "execution_count": 29,
     "metadata": {},
     "output_type": "execute_result"
    }
   ],
   "source": [
    "removeDuplicates([0,0,1,1,1,2,2,3,3,4])"
   ]
  },
  {
   "cell_type": "markdown",
   "metadata": {
    "id": "l2Pu4rjy0QY7"
   },
   "source": [
    "**14. Remove Element**\n",
    "\n",
    "Given an integer array nums and an integer val, remove all occurrences of val in nums in-place. The relative order of the elements may be changed.\n",
    "\n",
    "Since it is impossible to change the length of the array in some languages, you must instead have the result be placed in the first part of the array nums. More formally, if there are k elements after removing the duplicates, then the first k elements of nums should hold the final result. It does not matter what you leave beyond the first k elements.\n",
    "\n",
    "Return k after placing the final result in the first k slots of nums.\n",
    "\n",
    "Do not allocate extra space for another array. You must do this by modifying the input array in-place with O(1) extra memory.  \n",
    "\n",
    "Example 1:  \n",
    "Input: nums = [3,2,2,3], val = 3  \n",
    "Output: 2, nums = [2,2,_,_]  \n",
    "Explanation: Your function should return k = 2, with the first two elements of nums being 2.  \n",
    "It does not matter what you leave beyond the returned k (hence they are underscores).  \n",
    "\n",
    "Example 2:  \n",
    "Input: nums = [0,1,2,2,3,0,4,2], val = 2  \n",
    "Output: 5, nums = [0,1,4,0,3,_,_,_]  \n",
    "Explanation: Your function should return k = 5, with the first five elements of nums containing 0, 0, 1, 3, and 4.  \n",
    "Note that the five elements can be returned in any order.  \n",
    "It does not matter what you leave beyond the returned k (hence they are underscores).  "
   ]
  },
  {
   "cell_type": "code",
   "execution_count": 30,
   "metadata": {
    "id": "a-tdLj7G0QY8"
   },
   "outputs": [],
   "source": [
    " def removeElement(A, elem):\n",
    "        i =0\n",
    "        j = len(A)-1\n",
    "        while i <= j:\n",
    "            if A[i] == elem:\n",
    "                A[i], A[j] = A[j], A[i]\n",
    "                j-= 1\n",
    "            else:\n",
    "                i += 1\n",
    "        return j + 1, A"
   ]
  },
  {
   "cell_type": "code",
   "execution_count": 31,
   "metadata": {
    "colab": {
     "base_uri": "https://localhost:8080/"
    },
    "executionInfo": {
     "elapsed": 3083,
     "status": "ok",
     "timestamp": 1625283861514,
     "user": {
      "displayName": "Aman Roland",
      "photoUrl": "https://lh3.googleusercontent.com/a-/AOh14GgVx_jS7yxiRP3I-pViq_GOAmsYtC7th9HKuzAydMc=s64",
      "userId": "18048666117095936338"
     },
     "user_tz": -330
    },
    "id": "euJLRwdJ0QY-",
    "outputId": "31577a50-5f5b-4cc5-ab3f-bc77dfe07856"
   },
   "outputs": [
    {
     "data": {
      "text/plain": [
       "(5, [0, 1, 4, 0, 3, 2, 2, 2, 2])"
      ]
     },
     "execution_count": 31,
     "metadata": {},
     "output_type": "execute_result"
    }
   ],
   "source": [
    "removeElement([0,1,2,2,3,0,4,2,2], 2)"
   ]
  },
  {
   "cell_type": "markdown",
   "metadata": {
    "id": "fEewtJii0QZA"
   },
   "source": [
    "**15. Majority Element**\n",
    "\n",
    "Given an array nums of size n, return the majority element.  \n",
    "  \n",
    "The majority element is the element that appears more than ⌊n / 2⌋ times. You may assume that the majority element always exists in the array.  \n",
    "\n",
    " \n",
    "\n",
    "Example 1:  \n",
    "Input: nums = [3,2,3]  \n",
    "Output: 3  \n",
    "\n",
    "Example 2:  \n",
    "Input: nums = [2,2,1,1,1,2,2]  \n",
    "Output: 2  "
   ]
  },
  {
   "cell_type": "code",
   "execution_count": 32,
   "metadata": {
    "id": "gexSKxiP0QZB"
   },
   "outputs": [],
   "source": [
    "def MajorityElement(A):\n",
    "    d = {}\n",
    "    for i in A:\n",
    "        if i in d:\n",
    "            d[i]+=1\n",
    "        else:\n",
    "            d[i] = 1\n",
    "    \n",
    "    for key, val in d.items():\n",
    "        if val>len(A)//2:\n",
    "            return "
   ]
  },
  {
   "cell_type": "code",
   "execution_count": 33,
   "metadata": {
    "id": "_k2RixGo0QZC"
   },
   "outputs": [],
   "source": [
    "MajorityElement([3,2,3])"
   ]
  },
  {
   "cell_type": "markdown",
   "metadata": {
    "id": "lrjtm-uy0QZD"
   },
   "source": [
    "**16. Shortest Word Distance**  \n",
    "\n",
    "\n",
    "Given a list of words and two words word1 and word2, return the shortest distance between these two words in the list.\n",
    "\n",
    "For example, Assume that words = [\"practice\", \"makes\", \"perfect\", \"coding\", \"makes\"].\n",
    "\n",
    "Given word1 = “coding”, word2 = “practice”, return 3. Given word1 = \"makes\", word2 = \"coding\", return 1."
   ]
  },
  {
   "cell_type": "code",
   "execution_count": 34,
   "metadata": {
    "id": "UYkp3urm0QZE"
   },
   "outputs": [],
   "source": [
    "def shortdistance(A, w1, w2):\n",
    "    dist = float('inf')\n",
    "    idx1 = None\n",
    "    idx2 = None\n",
    "    for idx, word in enumerate(A):\n",
    "        if word == w1:\n",
    "            idx1=idx\n",
    "        elif word == w2:\n",
    "            idx2=idx\n",
    "    \n",
    "        if idx1 is not None and idx2 is not None:\n",
    "            dist = min(dist, abs(idx1-idx2))\n",
    "    return dist"
   ]
  },
  {
   "cell_type": "code",
   "execution_count": 35,
   "metadata": {
    "colab": {
     "base_uri": "https://localhost:8080/"
    },
    "executionInfo": {
     "elapsed": 3049,
     "status": "ok",
     "timestamp": 1625283861546,
     "user": {
      "displayName": "Aman Roland",
      "photoUrl": "https://lh3.googleusercontent.com/a-/AOh14GgVx_jS7yxiRP3I-pViq_GOAmsYtC7th9HKuzAydMc=s64",
      "userId": "18048666117095936338"
     },
     "user_tz": -330
    },
    "id": "N0oY1B4L0QZF",
    "outputId": "5af53bd7-e98d-4c7c-ec36-0598a3ed2cc3"
   },
   "outputs": [
    {
     "data": {
      "text/plain": [
       "2"
      ]
     },
     "execution_count": 35,
     "metadata": {},
     "output_type": "execute_result"
    }
   ],
   "source": [
    "shortdistance([\"practice\", \"makes\", \"perfect\", \"coding\", \"makes\",\"practice\"],w1='coding', w2 = 'practice')"
   ]
  },
  {
   "cell_type": "markdown",
   "metadata": {
    "id": "H3aVkhzB0QZG"
   },
   "source": [
    "**17. Fizz Buzz**\n",
    "\n",
    "Given an integer n, return a string array answer (1-indexed) where:  \n",
    "  \n",
    "answer[i] == \"FizzBuzz\" if i is divisible by 3 and 5.  \n",
    "answer[i] == \"Fizz\" if i is divisible by 3.  \n",
    "answer[i] == \"Buzz\" if i is divisible by 5.  \n",
    "answer[i] == i if non of the above conditions are true.   \n",
    "  \n",
    "Example 1:  \n",
    "Input: n = 3  \n",
    "Output: [\"1\",\"2\",\"Fizz\"]  \n",
    "\n",
    "Example 2:  \n",
    "Input: n = 5  \n",
    "Output: [\"1\",\"2\",\"Fizz\",\"4\",\"Buzz\"]  \n",
    "\n",
    "Example 3:  \n",
    "Input: n = 15  \n",
    "Output: [\"1\",\"2\",\"Fizz\",\"4\",\"Buzz\",\"Fizz\",\"7\",\"8\",\"Fizz\",\"Buzz\",\"11\",\"Fizz\",\"13\",\"14\",\"FizzBuzz\"]  "
   ]
  },
  {
   "cell_type": "code",
   "execution_count": 36,
   "metadata": {
    "id": "Xz26PQv40QZI"
   },
   "outputs": [],
   "source": [
    "def FizzBuzz(n):\n",
    "    lst=[]\n",
    "    for num in range(1,n+1):\n",
    "        if num%3==0 and num%5==0:\n",
    "            lst.append(\"FizzBuzz\")\n",
    "        elif num%3==0:\n",
    "            lst.append(\"Fizz\")\n",
    "        elif num%5==0:\n",
    "            lst.append(\"Buzz\")\n",
    "        else:\n",
    "            lst.append(num)\n",
    "    return lst"
   ]
  },
  {
   "cell_type": "code",
   "execution_count": 37,
   "metadata": {
    "colab": {
     "base_uri": "https://localhost:8080/"
    },
    "executionInfo": {
     "elapsed": 3028,
     "status": "ok",
     "timestamp": 1625283861558,
     "user": {
      "displayName": "Aman Roland",
      "photoUrl": "https://lh3.googleusercontent.com/a-/AOh14GgVx_jS7yxiRP3I-pViq_GOAmsYtC7th9HKuzAydMc=s64",
      "userId": "18048666117095936338"
     },
     "user_tz": -330
    },
    "id": "u1oL1DQJ0QZJ",
    "outputId": "2bd3e36c-b2b2-4471-95ee-a5b3ca926906"
   },
   "outputs": [
    {
     "data": {
      "text/plain": [
       "[1, 2, 'Fizz', 4, 'Buzz', 'Fizz', 7, 8, 'Fizz', 'Buzz', 11, 'Fizz']"
      ]
     },
     "execution_count": 37,
     "metadata": {},
     "output_type": "execute_result"
    }
   ],
   "source": [
    "FizzBuzz(12)"
   ]
  },
  {
   "cell_type": "markdown",
   "metadata": {
    "id": "6hq0emN70QZL"
   },
   "source": [
    "**18. Third Maximum Number**\n",
    "\n",
    "Given integer array nums, return the third maximum number in this array. If the third maximum does not exist, return the maximum number.  \n",
    "  \n",
    "Example 1:  \n",
    "Input: nums = [3,2,1]  \n",
    "Output: 1  \n",
    "Explanation: The third maximum is 1.  \n",
    "\n",
    "Example 2:  \n",
    "Input: nums = [1,2]  \n",
    "Output: 2  \n",
    "Explanation: The third maximum does not exist, so the maximum (2) is returned instead.  \n",
    "\n",
    "Example 3:  \n",
    "Input: nums = [2,2,3,1]  \n",
    "Output: 1  \n",
    "Explanation: Note that the third maximum here means the third maximum distinct number.  \n",
    "Both numbers with value 2 are both considered as second maximum.  "
   ]
  },
  {
   "cell_type": "code",
   "execution_count": 38,
   "metadata": {
    "id": "mgtMGYaw0QZM"
   },
   "outputs": [],
   "source": [
    "def thirdlargest(nums:list)->int:\n",
    "    count = 0\n",
    "    top = [float(\"-inf\")]*3\n",
    "    \n",
    "    for num in nums:\n",
    "        if num >top[0]:\n",
    "            top[0], top[1],top[2] = num, top[0], top[1]\n",
    "            count += 1\n",
    "        elif num!=top[0] and num> top[1]:\n",
    "            top[1],top[2] = num, top[1]\n",
    "            count +=1\n",
    "        elif num!=top[0] and num !=top[1] and num>=top[2]:\n",
    "            top[2] = num\n",
    "            count +=1\n",
    "            \n",
    "    if count <3:\n",
    "        return top[0]\n",
    "    return top[2]"
   ]
  },
  {
   "cell_type": "code",
   "execution_count": 39,
   "metadata": {
    "colab": {
     "base_uri": "https://localhost:8080/"
    },
    "executionInfo": {
     "elapsed": 2980,
     "status": "ok",
     "timestamp": 1625283861573,
     "user": {
      "displayName": "Aman Roland",
      "photoUrl": "https://lh3.googleusercontent.com/a-/AOh14GgVx_jS7yxiRP3I-pViq_GOAmsYtC7th9HKuzAydMc=s64",
      "userId": "18048666117095936338"
     },
     "user_tz": -330
    },
    "id": "FmToLb5B0QZN",
    "outputId": "a2ea0527-0f20-4610-a170-4c081fd0f1b3"
   },
   "outputs": [
    {
     "data": {
      "text/plain": [
       "1"
      ]
     },
     "execution_count": 39,
     "metadata": {},
     "output_type": "execute_result"
    }
   ],
   "source": [
    "thirdlargest([2,2,3,1])"
   ]
  },
  {
   "cell_type": "markdown",
   "metadata": {
    "id": "mc_dchg30QZO"
   },
   "source": [
    "**19. Valid Word Square**\n",
    "\n",
    "Given a sequence of words, check whether it forms a .\n",
    "\n",
    "A sequence of words forms a valid word square if the k^th row and column read the exact same string, where 0 ≤ k < max(numRows, numColumns).\n",
    "\n",
    "Example \n",
    "\n",
    "Example1  \n",
    "Input:  \n",
    "[\n",
    "  \"abcd\",\n",
    "  \"bnrt\",\n",
    "  \"crmy\",\n",
    "  \"dtye\"\n",
    "]  \n",
    "Output: true    \n",
    "Explanation:    \n",
    "The first row and first column both read \"abcd\".\n",
    "The second row and second column both read \"bnrt\".\n",
    "The third row and third column both read \"crmy\".\n",
    "The fourth row and fourth column both read \"dtye\".\n",
    "  \n",
    "Therefore, it is a valid word square.  \n",
    "\n",
    "Example2   \n",
    "Input:  \n",
    "[\n",
    "  \"abcd\",\n",
    "  \"bnrt\",\n",
    "  \"crm\",\n",
    "  \"dt\"\n",
    "]  \n",
    "Output: true  \n",
    "Explanation:  \n",
    "The first row and first column both read \"abcd\".\n",
    "The second row and second column both read \"bnrt\".\n",
    "The third row and third column both read \"crm\".\n",
    "The fourth row and fourth column both read \"dt\".\n",
    "  \n",
    "Therefore, it is a valid word square.\n",
    "\n",
    "Example3\n",
    "Input:    \n",
    "[\n",
    "  \"ball\",\n",
    "  \"area\",\n",
    "  \"read\",\n",
    "  \"lady\"\n",
    "]  \n",
    "Output: false  \n",
    "Explanation: \n",
    "The third row reads \"read\" while the third column reads \"lead\".\n",
    "\n",
    "Therefore, it is NOT a valid word square."
   ]
  },
  {
   "cell_type": "code",
   "execution_count": 40,
   "metadata": {
    "id": "JcLphVGb0QZP"
   },
   "outputs": [],
   "source": [
    "def validsquare(A:list)->bool:\n",
    "    for i in range(len(words)):\n",
    "        for j in range(len(words(i))):\n",
    "            if j>= len(words) or i>=len(word[j]) or words[j][i]!=words[i][j]:\n",
    "                return False\n",
    "    return True"
   ]
  },
  {
   "cell_type": "markdown",
   "metadata": {
    "id": "VipmB1i80QZQ"
   },
   "source": [
    "**20. Find All Numbers Disappeared in an Array**\n",
    "\n",
    "Given an array nums of n integers where nums[i] is in the range [1, n], return an array of all the integers in the range [1, n] that do not appear in nums.  \n",
    "  \n",
    " \n",
    "\n",
    "Example 1:  \n",
    "Input: nums = [4,3,2,7,8,2,3,1]  \n",
    "Output: [5,6]  \n",
    "\n",
    "Example 2:  \n",
    "Input: nums = [1,1]  \n",
    "Output: [2]  "
   ]
  },
  {
   "cell_type": "code",
   "execution_count": 41,
   "metadata": {
    "id": "DdhU6DYS0QZR"
   },
   "outputs": [],
   "source": [
    "def missingnumbers(A:list)->list:\n",
    "    return list(set(range(1, len(A) + 1)) - set(A))"
   ]
  },
  {
   "cell_type": "code",
   "execution_count": 42,
   "metadata": {
    "colab": {
     "base_uri": "https://localhost:8080/"
    },
    "executionInfo": {
     "elapsed": 2924,
     "status": "ok",
     "timestamp": 1625283861583,
     "user": {
      "displayName": "Aman Roland",
      "photoUrl": "https://lh3.googleusercontent.com/a-/AOh14GgVx_jS7yxiRP3I-pViq_GOAmsYtC7th9HKuzAydMc=s64",
      "userId": "18048666117095936338"
     },
     "user_tz": -330
    },
    "id": "ziFF5llA0QZR",
    "outputId": "25a70194-fbdd-451e-b794-945bc66a67a3"
   },
   "outputs": [
    {
     "data": {
      "text/plain": [
       "[5, 6]"
      ]
     },
     "execution_count": 42,
     "metadata": {},
     "output_type": "execute_result"
    }
   ],
   "source": [
    "missingnumbers([4,3,2,7,8,2,3,1])"
   ]
  },
  {
   "cell_type": "markdown",
   "metadata": {
    "id": "hqhk7p1x0QZS"
   },
   "source": [
    "**21. Find All Duplicates in an Array**\n",
    "\n",
    "Given an integer array nums of length n where all the integers of nums are in the range [1, n] and each integer appears once or twice, return an array of all the integers that appears twice.\n",
    "\n",
    "You must write an algorithm that runs in O(n) time and uses only constant extra space.\n",
    "\n",
    " \n",
    "\n",
    "Example 1:  \n",
    "Input: nums = [4,3,2,7,8,2,3,1]  \n",
    "Output: [2,3]  \n",
    "\n",
    "Example 2:  \n",
    "Input: nums = [1,1,2]  \n",
    "Output: [1]  \n",
    "\n",
    "Example 3:  \n",
    "Input: nums = [1]  \n",
    "Output: []  "
   ]
  },
  {
   "cell_type": "code",
   "execution_count": 43,
   "metadata": {
    "id": "8kZ-E02C0QZT"
   },
   "outputs": [],
   "source": [
    "def findduplicates(A:list)->list:\n",
    "    lst=[]\n",
    "    d = {}\n",
    "    for num in A:\n",
    "        if num not in d:\n",
    "            d[num] = True\n",
    "        else:\n",
    "            lst.append(num)\n",
    "    return lst"
   ]
  },
  {
   "cell_type": "code",
   "execution_count": 44,
   "metadata": {
    "colab": {
     "base_uri": "https://localhost:8080/"
    },
    "executionInfo": {
     "elapsed": 2911,
     "status": "ok",
     "timestamp": 1625283861604,
     "user": {
      "displayName": "Aman Roland",
      "photoUrl": "https://lh3.googleusercontent.com/a-/AOh14GgVx_jS7yxiRP3I-pViq_GOAmsYtC7th9HKuzAydMc=s64",
      "userId": "18048666117095936338"
     },
     "user_tz": -330
    },
    "id": "-w1oNh1B0QZU",
    "outputId": "0a257e72-e518-4d7d-dc90-ff040e396972"
   },
   "outputs": [
    {
     "data": {
      "text/plain": [
       "[2, 3]"
      ]
     },
     "execution_count": 44,
     "metadata": {},
     "output_type": "execute_result"
    }
   ],
   "source": [
    "findduplicates([4,3,2,7,8,2,3,1])"
   ]
  },
  {
   "cell_type": "code",
   "execution_count": 45,
   "metadata": {
    "colab": {
     "base_uri": "https://localhost:8080/"
    },
    "executionInfo": {
     "elapsed": 2864,
     "status": "ok",
     "timestamp": 1625283861606,
     "user": {
      "displayName": "Aman Roland",
      "photoUrl": "https://lh3.googleusercontent.com/a-/AOh14GgVx_jS7yxiRP3I-pViq_GOAmsYtC7th9HKuzAydMc=s64",
      "userId": "18048666117095936338"
     },
     "user_tz": -330
    },
    "id": "ZpM_mq5x0QZV",
    "outputId": "bc8e1495-deb8-46ca-b98f-bb2ec7b5d9f9"
   },
   "outputs": [
    {
     "data": {
      "text/plain": [
       "[]"
      ]
     },
     "execution_count": 45,
     "metadata": {},
     "output_type": "execute_result"
    }
   ],
   "source": [
    "findduplicates([1])"
   ]
  },
  {
   "cell_type": "markdown",
   "metadata": {
    "id": "Xg9uifmN0QZV"
   },
   "source": [
    "**22. Shortest Unsorted Continuous Subarray**\n",
    "\n",
    "Given an integer array nums, you need to find one continuous subarray that if you only sort this subarray in ascending order, then the whole array will be sorted in ascending order.\n",
    "\n",
    "Example 1:  \n",
    "Input: nums = [2,6,4,8,10,9,15]  \n",
    "Output: 5  \n",
    "Explanation: You need to sort [6, 4, 8, 10, 9] in ascending order to make the whole array sorted in ascending order.  \n",
    "\n",
    "Example 2:  \n",
    "Input: nums = [1,2,3,4]  \n",
    "Output: 0  \n",
    "\n",
    "Example 3:  \n",
    "Input: nums = [1]  \n",
    "Output: 0  "
   ]
  },
  {
   "cell_type": "code",
   "execution_count": 46,
   "metadata": {
    "id": "IUy6-YcS0QZW"
   },
   "outputs": [],
   "source": [
    "def unsortedwindow(A:list)->list:\n",
    "    left=0\n",
    "    right=len(A)-1\n",
    "\n",
    "    if right==left:\n",
    "        return 0\n",
    "  \n",
    "    while left<=right:\n",
    "        if left+1<len(A)and A[left]<A[left+1]:\n",
    "            left+=1\n",
    "        else:\n",
    "            break\n",
    "            \n",
    "    while left<=right:\n",
    "        if right-1>=0 and A[right]>A[right-1]:\n",
    "            right-=1\n",
    "        else:\n",
    "            break\n",
    "    \n",
    "    return right-left+1"
   ]
  },
  {
   "cell_type": "code",
   "execution_count": 47,
   "metadata": {
    "colab": {
     "base_uri": "https://localhost:8080/"
    },
    "executionInfo": {
     "elapsed": 2732,
     "status": "ok",
     "timestamp": 1625283861610,
     "user": {
      "displayName": "Aman Roland",
      "photoUrl": "https://lh3.googleusercontent.com/a-/AOh14GgVx_jS7yxiRP3I-pViq_GOAmsYtC7th9HKuzAydMc=s64",
      "userId": "18048666117095936338"
     },
     "user_tz": -330
    },
    "id": "A6zuAFeg0QZX",
    "outputId": "9b81fa1d-a557-4337-f174-2b97be2c7747"
   },
   "outputs": [
    {
     "data": {
      "text/plain": [
       "0"
      ]
     },
     "execution_count": 47,
     "metadata": {},
     "output_type": "execute_result"
    }
   ],
   "source": [
    "unsortedwindow([1])"
   ]
  },
  {
   "cell_type": "markdown",
   "metadata": {
    "id": "YMeEzhm40QZY"
   },
   "source": [
    "**23. Can Place Flowers**\n",
    "\n",
    "You have a long flowerbed in which some of the plots are planted, and some are not. However, flowers cannot be planted in adjacent plots.\n",
    "\n",
    "Given an integer array flowerbed containing 0's and 1's, where 0 means empty and 1 means not empty, and an integer n, return if n new flowers can be planted in the flowerbed without violating the no-adjacent-flowers rule.\n",
    "\n",
    "Example 1:\n",
    "Input: flowerbed = [1,0,0,0,1], n = 1  \n",
    "Output: true  \n",
    "\n",
    "Example 2:  \n",
    "Input: flowerbed = [1,0,0,0,1], n = 2  \n",
    "Output: false  "
   ]
  },
  {
   "cell_type": "code",
   "execution_count": 48,
   "metadata": {
    "id": "WpvpMgCt0QZZ"
   },
   "outputs": [],
   "source": [
    "def flowerbed(A:list, n:int)->bool:\n",
    "    count = 0\n",
    "    \n",
    "    for i in range(len(A)):\n",
    "        if i==0 and A[i]==0 and A[i+1]==0:\n",
    "            count+=1\n",
    "        elif i==len(A)-1 and A[i]==0 and A[i-1]==0:\n",
    "            count+=1\n",
    "        elif A[i-1]==0 and  A[i]==0 and A[i+1]==0:\n",
    "                count+=1\n",
    "    \n",
    "    return count>=n\n",
    "    "
   ]
  },
  {
   "cell_type": "code",
   "execution_count": 49,
   "metadata": {
    "colab": {
     "base_uri": "https://localhost:8080/"
    },
    "executionInfo": {
     "elapsed": 2620,
     "status": "ok",
     "timestamp": 1625283861628,
     "user": {
      "displayName": "Aman Roland",
      "photoUrl": "https://lh3.googleusercontent.com/a-/AOh14GgVx_jS7yxiRP3I-pViq_GOAmsYtC7th9HKuzAydMc=s64",
      "userId": "18048666117095936338"
     },
     "user_tz": -330
    },
    "id": "P8eLOT210QZZ",
    "outputId": "41ab3d9f-7cd4-4483-d8e3-cb8c05612323"
   },
   "outputs": [
    {
     "data": {
      "text/plain": [
       "True"
      ]
     },
     "execution_count": 49,
     "metadata": {},
     "output_type": "execute_result"
    }
   ],
   "source": [
    "flowerbed([1,0,0,0,1,0,1,0,0],2)"
   ]
  },
  {
   "cell_type": "markdown",
   "metadata": {
    "id": "SGjoHk3f0QZa"
   },
   "source": [
    "**24. Maximum Average Subarray**  \n",
    "Find a contiguous subarray whose length is equal to k that has the maximum average value and return this value. Any answer with a calculation error less than 10-5 will be accepted.\n",
    "\n",
    "Example 1:  \n",
    "Input: nums = [1,12,-5,-6,50,3], k = 4  \n",
    "Output: 12.75000  \n",
    "Explanation: Maximum average is (12 - 5 - 6 + 50) / 4 = 51 / 4 = 12.75  \n",
    "\n",
    "Example 2:  \n",
    "Input: nums = [5], k = 1  \n",
    "Output: 5.00000  "
   ]
  },
  {
   "cell_type": "code",
   "execution_count": 50,
   "metadata": {
    "id": "NqwcIKly0QZb"
   },
   "outputs": [],
   "source": [
    "def MaxAvgSubarray(A:list,k):\n",
    "    i=0\n",
    "    j=k\n",
    "    avg = 0\n",
    "\n",
    "    while j <= len(A):\n",
    "        curr_avg = sum(A[i:j])/k\n",
    "        avg = max(avg, curr_avg)\n",
    "        i+=1\n",
    "        j+=1\n",
    "    \n",
    "    return avg  "
   ]
  },
  {
   "cell_type": "code",
   "execution_count": 51,
   "metadata": {
    "colab": {
     "base_uri": "https://localhost:8080/"
    },
    "executionInfo": {
     "elapsed": 2545,
     "status": "ok",
     "timestamp": 1625283861642,
     "user": {
      "displayName": "Aman Roland",
      "photoUrl": "https://lh3.googleusercontent.com/a-/AOh14GgVx_jS7yxiRP3I-pViq_GOAmsYtC7th9HKuzAydMc=s64",
      "userId": "18048666117095936338"
     },
     "user_tz": -330
    },
    "id": "woKqmMJ20QZc",
    "outputId": "f9f80d05-d1b9-41ac-890e-d0de9a2a7d08"
   },
   "outputs": [
    {
     "data": {
      "text/plain": [
       "5.0"
      ]
     },
     "execution_count": 51,
     "metadata": {},
     "output_type": "execute_result"
    }
   ],
   "source": [
    "MaxAvgSubarray([5], 1)"
   ]
  },
  {
   "cell_type": "markdown",
   "metadata": {
    "id": "7vkS29wg0QZd"
   },
   "source": [
    "**25. Non-decreasing Array**\n",
    "\n",
    "Given an array nums with n integers, your task is to check if it could become non-decreasing by modifying at most one element.\n",
    "\n",
    "We define an array is non-decreasing if nums[i] <= nums[i + 1] holds for every i (0-based) such that (0 <= i <= n - 2).\n",
    "\n",
    "Example 1:  \n",
    "Input: nums = [4,2,3]  \n",
    "Output: true  \n",
    "Explanation: You could modify the first 4 to 1 to get a non-decreasing array.  \n",
    "\n",
    "Example 2:  \n",
    "Input: nums = [4,2,1]  \n",
    "Output: false  \n",
    "Explanation: You can't get a non-decreasing array by modify at most one element.  "
   ]
  },
  {
   "cell_type": "code",
   "execution_count": 52,
   "metadata": {
    "id": "pi5XpB610QZd"
   },
   "outputs": [],
   "source": [
    "def nd(A:list):\n",
    "    i=0\n",
    "    count = 0\n",
    "    while i+1<len(A):\n",
    "        if A[i]>A[i+1]:\n",
    "            count +=1\n",
    "        i+=1\n",
    "    return count == 1"
   ]
  },
  {
   "cell_type": "code",
   "execution_count": 53,
   "metadata": {
    "colab": {
     "base_uri": "https://localhost:8080/"
    },
    "executionInfo": {
     "elapsed": 2526,
     "status": "ok",
     "timestamp": 1625283861646,
     "user": {
      "displayName": "Aman Roland",
      "photoUrl": "https://lh3.googleusercontent.com/a-/AOh14GgVx_jS7yxiRP3I-pViq_GOAmsYtC7th9HKuzAydMc=s64",
      "userId": "18048666117095936338"
     },
     "user_tz": -330
    },
    "id": "zhyjhmNm0QZe",
    "outputId": "fc67647b-dfbe-4baa-cf7a-5bcf52b3d601"
   },
   "outputs": [
    {
     "data": {
      "text/plain": [
       "True"
      ]
     },
     "execution_count": 53,
     "metadata": {},
     "output_type": "execute_result"
    }
   ],
   "source": [
    "nd([4,2,3])"
   ]
  },
  {
   "cell_type": "markdown",
   "metadata": {
    "id": "YTTwgQfD0QZf"
   },
   "source": [
    "**26. Longest Continuous Increasing Subsequence**\n",
    "\n",
    "Given an unsorted array of integers nums, return the length of the longest continuous increasing subsequence (i.e. subarray). The subsequence must be strictly increasing.  \n",
    "\n",
    "A continuous increasing subsequence is defined by two indices l and r (l < r) such that it is [nums[l], nums[l + 1], ..., nums[r - 1], nums[r]] and for each l <= i < r, nums[i] < nums[i + 1].  \n",
    "\n",
    " \n",
    "\n",
    "Example 1:  \n",
    "Input: nums = [1,3,5,4,7]  \n",
    "Output: 3  \n",
    "Explanation: The longest continuous increasing subsequence is [1,3,5] with length 3.  \n",
    "Even though [1,3,5,7] is an increasing subsequence, it is not continuous as elements 5 and 7 are separated by element 4.\n",
    "\n",
    "Example 2:  \n",
    "Input: nums = [2,2,2,2,2]  \n",
    "Output: 1  \n",
    "Explanation: The longest continuous increasing subsequence is [2] with length 1. Note that it must be strictly increasing.  "
   ]
  },
  {
   "cell_type": "code",
   "execution_count": 54,
   "metadata": {
    "id": "bGD3dwe30QZg"
   },
   "outputs": [],
   "source": [
    "def solution(nums):\n",
    "    result, count = 0, 0\n",
    "    for i in range(len(nums)):\n",
    "        if i == 0 or nums[i-1] < nums[i]:\n",
    "            count += 1\n",
    "            result = max(result, count)\n",
    "        else:\n",
    "            count = 1\n",
    "    return result"
   ]
  },
  {
   "cell_type": "code",
   "execution_count": 55,
   "metadata": {
    "colab": {
     "base_uri": "https://localhost:8080/"
    },
    "executionInfo": {
     "elapsed": 2530,
     "status": "ok",
     "timestamp": 1625283861668,
     "user": {
      "displayName": "Aman Roland",
      "photoUrl": "https://lh3.googleusercontent.com/a-/AOh14GgVx_jS7yxiRP3I-pViq_GOAmsYtC7th9HKuzAydMc=s64",
      "userId": "18048666117095936338"
     },
     "user_tz": -330
    },
    "id": "zinKCGsR0QZg",
    "outputId": "afaec595-6bcb-46af-f0f4-0b881e8558da"
   },
   "outputs": [
    {
     "data": {
      "text/plain": [
       "3"
      ]
     },
     "execution_count": 55,
     "metadata": {},
     "output_type": "execute_result"
    }
   ],
   "source": [
    "solution([1,3,5,4,7])"
   ]
  },
  {
   "cell_type": "markdown",
   "metadata": {
    "id": "lc23GoM-0QZh"
   },
   "source": [
    "**27. Longest Increasing Subsequence**\n",
    "\n",
    "Given an integer array nums, return the length of the longest strictly increasing subsequence.\n",
    "\n",
    "A subsequence is a sequence that can be derived from an array by deleting some or no elements without changing the order of the remaining elements. For example, [3,6,2,7] is a subsequence of the array [0,3,1,6,2,2,7].  \n",
    "\n",
    " \n",
    "\n",
    "Example 1:  \n",
    "Input: nums = [10,9,2,5,3,7,101,18]  \n",
    "Output: 4  \n",
    "Explanation: The longest increasing subsequence is [2,3,7,101], therefore the length is 4.  \n",
    "\n",
    "Example 2:  \n",
    "Input: nums = [0,1,0,3,2,3]  \n",
    "Output: 4  \n",
    "\n",
    "Example 3:  \n",
    "Input: nums = [7,7,7,7,7,7,7]  \n",
    "Output: 1  "
   ]
  },
  {
   "cell_type": "code",
   "execution_count": 56,
   "metadata": {
    "id": "C11_fwjS0QZh"
   },
   "outputs": [],
   "source": [
    "def lengthOfLIS(nums):\n",
    "    dp = [1] * len(nums)\n",
    "    for i in range(1, len(nums)):\n",
    "        for j in range(i):\n",
    "            if nums[i] > nums[j]:\n",
    "                dp[i] = max(dp[i], dp[j] + 1)\n",
    "\n",
    "    return max(dp)"
   ]
  },
  {
   "cell_type": "code",
   "execution_count": 57,
   "metadata": {
    "colab": {
     "base_uri": "https://localhost:8080/"
    },
    "executionInfo": {
     "elapsed": 2506,
     "status": "ok",
     "timestamp": 1625283861680,
     "user": {
      "displayName": "Aman Roland",
      "photoUrl": "https://lh3.googleusercontent.com/a-/AOh14GgVx_jS7yxiRP3I-pViq_GOAmsYtC7th9HKuzAydMc=s64",
      "userId": "18048666117095936338"
     },
     "user_tz": -330
    },
    "id": "FLyadX_s0QZi",
    "outputId": "57465333-87c7-464b-d1d6-be72308c2411"
   },
   "outputs": [
    {
     "data": {
      "text/plain": [
       "4"
      ]
     },
     "execution_count": 57,
     "metadata": {},
     "output_type": "execute_result"
    }
   ],
   "source": [
    "lengthOfLIS([10,9,2,5,3,7,101,18])"
   ]
  },
  {
   "cell_type": "markdown",
   "metadata": {
    "id": "-HqAkyx10QZj"
   },
   "source": [
    "**28. Find Pivot Index**\n",
    "\n",
    "Given an array of integers nums, calculate the pivot index of this array.\n",
    "\n",
    "The pivot index is the index where the sum of all the numbers strictly to the left of the index is equal to the sum of all the numbers strictly to the index's right.\n",
    "\n",
    "If the index is on the left edge of the array, then the left sum is 0 because there are no elements to the left. This also applies to the right edge of the array.\n",
    "\n",
    "Return the leftmost pivot index. If no such index exists, return -1.\n",
    "\n",
    " \n",
    "\n",
    "Example 1:  \n",
    "Input: nums = [1,7,3,6,5,6]  \n",
    "Output: 3  \n",
    "Explanation:  \n",
    "The pivot index is 3. \n",
    "Left sum = nums[0] + nums[1] + nums[2] = 1 + 7 + 3 = 11  \n",
    "Right sum = nums[4] + nums[5] = 5 + 6 = 11  \n",
    "\n",
    "Example 2:  \n",
    "Input: nums = [1,2,3]  \n",
    "Output: -1  \n",
    "Explanation:  \n",
    "There is no index that satisfies the conditions in the problem statement.  \n",
    "\n",
    "Example 3:  \n",
    "Input: nums = [2,1,-1]  \n",
    "Output: 0  \n",
    "Explanation:  \n",
    "The pivot index is 0.  \n",
    "Left sum = 0 (no elements to the left of index 0)  \n",
    "Right sum = nums[1] + nums[2] = 1 + -1 = 0  "
   ]
  },
  {
   "cell_type": "code",
   "execution_count": 58,
   "metadata": {
    "id": "QXTBUF5z0QZk"
   },
   "outputs": [],
   "source": [
    "def pivotIndex(nums):\n",
    "        S = sum(nums)\n",
    "        leftsum = 0\n",
    "        for i, x in enumerate(nums):\n",
    "            if leftsum == (S - leftsum - x):\n",
    "                return i\n",
    "            leftsum += x\n",
    "        return -1"
   ]
  },
  {
   "cell_type": "code",
   "execution_count": 59,
   "metadata": {
    "colab": {
     "base_uri": "https://localhost:8080/"
    },
    "executionInfo": {
     "elapsed": 2443,
     "status": "ok",
     "timestamp": 1625283861687,
     "user": {
      "displayName": "Aman Roland",
      "photoUrl": "https://lh3.googleusercontent.com/a-/AOh14GgVx_jS7yxiRP3I-pViq_GOAmsYtC7th9HKuzAydMc=s64",
      "userId": "18048666117095936338"
     },
     "user_tz": -330
    },
    "id": "7O97JSYN0QZk",
    "outputId": "070265ab-300d-4fc3-8031-dbce55a472fa"
   },
   "outputs": [
    {
     "data": {
      "text/plain": [
       "3"
      ]
     },
     "execution_count": 59,
     "metadata": {},
     "output_type": "execute_result"
    }
   ],
   "source": [
    "pivotIndex([1,7,3,6,5,6])"
   ]
  },
  {
   "cell_type": "markdown",
   "metadata": {
    "id": "MSTeBXqS0QZl"
   },
   "source": [
    "**29. Coin Change**\n",
    "\n",
    "You are given an integer array coins representing coins of different denominations and an integer amount representing a total amount of money.\n",
    "\n",
    "Return the fewest number of coins that you need to make up that amount. If that amount of money cannot be made up by any combination of the coins, return -1.\n",
    "\n",
    "You may assume that you have an infinite number of each kind of coin.\n",
    "\n",
    "Example 1:  \n",
    "Input: coins = [1,2,5], amount = 11  \n",
    "Output: 3  \n",
    "Explanation: 11 = 5 + 5 + 1  \n",
    "\n",
    "Example 2:  \n",
    "Input: coins = [2], amount = 3  \n",
    "Output: -1  \n",
    "\n",
    "Example 3:  \n",
    "Input: coins = [1], amount = 0  \n",
    "Output: 0  \n",
    "\n",
    "Example 4:  \n",
    "Input: coins = [1], amount = 1  \n",
    "Output: 1  \n",
    "\n",
    "Example 5:  \n",
    "Input: coins = [1], amount = 2  \n",
    "Output: 2"
   ]
  },
  {
   "cell_type": "code",
   "execution_count": 60,
   "metadata": {
    "id": "ivxKEFWn0QZm"
   },
   "outputs": [],
   "source": [
    "def coinChange(coins, amount):\n",
    "        INF = 0x7fffffff  # Using float(\"inf\") would be slower. Max valueif Int32\n",
    "        dp = [INF] * (amount + 1)\n",
    "        dp[0] = 0\n",
    "        for i in range(amount + 1):\n",
    "            if dp[i] != INF:\n",
    "                for coin in coins:\n",
    "                    if i + coin <= amount:\n",
    "                        dp[i + coin] = min(dp[i + coin], dp[i] + 1)\n",
    "        return dp[amount] if dp[amount] != INF else -1"
   ]
  },
  {
   "cell_type": "code",
   "execution_count": 61,
   "metadata": {
    "id": "sNHvaclB0QZo"
   },
   "outputs": [],
   "source": [
    "def coinChange(coins, amount):\n",
    "    if amount <= 0:\n",
    "        return 0\n",
    "\n",
    "    if min(coins) > amount:\n",
    "        return -1\n",
    "\n",
    "    INT_MAX = 1<<32 # same as multiplying 1*2^32, x << y Returns x with the bits shifted to the left by y places\n",
    "    dp = [INT_MAX] * (amount +1)\n",
    "\n",
    "    dp[0] = 0\n",
    "\n",
    "    for i in range(1, amount + 1):\n",
    "        for coin in coins:\n",
    "            if coin <= i:\n",
    "                dp[i] = min((dp[i-coin] + 1), dp[i])\n",
    "\n",
    "    return dp[amount] if dp[amount] != INT_MAX else -1"
   ]
  },
  {
   "cell_type": "code",
   "execution_count": 62,
   "metadata": {
    "colab": {
     "base_uri": "https://localhost:8080/"
    },
    "executionInfo": {
     "elapsed": 2348,
     "status": "ok",
     "timestamp": 1625283861708,
     "user": {
      "displayName": "Aman Roland",
      "photoUrl": "https://lh3.googleusercontent.com/a-/AOh14GgVx_jS7yxiRP3I-pViq_GOAmsYtC7th9HKuzAydMc=s64",
      "userId": "18048666117095936338"
     },
     "user_tz": -330
    },
    "id": "Kdwz23gL0QZp",
    "outputId": "145944ff-1b6c-45a4-d51f-69f86f60587a"
   },
   "outputs": [
    {
     "data": {
      "text/plain": [
       "3"
      ]
     },
     "execution_count": 62,
     "metadata": {},
     "output_type": "execute_result"
    }
   ],
   "source": [
    "coinChange([1,2,5],11)"
   ]
  },
  {
   "cell_type": "markdown",
   "metadata": {
    "id": "rS6jx3oJ0QZq"
   },
   "source": [
    "**30. Rotate Array**\n",
    "\n",
    "Given an array, rotate the array to the right by k steps, where k is non-negative.\n",
    "\n",
    " \n",
    "\n",
    "Example 1:  \n",
    "Input: nums = [1,2,3,4,5,6,7], k = 3  \n",
    "Output: [5,6,7,1,2,3,4]  \n",
    "Explanation:  \n",
    "rotate 1 steps to the right: [7,1,2,3,4,5,6]  \n",
    "rotate 2 steps to the right: [6,7,1,2,3,4,5]  \n",
    "rotate 3 steps to the right: [5,6,7,1,2,3,4]  \n",
    "\n",
    "Example 2:  \n",
    "Input: nums = [-1,-100,3,99], k = 2  \n",
    "Output: [3,99,-1,-100]  \n",
    "Explanation:   \n",
    "rotate 1 steps to the right: [99,-1,-100,3]  \n",
    "rotate 2 steps to the right: [3,99,-1,-100]  "
   ]
  },
  {
   "cell_type": "code",
   "execution_count": 63,
   "metadata": {
    "id": "35yntbxd0QZr"
   },
   "outputs": [],
   "source": [
    "def rotateArray(A, k):\n",
    "    result = A[-k:]+A[:len(A)-k]\n",
    "    return result"
   ]
  },
  {
   "cell_type": "code",
   "execution_count": 64,
   "metadata": {
    "colab": {
     "base_uri": "https://localhost:8080/"
    },
    "executionInfo": {
     "elapsed": 2292,
     "status": "ok",
     "timestamp": 1625283861718,
     "user": {
      "displayName": "Aman Roland",
      "photoUrl": "https://lh3.googleusercontent.com/a-/AOh14GgVx_jS7yxiRP3I-pViq_GOAmsYtC7th9HKuzAydMc=s64",
      "userId": "18048666117095936338"
     },
     "user_tz": -330
    },
    "id": "S40Gr1wA0QZs",
    "outputId": "b25884a9-572e-475d-a00c-f27fccacf334"
   },
   "outputs": [
    {
     "data": {
      "text/plain": [
       "[5, 6, 7, 1, 2, 3, 4]"
      ]
     },
     "execution_count": 64,
     "metadata": {},
     "output_type": "execute_result"
    }
   ],
   "source": [
    "rotateArray([1,2,3,4,5,6,7],3)"
   ]
  },
  {
   "cell_type": "code",
   "execution_count": 65,
   "metadata": {
    "colab": {
     "base_uri": "https://localhost:8080/"
    },
    "executionInfo": {
     "elapsed": 2261,
     "status": "ok",
     "timestamp": 1625283861723,
     "user": {
      "displayName": "Aman Roland",
      "photoUrl": "https://lh3.googleusercontent.com/a-/AOh14GgVx_jS7yxiRP3I-pViq_GOAmsYtC7th9HKuzAydMc=s64",
      "userId": "18048666117095936338"
     },
     "user_tz": -330
    },
    "id": "g_OwBvIt0QZt",
    "outputId": "89dc046f-8921-4141-f018-04b02f1366a0"
   },
   "outputs": [
    {
     "data": {
      "text/plain": [
       "[3, 99, -1, -100]"
      ]
     },
     "execution_count": 65,
     "metadata": {},
     "output_type": "execute_result"
    }
   ],
   "source": [
    "rotateArray([-1,-100,3,99],2)"
   ]
  },
  {
   "cell_type": "code",
   "execution_count": 66,
   "metadata": {
    "id": "JCUKfjH30QZu"
   },
   "outputs": [],
   "source": [
    "def rotate(nums, k):\n",
    "    n = len(nums)\n",
    "    k = k%n\n",
    "    \n",
    "    start=0\n",
    "    count=0\n",
    "    \n",
    "    while count<n:\n",
    "        current, prev = start, num[start]\n",
    "        while True:\n",
    "            next_idx=(current+k)%n\n",
    "            num[next_idx], prev = prev, num[next_idx]\n",
    "            current = next_idx\n",
    "            count+=1\n",
    "            \n",
    "            if start==current:\n",
    "                break\n",
    "        start += 1"
   ]
  },
  {
   "cell_type": "markdown",
   "metadata": {
    "id": "7_2lDh-Y0QZv"
   },
   "source": [
    "**31. Single Number**\n",
    "\n",
    "Given a non-empty array of integers nums, every element appears twice except for one. Find that single one.\n",
    "\n",
    "You must implement a solution with a linear runtime complexity and use only constant extra space.\n",
    "\n",
    "\n",
    "Example 1:  \n",
    "Input: nums = [2,2,1]  \n",
    "Output: 1  \n",
    "\n",
    "Example 2:  \n",
    "Input: nums = [4,1,2,1,2]  \n",
    "Output: 4  \n",
    "  \n",
    "Example 3:  \n",
    "Input: nums = [1]  \n",
    "Output: 1  "
   ]
  },
  {
   "cell_type": "code",
   "execution_count": 67,
   "metadata": {
    "id": "weKx_sv30QZv"
   },
   "outputs": [],
   "source": [
    "def singleNumber(A):\n",
    "    lst = []\n",
    "    for num in A:\n",
    "        if num in lst:\n",
    "            lst.remove(num)\n",
    "        else:\n",
    "            lst.append(num)\n",
    "    return lst.pop()"
   ]
  },
  {
   "cell_type": "code",
   "execution_count": 68,
   "metadata": {
    "colab": {
     "base_uri": "https://localhost:8080/"
    },
    "executionInfo": {
     "elapsed": 2202,
     "status": "ok",
     "timestamp": 1625283861747,
     "user": {
      "displayName": "Aman Roland",
      "photoUrl": "https://lh3.googleusercontent.com/a-/AOh14GgVx_jS7yxiRP3I-pViq_GOAmsYtC7th9HKuzAydMc=s64",
      "userId": "18048666117095936338"
     },
     "user_tz": -330
    },
    "id": "4k9V1yyp0QZw",
    "outputId": "81dcf5e4-1afe-4c92-ccb0-1fc81ab87d52"
   },
   "outputs": [
    {
     "data": {
      "text/plain": [
       "4"
      ]
     },
     "execution_count": 68,
     "metadata": {},
     "output_type": "execute_result"
    }
   ],
   "source": [
    "singleNumber([4,1,2,1,2])"
   ]
  },
  {
   "cell_type": "code",
   "execution_count": 69,
   "metadata": {
    "id": "d5eBlj-D0QZx"
   },
   "outputs": [],
   "source": [
    "def singleNumber(A):\n",
    "    d={}\n",
    "    for num in A:\n",
    "        if num in d:\n",
    "            d[num]=+1\n",
    "        else:\n",
    "            d[num]=1\n",
    "    \n",
    "    for num in d:\n",
    "        if d[num] == 1:\n",
    "            return num  "
   ]
  },
  {
   "cell_type": "code",
   "execution_count": 70,
   "metadata": {
    "id": "MgCgluOt0QZy"
   },
   "outputs": [],
   "source": [
    "def singleNumber(A):\n",
    "    return 2*sum(set(A))-sum(A)"
   ]
  },
  {
   "cell_type": "markdown",
   "metadata": {
    "id": "tmtcWF7K0QZy"
   },
   "source": [
    "**32. Plus One**\n",
    "\n",
    "Given a non-empty array of decimal digits representing a non-negative integer, increment one to the integer.\n",
    "\n",
    "The digits are stored such that the most significant digit is at the head of the list, and each element in the array contains a single digit.\n",
    "\n",
    "You may assume the integer does not contain any leading zero, except the number 0 itself.\n",
    "\n",
    "\n",
    "Example 1:  \n",
    "Input: digits = [1,2,3]  \n",
    "Output: [1,2,4]  \n",
    "Explanation: The array represents the integer 123.  \n",
    "  \n",
    "Example 2:  \n",
    "Input: digits = [4,3,2,1]  \n",
    "Output: [4,3,2,2]  \n",
    "Explanation: The array represents the integer 4321.  \n",
    "\n",
    "Example 3:  \n",
    "Input: digits = [0]  \n",
    "Output: [1]  "
   ]
  },
  {
   "cell_type": "code",
   "execution_count": 71,
   "metadata": {
    "id": "RivfKSvy0QZz"
   },
   "outputs": [],
   "source": [
    "def plusOne(A):\n",
    "    \n",
    "    i = len(A)-1\n",
    "    \n",
    "    while i>=0:\n",
    "        if A[i] == 9:\n",
    "            A[i] = 0\n",
    "            i-=1\n",
    "        else:\n",
    "            A[i] = A[i]+1\n",
    "            return A\n",
    "        \n",
    "    return [1]+A"
   ]
  },
  {
   "cell_type": "code",
   "execution_count": 72,
   "metadata": {
    "colab": {
     "base_uri": "https://localhost:8080/"
    },
    "executionInfo": {
     "elapsed": 2199,
     "status": "ok",
     "timestamp": 1625283861793,
     "user": {
      "displayName": "Aman Roland",
      "photoUrl": "https://lh3.googleusercontent.com/a-/AOh14GgVx_jS7yxiRP3I-pViq_GOAmsYtC7th9HKuzAydMc=s64",
      "userId": "18048666117095936338"
     },
     "user_tz": -330
    },
    "id": "RhaBKxZQ0QZ0",
    "outputId": "7a8c0cf9-fc9d-4a72-9124-a215029fdaab"
   },
   "outputs": [
    {
     "data": {
      "text/plain": [
       "[1, 0, 0, 0]"
      ]
     },
     "execution_count": 72,
     "metadata": {},
     "output_type": "execute_result"
    }
   ],
   "source": [
    "plusOne([9,9,9])"
   ]
  },
  {
   "cell_type": "markdown",
   "metadata": {
    "id": "nGNDmugp0QZ1"
   },
   "source": [
    "**33. Rotate Image**\n",
    "\n",
    "You are given an n x n 2D matrix representing an image, rotate the image by 90 degrees (clockwise).\n",
    "\n",
    "You have to rotate the image in-place, which means you have to modify the input 2D matrix directly. DO NOT allocate another 2D matrix and do the rotation.\n",
    "\n",
    "Example 1:  \n",
    "Input: matrix = [[1,2,3],[4,5,6],[7,8,9]]  \n",
    "Output: [[7,4,1],[8,5,2],[9,6,3]]  \n",
    "  \n",
    "Example 2:  \n",
    "Input: matrix = [[5,1,9,11],[2,4,8,10],[13,3,6,7],[15,14,12,16]]  \n",
    "Output: [[15,13,2,5],[14,3,4,1],[12,6,8,9],[16,7,10,11]]  \n",
    "  \n",
    "Example 3:  \n",
    "Input: matrix = [[1]]  \n",
    "Output: [[1]]  \n",
    "   \n",
    "Example 4:  \n",
    "Input: matrix = [[1,2],[3,4]]  \n",
    "Output: [[3,1],[4,2]]  "
   ]
  },
  {
   "cell_type": "code",
   "execution_count": 73,
   "metadata": {
    "id": "fDt5g7QD0QZ2"
   },
   "outputs": [],
   "source": [
    "def transpose(matrix):\n",
    "    n = len(matrix)\n",
    "    for i in range(n):\n",
    "        for j in range(i, n):\n",
    "            matrix[j][i], matrix[i][j] = matrix[i][j], matrix[j][i]"
   ]
  },
  {
   "cell_type": "code",
   "execution_count": 74,
   "metadata": {
    "id": "EevolPL60QZ2"
   },
   "outputs": [],
   "source": [
    "def reflect(matrix):\n",
    "    n = len(matrix)\n",
    "    for i in range(n):\n",
    "        for j in range(n // 2):\n",
    "            matrix[i][j], matrix[i][-j - 1] = matrix[i][-j - 1], matrix[i][j]"
   ]
  },
  {
   "cell_type": "code",
   "execution_count": 75,
   "metadata": {
    "id": "6q_9bJPi0QZ3"
   },
   "outputs": [],
   "source": [
    "def rotate(matrix):\n",
    "    transpose(matrix)\n",
    "    reflect(matrix)\n",
    "    return matrix"
   ]
  },
  {
   "cell_type": "code",
   "execution_count": 76,
   "metadata": {
    "colab": {
     "base_uri": "https://localhost:8080/"
    },
    "executionInfo": {
     "elapsed": 2146,
     "status": "ok",
     "timestamp": 1625283861828,
     "user": {
      "displayName": "Aman Roland",
      "photoUrl": "https://lh3.googleusercontent.com/a-/AOh14GgVx_jS7yxiRP3I-pViq_GOAmsYtC7th9HKuzAydMc=s64",
      "userId": "18048666117095936338"
     },
     "user_tz": -330
    },
    "id": "qfO93R0Q0QZ4",
    "outputId": "ccb98775-0c61-4a96-ec94-698622a33672"
   },
   "outputs": [
    {
     "data": {
      "text/plain": [
       "[[15, 13, 2, 5], [14, 3, 4, 1], [12, 6, 8, 9], [16, 7, 10, 11]]"
      ]
     },
     "execution_count": 76,
     "metadata": {},
     "output_type": "execute_result"
    }
   ],
   "source": [
    "rotate([[5,1,9,11],[2,4,8,10],[13,3,6,7],[15,14,12,16]])"
   ]
  },
  {
   "cell_type": "markdown",
   "metadata": {
    "id": "Akux4fhi0QZ5"
   },
   "source": [
    "**34. Contains Duplicate**\n",
    "\n",
    "Given an integer array nums, return true if any value appears at least twice in the array, and return false if every element is distinct.\n",
    "\n",
    "Example 1:  \n",
    "Input: nums = [1,2,3,1]  \n",
    "Output: true  \n",
    "\n",
    "Example 2:  \n",
    "Input: nums = [1,2,3,4]  \n",
    "Output: false  \n",
    "\n",
    "Example 3:  \n",
    "Input: nums = [1,1,1,3,3,4,3,2,4,2]  \n",
    "Output: true  "
   ]
  },
  {
   "cell_type": "code",
   "execution_count": 77,
   "metadata": {
    "id": "X3bAMiQo0QZ6"
   },
   "outputs": [],
   "source": [
    "def checkDuplicate(A):\n",
    "    d={}\n",
    "    for i in A:\n",
    "        if i in d:\n",
    "            return d[i]\n",
    "        else:\n",
    "            d[i] = True\n",
    "    return False"
   ]
  },
  {
   "cell_type": "code",
   "execution_count": 78,
   "metadata": {
    "colab": {
     "base_uri": "https://localhost:8080/"
    },
    "executionInfo": {
     "elapsed": 2100,
     "status": "ok",
     "timestamp": 1625283861846,
     "user": {
      "displayName": "Aman Roland",
      "photoUrl": "https://lh3.googleusercontent.com/a-/AOh14GgVx_jS7yxiRP3I-pViq_GOAmsYtC7th9HKuzAydMc=s64",
      "userId": "18048666117095936338"
     },
     "user_tz": -330
    },
    "id": "wZwODP670QZ6",
    "outputId": "a6f62e76-cf34-47c6-9c16-575615b53e23"
   },
   "outputs": [
    {
     "data": {
      "text/plain": [
       "False"
      ]
     },
     "execution_count": 78,
     "metadata": {},
     "output_type": "execute_result"
    }
   ],
   "source": [
    "checkDuplicate([1,2,3,4])"
   ]
  },
  {
   "cell_type": "code",
   "execution_count": 79,
   "metadata": {
    "colab": {
     "base_uri": "https://localhost:8080/"
    },
    "executionInfo": {
     "elapsed": 2034,
     "status": "ok",
     "timestamp": 1625283861869,
     "user": {
      "displayName": "Aman Roland",
      "photoUrl": "https://lh3.googleusercontent.com/a-/AOh14GgVx_jS7yxiRP3I-pViq_GOAmsYtC7th9HKuzAydMc=s64",
      "userId": "18048666117095936338"
     },
     "user_tz": -330
    },
    "id": "8shGBief0QZ7",
    "outputId": "024100f3-451b-4059-cfb0-5f1cbff1f3d0"
   },
   "outputs": [
    {
     "data": {
      "text/plain": [
       "True"
      ]
     },
     "execution_count": 79,
     "metadata": {},
     "output_type": "execute_result"
    }
   ],
   "source": [
    "checkDuplicate([1,2,3,1])"
   ]
  },
  {
   "cell_type": "markdown",
   "metadata": {
    "id": "C9NzapMI0QZ8"
   },
   "source": [
    "**35. Intersection of Two Arrays II**\n",
    "\n",
    "Given two integer arrays nums1 and nums2, return an array of their intersection. Each element in the result must appear as many times as it shows in both arrays and you may return the result in any order.\n",
    "\n",
    "Example 1:  \n",
    "  \n",
    "Input: nums1 = [1,2,2,1], nums2 = [2,2]  \n",
    "Output: [2,2]  \n",
    "Example 2:  \n",
    "\n",
    "Input: nums1 = [4,9,5], nums2 = [9,4,9,8,4]  \n",
    "Output: [4,9]  \n",
    "Explanation: [9,4] is also accepted.  "
   ]
  },
  {
   "cell_type": "code",
   "execution_count": 80,
   "metadata": {
    "id": "JLu_hzpP0QZ9"
   },
   "outputs": [],
   "source": [
    "def intersection(A1,A2):\n",
    "    lst=[]\n",
    "    d1,d2={},{}\n",
    "    for i in A1:\n",
    "        d1[i] = True\n",
    "        \n",
    "    for i in A2:\n",
    "        d2[i]=True\n",
    "    \n",
    "    if len(d1)>=len(d2):\n",
    "        for key,val in d2.items():\n",
    "            if key in d1:\n",
    "                lst.append(key)\n",
    "    else:\n",
    "        for key, val in d1.items():\n",
    "            if key in d2:\n",
    "                lst.append(key)\n",
    "    \n",
    "    return lst"
   ]
  },
  {
   "cell_type": "code",
   "execution_count": 81,
   "metadata": {
    "colab": {
     "base_uri": "https://localhost:8080/"
    },
    "executionInfo": {
     "elapsed": 1969,
     "status": "ok",
     "timestamp": 1625283861878,
     "user": {
      "displayName": "Aman Roland",
      "photoUrl": "https://lh3.googleusercontent.com/a-/AOh14GgVx_jS7yxiRP3I-pViq_GOAmsYtC7th9HKuzAydMc=s64",
      "userId": "18048666117095936338"
     },
     "user_tz": -330
    },
    "id": "rTtDepW30QZ-",
    "outputId": "cb3d027c-117f-4dc0-9147-02dc9c078ac2"
   },
   "outputs": [
    {
     "data": {
      "text/plain": [
       "[9, 4]"
      ]
     },
     "execution_count": 81,
     "metadata": {},
     "output_type": "execute_result"
    }
   ],
   "source": [
    "intersection([4,9,5],[9,4,9,8,4])"
   ]
  },
  {
   "cell_type": "markdown",
   "metadata": {
    "id": "JeQsjQ-l0QZ_"
   },
   "source": [
    "**36. Reverse String**\n",
    "\n",
    "Write a function that reverses a string. The input string is given as an array of characters s.\n",
    "\n",
    " \n",
    "\n",
    "Example 1:  \n",
    "Input: s = [\"h\",\"e\",\"l\",\"l\",\"o\"]  \n",
    "Output: [\"o\",\"l\",\"l\",\"e\",\"h\"]  \n",
    "\n",
    "Example 2:  \n",
    "Input: s = [\"H\",\"a\",\"n\",\"n\",\"a\",\"h\"]  \n",
    "Output: [\"h\",\"a\",\"n\",\"n\",\"a\",\"H\"]  \n",
    "\n",
    "Do not allocate extra space for another array. You must do this by modifying the input array in-place with O(1) extra memory."
   ]
  },
  {
   "cell_type": "code",
   "execution_count": 82,
   "metadata": {
    "id": "gU_Ut84P0QZ_"
   },
   "outputs": [],
   "source": [
    "def reverse(A):\n",
    "    for i in range(len(A)//2):\n",
    "        A[i],A[-1-i] = A[-1-i],A[i]\n",
    "    return A"
   ]
  },
  {
   "cell_type": "code",
   "execution_count": 83,
   "metadata": {
    "colab": {
     "base_uri": "https://localhost:8080/"
    },
    "executionInfo": {
     "elapsed": 1873,
     "status": "ok",
     "timestamp": 1625283861893,
     "user": {
      "displayName": "Aman Roland",
      "photoUrl": "https://lh3.googleusercontent.com/a-/AOh14GgVx_jS7yxiRP3I-pViq_GOAmsYtC7th9HKuzAydMc=s64",
      "userId": "18048666117095936338"
     },
     "user_tz": -330
    },
    "id": "6jxBlws20QaA",
    "outputId": "3f192a8f-a42e-425d-c074-0ffeefbfa375"
   },
   "outputs": [
    {
     "data": {
      "text/plain": [
       "['h', 'a', 'n', 'n', 'a', 'H']"
      ]
     },
     "execution_count": 83,
     "metadata": {},
     "output_type": "execute_result"
    }
   ],
   "source": [
    "reverse([\"H\",\"a\",\"n\",\"n\",\"a\",\"h\"])"
   ]
  },
  {
   "cell_type": "code",
   "execution_count": 84,
   "metadata": {
    "colab": {
     "base_uri": "https://localhost:8080/"
    },
    "executionInfo": {
     "elapsed": 1798,
     "status": "ok",
     "timestamp": 1625283861895,
     "user": {
      "displayName": "Aman Roland",
      "photoUrl": "https://lh3.googleusercontent.com/a-/AOh14GgVx_jS7yxiRP3I-pViq_GOAmsYtC7th9HKuzAydMc=s64",
      "userId": "18048666117095936338"
     },
     "user_tz": -330
    },
    "id": "3jszHlEo0QaB",
    "outputId": "44c9c9b7-7772-4960-f797-7372faa7e672"
   },
   "outputs": [
    {
     "data": {
      "text/plain": [
       "['o', 'l', 'l', 'e', 'h']"
      ]
     },
     "execution_count": 84,
     "metadata": {},
     "output_type": "execute_result"
    }
   ],
   "source": [
    "reverse([\"h\",\"e\",\"l\",\"l\",\"o\"])"
   ]
  },
  {
   "cell_type": "code",
   "execution_count": 85,
   "metadata": {
    "id": "3FjFzEK30QaB"
   },
   "outputs": [],
   "source": [
    "def reverseString(s):\n",
    "    left, right = 0, len(s) - 1\n",
    "    while left < right:\n",
    "        s[left], s[right] = s[right], s[left]\n",
    "        left, right = left + 1, right - 1\n",
    "    return s"
   ]
  },
  {
   "cell_type": "code",
   "execution_count": 86,
   "metadata": {
    "colab": {
     "base_uri": "https://localhost:8080/"
    },
    "executionInfo": {
     "elapsed": 1744,
     "status": "ok",
     "timestamp": 1625283861921,
     "user": {
      "displayName": "Aman Roland",
      "photoUrl": "https://lh3.googleusercontent.com/a-/AOh14GgVx_jS7yxiRP3I-pViq_GOAmsYtC7th9HKuzAydMc=s64",
      "userId": "18048666117095936338"
     },
     "user_tz": -330
    },
    "id": "7dC0ji9S0QaC",
    "outputId": "29a1c764-da6a-4382-db44-71aaeb8e36bf"
   },
   "outputs": [
    {
     "data": {
      "text/plain": [
       "['o', 'l', 'l', 'e', 'h']"
      ]
     },
     "execution_count": 86,
     "metadata": {},
     "output_type": "execute_result"
    }
   ],
   "source": [
    "reverseString([\"h\",\"e\",\"l\",\"l\",\"o\"])"
   ]
  },
  {
   "cell_type": "markdown",
   "metadata": {
    "id": "vblCZUcG0QaD"
   },
   "source": [
    "**37. Reverse Integer**\n",
    "\n",
    "Given a signed 32-bit integer x, return x with its digits reversed. If reversing x causes the value to go outside the signed 32-bit integer range [-231, 231 - 1], then return 0.\n",
    "\n",
    "Assume the environment does not allow you to store 64-bit integers (signed or unsigned).\n",
    "\n",
    "\n",
    "Example 1:\n",
    "Input: x = 123\n",
    "Output: 321\n",
    "\n",
    "Example 2:\n",
    "Input: x = -123\n",
    "Output: -321\n",
    "\n",
    "Example 3:\n",
    "Input: x = 120\n",
    "Output: 21\n",
    "\n",
    "Example 4:\n",
    "Input: x = 0\n",
    "Output: 0\n",
    " \n",
    "Constraints:\n",
    "$-2^{31} <= x <= 2^{31} - 1$"
   ]
  },
  {
   "cell_type": "code",
   "execution_count": 87,
   "metadata": {
    "id": "o7qtEMzp0QaD"
   },
   "outputs": [],
   "source": [
    "def reverse(x):\n",
    "    \n",
    "    abx = abs(x)\n",
    "    new_number = 0\n",
    "    while abx:\n",
    "        last_digit = abx%10\n",
    "        new_number = new_number*10 + last_digit\n",
    "        abx = abx//10\n",
    "    \n",
    "    if x < 0:\n",
    "        return -1*new_number\n",
    "    else: \n",
    "        return new_number"
   ]
  },
  {
   "cell_type": "code",
   "execution_count": 88,
   "metadata": {
    "colab": {
     "base_uri": "https://localhost:8080/"
    },
    "executionInfo": {
     "elapsed": 1650,
     "status": "ok",
     "timestamp": 1625283861934,
     "user": {
      "displayName": "Aman Roland",
      "photoUrl": "https://lh3.googleusercontent.com/a-/AOh14GgVx_jS7yxiRP3I-pViq_GOAmsYtC7th9HKuzAydMc=s64",
      "userId": "18048666117095936338"
     },
     "user_tz": -330
    },
    "id": "M4lyMNRd0QaE",
    "outputId": "f682a583-2b54-4725-a688-f7e5423913b4"
   },
   "outputs": [
    {
     "data": {
      "text/plain": [
       "-432"
      ]
     },
     "execution_count": 88,
     "metadata": {},
     "output_type": "execute_result"
    }
   ],
   "source": [
    "reverse(-234)"
   ]
  },
  {
   "cell_type": "code",
   "execution_count": 89,
   "metadata": {
    "colab": {
     "base_uri": "https://localhost:8080/"
    },
    "executionInfo": {
     "elapsed": 1609,
     "status": "ok",
     "timestamp": 1625283861939,
     "user": {
      "displayName": "Aman Roland",
      "photoUrl": "https://lh3.googleusercontent.com/a-/AOh14GgVx_jS7yxiRP3I-pViq_GOAmsYtC7th9HKuzAydMc=s64",
      "userId": "18048666117095936338"
     },
     "user_tz": -330
    },
    "id": "aMEDL3Pw0QaF",
    "outputId": "d911e382-190c-47b0-947d-16abc84c0782"
   },
   "outputs": [
    {
     "data": {
      "text/plain": [
       "321"
      ]
     },
     "execution_count": 89,
     "metadata": {},
     "output_type": "execute_result"
    }
   ],
   "source": [
    "reverse(123)"
   ]
  },
  {
   "cell_type": "markdown",
   "metadata": {
    "id": "5_U5-obM0QaG"
   },
   "source": [
    "**38. First Unique Character in a String**\n",
    "\n",
    "Given a string s, return the first non-repeating character in it and return its index. If it does not exist, return -1.\n",
    "\n",
    " \n",
    "\n",
    "Example 1:  \n",
    "Input: s = \"leetcode\"  \n",
    "Output: 0  \n",
    "\n",
    "Example 2:  \n",
    "Input: s = \"loveleetcode\"  \n",
    "Output: 2  \n",
    "\n",
    "Example 3:  \n",
    "Input: s = \"aabb\"  \n",
    "Output: -1  \n",
    " \n",
    "\n",
    "Constraints:\n",
    "\n",
    "1 <= s.length <= $10^5$\n",
    "s consists of only lowercase English letters."
   ]
  },
  {
   "cell_type": "code",
   "execution_count": 90,
   "metadata": {
    "id": "qv3OB6jZ0QaH"
   },
   "outputs": [],
   "source": [
    "def firstUnique(s):\n",
    "    d={}\n",
    "    for ch in s:\n",
    "        if ch not in d:\n",
    "            d[ch] = 1\n",
    "        else:\n",
    "            d[ch] += 1\n",
    "    \n",
    "    for idx,ch in enumerate(s):\n",
    "        if d[ch]==1:\n",
    "            return idx\n",
    "    \n",
    "    return -1        "
   ]
  },
  {
   "cell_type": "code",
   "execution_count": 91,
   "metadata": {
    "colab": {
     "base_uri": "https://localhost:8080/"
    },
    "executionInfo": {
     "elapsed": 1548,
     "status": "ok",
     "timestamp": 1625283861950,
     "user": {
      "displayName": "Aman Roland",
      "photoUrl": "https://lh3.googleusercontent.com/a-/AOh14GgVx_jS7yxiRP3I-pViq_GOAmsYtC7th9HKuzAydMc=s64",
      "userId": "18048666117095936338"
     },
     "user_tz": -330
    },
    "id": "8J-eQESs0QaI",
    "outputId": "0daa5791-3010-4f21-b14b-cb9b9fda413a"
   },
   "outputs": [
    {
     "data": {
      "text/plain": [
       "2"
      ]
     },
     "execution_count": 91,
     "metadata": {},
     "output_type": "execute_result"
    }
   ],
   "source": [
    "firstUnique(\"loveleetcode\")"
   ]
  },
  {
   "cell_type": "markdown",
   "metadata": {
    "id": "LDhoCIQp0QaJ"
   },
   "source": [
    "**39. Valid Anagram**\n",
    "\n",
    "Given two strings s and t, return true if t is an anagram of s, and false otherwise.\n",
    "\n",
    " \n",
    "\n",
    "Example 1:   \n",
    "Input: s = \"anagram\", t = \"nagaram\"  \n",
    "Output: true  \n",
    "  \n",
    "Example 2:  \n",
    "Input: s = \"rat\", t = \"car\"  \n",
    "Output: false  \n",
    " \n",
    " \n",
    "Constraints:  \n",
    "  \n",
    "1 <= s.length, t.length <= 5 * 104  \n",
    "s and t consist of lowercase English letters.  "
   ]
  },
  {
   "cell_type": "code",
   "execution_count": 92,
   "metadata": {
    "id": "1shQwiOa0QaK"
   },
   "outputs": [],
   "source": [
    "def isAnagram(s, t): \n",
    "    x = set(s+t)\n",
    "    for i in x:\n",
    "        if s.count(i) != t.count(i):\n",
    "            return False\n",
    "        else:\n",
    "            continue\n",
    "    return True   "
   ]
  },
  {
   "cell_type": "code",
   "execution_count": 93,
   "metadata": {
    "colab": {
     "base_uri": "https://localhost:8080/"
    },
    "executionInfo": {
     "elapsed": 1526,
     "status": "ok",
     "timestamp": 1625283861985,
     "user": {
      "displayName": "Aman Roland",
      "photoUrl": "https://lh3.googleusercontent.com/a-/AOh14GgVx_jS7yxiRP3I-pViq_GOAmsYtC7th9HKuzAydMc=s64",
      "userId": "18048666117095936338"
     },
     "user_tz": -330
    },
    "id": "rOHYJBxh0QaL",
    "outputId": "a0cfec0d-449a-40d2-87e8-bbd4b1d7c495"
   },
   "outputs": [
    {
     "data": {
      "text/plain": [
       "True"
      ]
     },
     "execution_count": 93,
     "metadata": {},
     "output_type": "execute_result"
    }
   ],
   "source": [
    "s = \"anagram\"\n",
    "t = \"nagaram\"\n",
    "isAnagram(s, t)"
   ]
  },
  {
   "cell_type": "code",
   "execution_count": 94,
   "metadata": {
    "colab": {
     "base_uri": "https://localhost:8080/"
    },
    "executionInfo": {
     "elapsed": 1498,
     "status": "ok",
     "timestamp": 1625283861989,
     "user": {
      "displayName": "Aman Roland",
      "photoUrl": "https://lh3.googleusercontent.com/a-/AOh14GgVx_jS7yxiRP3I-pViq_GOAmsYtC7th9HKuzAydMc=s64",
      "userId": "18048666117095936338"
     },
     "user_tz": -330
    },
    "id": "-mJeptK60QaM",
    "outputId": "3b9d030d-05e8-425a-b647-e35d9db2614d"
   },
   "outputs": [
    {
     "data": {
      "text/plain": [
       "False"
      ]
     },
     "execution_count": 94,
     "metadata": {},
     "output_type": "execute_result"
    }
   ],
   "source": [
    "s = \"rat\"\n",
    "t = \"car\"\n",
    "isAnagram(s, t)"
   ]
  },
  {
   "cell_type": "code",
   "execution_count": 95,
   "metadata": {
    "id": "II7MwW3q0QaO"
   },
   "outputs": [],
   "source": [
    "import collections\n",
    "def isAnagram(s,t):\n",
    "    return collections.Counter(s)==collections.Counter(t)"
   ]
  },
  {
   "cell_type": "markdown",
   "metadata": {
    "id": "cq9cW2JO0QaP"
   },
   "source": [
    "**40. Valid Palindrome**\n",
    "\n",
    "Given a string s, determine if it is a palindrome, considering only alphanumeric characters and ignoring cases.  \n",
    "\n",
    "Example 1:  \n",
    "Input: s = \"A man, a plan, a canal: Panama\"  \n",
    "Output: true  \n",
    "Explanation: \"amanaplanacanalpanama\" is a palindrome.  \n",
    "\n",
    "Example 2:  \n",
    "Input: s = \"race a car\"  \n",
    "Output: false  \n",
    "Explanation: \"raceacar\" is not a palindrome.  "
   ]
  },
  {
   "cell_type": "code",
   "execution_count": 96,
   "metadata": {
    "id": "MMiHjRp-0QaQ"
   },
   "outputs": [],
   "source": [
    "import re\n",
    "def isPalindrome(s):\n",
    "    s = ''.join(re.findall(r'\\w+',s)).lower()\n",
    "    return s == s[::-1]"
   ]
  },
  {
   "cell_type": "code",
   "execution_count": 97,
   "metadata": {
    "id": "aLnbiphd0QaQ"
   },
   "outputs": [],
   "source": [
    "def isPalindrome(s):\n",
    "    s = re.sub(r'\\W', '', s).lower()\n",
    "    return s == s[::-1]"
   ]
  },
  {
   "cell_type": "markdown",
   "metadata": {
    "id": "_D_NgbvQ0QaR"
   },
   "source": [
    "**41. Longest Common Prefix**\n",
    "\n",
    "Write a function to find the longest common prefix string amongst an array of strings.\n",
    "\n",
    "If there is no common prefix, return an empty string \"\".\n",
    "\n",
    " \n",
    "\n",
    "Example 1:  \n",
    "Input: strs = [\"flower\",\"flow\",\"flight\"]  \n",
    "Output: \"fl\"  \n",
    "  \n",
    "Example 2:  \n",
    "Input: strs = [\"dog\",\"racecar\",\"car\"]  \n",
    "Output: \"\"  \n",
    "Explanation: There is no common prefix among the input strings.  \n",
    " \n",
    "\n",
    "Constraints:  \n",
    "\n",
    "1 <= strs.length <= 200  \n",
    "0 <= strs[i].length <= 200  \n",
    "strs[i] consists of only lower-case English letters.  "
   ]
  },
  {
   "cell_type": "code",
   "execution_count": 98,
   "metadata": {
    "id": "49v8VQ9a0QaS"
   },
   "outputs": [],
   "source": [
    "A = [\"flower\",\"flow\",\"flight\"]"
   ]
  },
  {
   "cell_type": "code",
   "execution_count": 99,
   "metadata": {
    "id": "wDzl6jTB0QaS"
   },
   "outputs": [],
   "source": [
    "def counter(A, idx, letter):\n",
    "    for word in A[1:]:\n",
    "        if letter not in word[idx]:\n",
    "            return False\n",
    "    return True"
   ]
  },
  {
   "cell_type": "code",
   "execution_count": 100,
   "metadata": {
    "id": "L7zbc1Km0QaT"
   },
   "outputs": [],
   "source": [
    "def LCP(A):\n",
    "    A = sorted(A, key=len)\n",
    "    if len(A)==0:\n",
    "        return \"\"\n",
    "    elif len(A)==1:\n",
    "        return A[0]\n",
    "    else:\n",
    "        first_word = A[0]\n",
    "        idx=0\n",
    "        for letter in first_word:\n",
    "            if counter(A, idx, letter):\n",
    "                idx +=1\n",
    "            else:\n",
    "                break\n",
    "        return first_word[:idx]"
   ]
  },
  {
   "cell_type": "code",
   "execution_count": 101,
   "metadata": {
    "colab": {
     "base_uri": "https://localhost:8080/",
     "height": 35
    },
    "executionInfo": {
     "elapsed": 1492,
     "status": "ok",
     "timestamp": 1625283862052,
     "user": {
      "displayName": "Aman Roland",
      "photoUrl": "https://lh3.googleusercontent.com/a-/AOh14GgVx_jS7yxiRP3I-pViq_GOAmsYtC7th9HKuzAydMc=s64",
      "userId": "18048666117095936338"
     },
     "user_tz": -330
    },
    "id": "JeertMqI0QaU",
    "outputId": "df23819e-237e-47b0-9ace-8a7869c99531"
   },
   "outputs": [
    {
     "data": {
      "text/plain": [
       "'fl'"
      ]
     },
     "execution_count": 101,
     "metadata": {},
     "output_type": "execute_result"
    }
   ],
   "source": [
    "LCP(A)"
   ]
  },
  {
   "cell_type": "markdown",
   "metadata": {
    "id": "KKpqd97b0QaU"
   },
   "source": [
    "**42. Two Sum II - Input array is sorted**\n",
    "\n",
    "Given an array of integers numbers that is already sorted in non-decreasing order, find two numbers such that they add up to a specific target number.\n",
    "\n",
    "Return the indices of the two numbers (1-indexed) as an integer array answer of size 2, where 1 <= answer[0] < answer[1] <= numbers.length.\n",
    "\n",
    "The tests are generated such that there is exactly one solution. You may not use the same element twice.\n",
    "\n",
    " \n",
    "\n",
    "Example 1:\n",
    "\n",
    "Input: numbers = [2,7,11,15], target = 9  \n",
    "Output: [1,2]  \n",
    "Explanation: The sum of 2 and 7 is 9. Therefore index1 = 1, index2 = 2.  \n",
    "Example 2:  \n",
    "  \n",
    "Input: numbers = [2,3,4], target = 6  \n",
    "Output: [1,3]  \n",
    "Example 3:  \n",
    "  \n",
    "Input: numbers = [-1,0], target = -1  \n",
    "Output: [1,2]  "
   ]
  },
  {
   "cell_type": "code",
   "execution_count": 102,
   "metadata": {
    "id": "ytuL4iSl0QaV"
   },
   "outputs": [],
   "source": [
    "def twosum(A,target):\n",
    "    i=0\n",
    "    j=len(A)-1\n",
    "    lst=[]\n",
    "    while i!=j:\n",
    "        if A[i]+A[j]==target:\n",
    "            return [i+1,j+1]\n",
    "        elif A[i]+A[j]>target:\n",
    "            j-=1\n",
    "        elif A[i]+A[j]<targer:\n",
    "            i+=1"
   ]
  },
  {
   "cell_type": "code",
   "execution_count": 103,
   "metadata": {
    "colab": {
     "base_uri": "https://localhost:8080/"
    },
    "executionInfo": {
     "elapsed": 1483,
     "status": "ok",
     "timestamp": 1625283862057,
     "user": {
      "displayName": "Aman Roland",
      "photoUrl": "https://lh3.googleusercontent.com/a-/AOh14GgVx_jS7yxiRP3I-pViq_GOAmsYtC7th9HKuzAydMc=s64",
      "userId": "18048666117095936338"
     },
     "user_tz": -330
    },
    "id": "ujFaHWQU0QaW",
    "outputId": "94fef5d2-0d30-4726-83c8-89cb5c4a67f1"
   },
   "outputs": [
    {
     "data": {
      "text/plain": [
       "[1, 2]"
      ]
     },
     "execution_count": 103,
     "metadata": {},
     "output_type": "execute_result"
    }
   ],
   "source": [
    "twosum([-1,0],-1)"
   ]
  },
  {
   "cell_type": "markdown",
   "metadata": {
    "id": "tbOzzR3K0QaY"
   },
   "source": [
    "**43. 3Sum**\n",
    "\n",
    "Given an integer array nums, return all the triplets [nums[i], nums[j], nums[k]] such that i != j, i != k, and j != k, and nums[i] + nums[j] + nums[k] == 0.\n",
    "\n",
    "Notice that the solution set must not contain duplicate triplets.\n",
    "\n",
    " \n",
    "\n",
    "Example 1:  \n",
    "Input: nums = [-1,0,1,2,-1,-4]  \n",
    "Output: [[-1,-1,2],[-1,0,1]]  \n",
    "  \n",
    "Example 2:  \n",
    "Input: nums = []  \n",
    "Output: []  \n",
    "  \n",
    "Example 3:  \n",
    "Input: nums = [0]  \n",
    "Output: []  \n",
    " \n",
    "\n",
    "Constraints:  \n",
    "\n",
    "0 <= nums.length <= 3000\n",
    "-105 <= nums[i] <= 105"
   ]
  },
  {
   "cell_type": "code",
   "execution_count": 104,
   "metadata": {
    "id": "uZPbTWz40QaZ"
   },
   "outputs": [],
   "source": [
    "def threesum(A):\n",
    "    lst=[]\n",
    "    A.sort()\n",
    "    \n",
    "    for i, a in enumerate(A):\n",
    "        if i>0 and a==A[i-1]:\n",
    "            continue\n",
    "        l = i+1\n",
    "        r = len(A)-1\n",
    "        while l<r:\n",
    "            threesum = a+A[l]+A[r]\n",
    "            if threesum>0:\n",
    "                r-=1\n",
    "            elif threesum<0:\n",
    "                l+=1\n",
    "            else:\n",
    "                lst.append([a,A[l],A[r]])\n",
    "                l+=1\n",
    "                while A[l] == A[l-1] and l<r:\n",
    "                    l+=1\n",
    "    return lst"
   ]
  },
  {
   "cell_type": "code",
   "execution_count": 105,
   "metadata": {
    "colab": {
     "base_uri": "https://localhost:8080/"
    },
    "executionInfo": {
     "elapsed": 1438,
     "status": "ok",
     "timestamp": 1625283862061,
     "user": {
      "displayName": "Aman Roland",
      "photoUrl": "https://lh3.googleusercontent.com/a-/AOh14GgVx_jS7yxiRP3I-pViq_GOAmsYtC7th9HKuzAydMc=s64",
      "userId": "18048666117095936338"
     },
     "user_tz": -330
    },
    "id": "vOsAfOlR0Qaa",
    "outputId": "726741e7-3fe5-4b9f-cf5d-51d710a02ee7"
   },
   "outputs": [
    {
     "data": {
      "text/plain": [
       "[[-1, -1, 2], [-1, 0, 1]]"
      ]
     },
     "execution_count": 105,
     "metadata": {},
     "output_type": "execute_result"
    }
   ],
   "source": [
    "threesum([-1,0,1,2,-1,-4])"
   ]
  },
  {
   "cell_type": "code",
   "execution_count": 106,
   "metadata": {
    "colab": {
     "base_uri": "https://localhost:8080/"
    },
    "executionInfo": {
     "elapsed": 1400,
     "status": "ok",
     "timestamp": 1625283862065,
     "user": {
      "displayName": "Aman Roland",
      "photoUrl": "https://lh3.googleusercontent.com/a-/AOh14GgVx_jS7yxiRP3I-pViq_GOAmsYtC7th9HKuzAydMc=s64",
      "userId": "18048666117095936338"
     },
     "user_tz": -330
    },
    "id": "m24IILAV0Qab",
    "outputId": "02c5c319-95a3-40fb-fd51-ed6b63b237e0"
   },
   "outputs": [
    {
     "data": {
      "text/plain": [
       "[]"
      ]
     },
     "execution_count": 106,
     "metadata": {},
     "output_type": "execute_result"
    }
   ],
   "source": [
    "threesum([])"
   ]
  },
  {
   "cell_type": "markdown",
   "metadata": {
    "id": "THKMvfOV0Qac"
   },
   "source": [
    "**44. Group Anagrams**\n",
    "\n",
    "\n",
    "Given an array of strings strs, group the anagrams together. You can return the answer in any order.\n",
    "\n",
    "An Anagram is a word or phrase formed by rearranging the letters of a different word or phrase, typically using all the original letters exactly once.\n",
    "\n",
    " \n",
    "\n",
    "Example 1:  \n",
    "Input: strs = [\"eat\",\"tea\",\"tan\",\"ate\",\"nat\",\"bat\"]  \n",
    "Output: [[\"bat\"],[\"nat\",\"tan\"],[\"ate\",\"eat\",\"tea\"]]  \n",
    "  \n",
    "Example 2:  \n",
    "Input: strs = [\"\"]  \n",
    "Output: [[\"\"]]  \n",
    "\n",
    "Example 3:  \n",
    "Input: strs = [\"a\"]  \n",
    "Output: [[\"a\"]]  \n",
    " \n",
    "\n",
    "Constraints:  \n",
    "\n",
    "1 <= strs.length <= 104  \n",
    "0 <= strs[i].length <= 100 \n",
    "strs[i] consists of lower-case English letters.  "
   ]
  },
  {
   "cell_type": "code",
   "execution_count": 107,
   "metadata": {
    "id": "406XkWn60Qad"
   },
   "outputs": [],
   "source": [
    "def groupAnagrams(A):\n",
    "    lst=[]\n",
    "    d={}\n",
    "    if len(A)==0:\n",
    "        return[[]]\n",
    "    \n",
    "    for word in A:\n",
    "        sorted_word = sorted(word)\n",
    "        sorted_word = \"\".join(sorted_word)\n",
    "        if sorted_word not in d:\n",
    "            d[sorted_word] = [word]\n",
    "        else:\n",
    "            d[sorted_word].append(word)\n",
    "            \n",
    "    for value in d.values():\n",
    "        value.sort()\n",
    "        lst.append(value)\n",
    "    \n",
    "    lst.sort(key=len)\n",
    "    return lst"
   ]
  },
  {
   "cell_type": "code",
   "execution_count": 108,
   "metadata": {
    "colab": {
     "base_uri": "https://localhost:8080/"
    },
    "executionInfo": {
     "elapsed": 1369,
     "status": "ok",
     "timestamp": 1625283862069,
     "user": {
      "displayName": "Aman Roland",
      "photoUrl": "https://lh3.googleusercontent.com/a-/AOh14GgVx_jS7yxiRP3I-pViq_GOAmsYtC7th9HKuzAydMc=s64",
      "userId": "18048666117095936338"
     },
     "user_tz": -330
    },
    "id": "pFcn5SBD0Qae",
    "outputId": "d3d77397-c3cc-4655-e274-640f28abbe89"
   },
   "outputs": [
    {
     "data": {
      "text/plain": [
       "[['bat'], ['nat', 'tan'], ['ate', 'eat', 'tea']]"
      ]
     },
     "execution_count": 108,
     "metadata": {},
     "output_type": "execute_result"
    }
   ],
   "source": [
    "groupAnagrams([\"eat\",\"tea\",\"tan\",\"ate\",\"nat\",\"bat\"])"
   ]
  },
  {
   "cell_type": "code",
   "execution_count": 109,
   "metadata": {
    "colab": {
     "base_uri": "https://localhost:8080/"
    },
    "executionInfo": {
     "elapsed": 1332,
     "status": "ok",
     "timestamp": 1625283862070,
     "user": {
      "displayName": "Aman Roland",
      "photoUrl": "https://lh3.googleusercontent.com/a-/AOh14GgVx_jS7yxiRP3I-pViq_GOAmsYtC7th9HKuzAydMc=s64",
      "userId": "18048666117095936338"
     },
     "user_tz": -330
    },
    "id": "xNtRKhjY0Qaf",
    "outputId": "75863570-cae1-443d-925d-fada9f7f9916"
   },
   "outputs": [
    {
     "data": {
      "text/plain": [
       "[[]]"
      ]
     },
     "execution_count": 109,
     "metadata": {},
     "output_type": "execute_result"
    }
   ],
   "source": [
    "groupAnagrams([])"
   ]
  },
  {
   "cell_type": "code",
   "execution_count": 110,
   "metadata": {
    "colab": {
     "base_uri": "https://localhost:8080/"
    },
    "executionInfo": {
     "elapsed": 1281,
     "status": "ok",
     "timestamp": 1625283862073,
     "user": {
      "displayName": "Aman Roland",
      "photoUrl": "https://lh3.googleusercontent.com/a-/AOh14GgVx_jS7yxiRP3I-pViq_GOAmsYtC7th9HKuzAydMc=s64",
      "userId": "18048666117095936338"
     },
     "user_tz": -330
    },
    "id": "ohWHPWvK0Qah",
    "outputId": "b83528ae-b59c-49e9-9896-7996bc9bf593"
   },
   "outputs": [
    {
     "data": {
      "text/plain": [
       "[['a']]"
      ]
     },
     "execution_count": 110,
     "metadata": {},
     "output_type": "execute_result"
    }
   ],
   "source": [
    "groupAnagrams(['a'])"
   ]
  },
  {
   "cell_type": "markdown",
   "metadata": {
    "id": "muW5FI-00Qai"
   },
   "source": [
    "**45. Longest Palindromic Substring**\n",
    "\n",
    "Given a string s, return the longest palindromic substring in s.\n",
    "\n",
    "Example 1:  \n",
    "Input: s = \"babad\"  \n",
    "Output: \"bab\"  \n",
    "Note: \"aba\" is also a valid answer.  \n",
    "\n",
    "Example 2:  \n",
    "Input: s = \"cbbd\"  \n",
    "Output: \"bb\"  \n",
    "\n",
    "Example 3:  \n",
    "Input: s = \"a\"  \n",
    "Output: \"a\"  \n",
    "\n",
    "Example 4:  \n",
    "Input: s = \"ac\"  \n",
    "Output: \"a\"  "
   ]
  },
  {
   "cell_type": "code",
   "execution_count": 111,
   "metadata": {
    "id": "wIeYy1oV0Qaj"
   },
   "outputs": [],
   "source": [
    "def LPS(s):\n",
    "    result=''\n",
    "    resLen=0\n",
    "    \n",
    "    for i in range(len(s)):\n",
    "        #odd len\n",
    "        l,r=i,i\n",
    "        while l>0 and r<len(s) and s[l]==s[r]:\n",
    "            if (r-l+1)>resLen:\n",
    "                result = s[l:r+1]\n",
    "                resLen = r-l+1\n",
    "            l-=1\n",
    "            r+=1\n",
    "        \n",
    "        #even lenght\n",
    "        l,r=i,i+1\n",
    "        while l>0 and r<len(s) and s[l]==s[r]:\n",
    "            if (r-l+1)>resLen:\n",
    "                result = s[l:r+1]\n",
    "                resLen = r-l+1\n",
    "            l-=1\n",
    "            r+=1\n",
    "    return result"
   ]
  },
  {
   "cell_type": "code",
   "execution_count": 112,
   "metadata": {
    "colab": {
     "base_uri": "https://localhost:8080/",
     "height": 35
    },
    "executionInfo": {
     "elapsed": 1249,
     "status": "ok",
     "timestamp": 1625283862078,
     "user": {
      "displayName": "Aman Roland",
      "photoUrl": "https://lh3.googleusercontent.com/a-/AOh14GgVx_jS7yxiRP3I-pViq_GOAmsYtC7th9HKuzAydMc=s64",
      "userId": "18048666117095936338"
     },
     "user_tz": -330
    },
    "id": "9g1r1imH0Qak",
    "outputId": "f7be7a10-6670-42fe-a04f-996a59ea5dcb"
   },
   "outputs": [
    {
     "data": {
      "text/plain": [
       "'c'"
      ]
     },
     "execution_count": 112,
     "metadata": {},
     "output_type": "execute_result"
    }
   ],
   "source": [
    "s=\"sc\"\n",
    "LPS(s)"
   ]
  },
  {
   "cell_type": "code",
   "execution_count": 113,
   "metadata": {
    "colab": {
     "base_uri": "https://localhost:8080/",
     "height": 35
    },
    "executionInfo": {
     "elapsed": 1245,
     "status": "ok",
     "timestamp": 1625283862081,
     "user": {
      "displayName": "Aman Roland",
      "photoUrl": "https://lh3.googleusercontent.com/a-/AOh14GgVx_jS7yxiRP3I-pViq_GOAmsYtC7th9HKuzAydMc=s64",
      "userId": "18048666117095936338"
     },
     "user_tz": -330
    },
    "id": "Oocnrad50Qav",
    "outputId": "25efbed8-1130-45c8-8ad2-aefc2c657799"
   },
   "outputs": [
    {
     "data": {
      "text/plain": [
       "'aba'"
      ]
     },
     "execution_count": 113,
     "metadata": {},
     "output_type": "execute_result"
    }
   ],
   "source": [
    "s = \"babad\"\n",
    "LPS(s)"
   ]
  },
  {
   "cell_type": "code",
   "execution_count": 114,
   "metadata": {
    "colab": {
     "base_uri": "https://localhost:8080/",
     "height": 35
    },
    "executionInfo": {
     "elapsed": 1234,
     "status": "ok",
     "timestamp": 1625283862083,
     "user": {
      "displayName": "Aman Roland",
      "photoUrl": "https://lh3.googleusercontent.com/a-/AOh14GgVx_jS7yxiRP3I-pViq_GOAmsYtC7th9HKuzAydMc=s64",
      "userId": "18048666117095936338"
     },
     "user_tz": -330
    },
    "id": "6qjIoJq10Qaw",
    "outputId": "e7d8cefe-5ff0-4531-869a-042fcd74e422"
   },
   "outputs": [
    {
     "data": {
      "text/plain": [
       "'bb'"
      ]
     },
     "execution_count": 114,
     "metadata": {},
     "output_type": "execute_result"
    }
   ],
   "source": [
    "s = \"cbbd\"\n",
    "LPS(s)"
   ]
  },
  {
   "cell_type": "markdown",
   "metadata": {
    "id": "8rcFCQdY0Qax"
   },
   "source": [
    "**46. Increasing Triplet Subsequence**\n",
    "\n",
    "Solution\n",
    "Given an integer array nums, return true if there exists a triple of indices (i, j, k) such that i < j < k and nums[i] < nums[j] < nums[k]. If no such indices exists, return false.\n",
    "\n",
    "\n",
    "Example 1:  \n",
    "Input: nums = [1,2,3,4,5]  \n",
    "Output: true  \n",
    "Explanation: Any triplet where i < j < k is valid.  \n",
    "\n",
    "Example 2:  \n",
    "Input: nums = [5,4,3,2,1]  \n",
    "Output: false  \n",
    "Explanation: No triplet exists.  \n",
    "\n",
    "Example 3:  \n",
    "Input: nums = [2,1,5,0,4,6]  \n",
    "Output: true  \n",
    "Explanation: The triplet (3, 4, 5) is valid because nums[3] == 0 < nums[4] == 4 < nums[5] == 6.  "
   ]
  },
  {
   "cell_type": "code",
   "execution_count": 115,
   "metadata": {
    "id": "R_ZFwbNv0Qay"
   },
   "outputs": [],
   "source": [
    "def increasingTriplet(A):\n",
    "    first_num = float('inf')\n",
    "    second_num = float('inf')\n",
    "    for n in A:\n",
    "        if n<=first_num:\n",
    "            first_num = n\n",
    "        elif n <= second_num:\n",
    "            second_num = n\n",
    "        else:\n",
    "            return True\n",
    "    return False\n",
    "    "
   ]
  },
  {
   "cell_type": "markdown",
   "metadata": {
    "id": "IAnJ9L-E0Qay"
   },
   "source": [
    "**47. Python Program for Fibonacci numbers**\n",
    "\n",
    "The Fibonacci numbers are the numbers in the following integer sequence.\n",
    "0, 1, 1, 2, 3, 5, 8, 13, 21, 34, 55, 89, 144, ……..\n",
    "In mathematical terms, the sequence Fn of Fibonacci numbers is defined by the recurrence relation \n",
    "\n",
    "    Fn = Fn-1 + Fn-2  \n",
    "with seed values    \n",
    "\n",
    "   F0 = 0 and F1 = 1.  "
   ]
  },
  {
   "cell_type": "code",
   "execution_count": 116,
   "metadata": {
    "id": "PVWiA2R20Qaz"
   },
   "outputs": [],
   "source": [
    "def Fibonacci(n):\n",
    "   \n",
    "    if n < 0:\n",
    "        print(\"Incorrect input\") \n",
    "    elif n == 0:\n",
    "        return 0\n",
    "    elif n == 1:\n",
    "        return 1\n",
    "    else:\n",
    "        return Fibonacci(n-1) + Fibonacci(n-2)"
   ]
  },
  {
   "cell_type": "code",
   "execution_count": 117,
   "metadata": {
    "colab": {
     "base_uri": "https://localhost:8080/"
    },
    "executionInfo": {
     "elapsed": 1227,
     "status": "ok",
     "timestamp": 1625283862093,
     "user": {
      "displayName": "Aman Roland",
      "photoUrl": "https://lh3.googleusercontent.com/a-/AOh14GgVx_jS7yxiRP3I-pViq_GOAmsYtC7th9HKuzAydMc=s64",
      "userId": "18048666117095936338"
     },
     "user_tz": -330
    },
    "id": "U99jNCQ50Qaz",
    "outputId": "651be43c-17e5-409d-ba2b-0a6fc63f39db"
   },
   "outputs": [
    {
     "data": {
      "text/plain": [
       "34"
      ]
     },
     "execution_count": 117,
     "metadata": {},
     "output_type": "execute_result"
    }
   ],
   "source": [
    "Fibonacci(9)"
   ]
  },
  {
   "cell_type": "markdown",
   "metadata": {
    "id": "SShMRjG91cog"
   },
   "source": [
    "**48. Remove All Adjacent Duplicates In String**  \n",
    "You are given a string s consisting of lowercase English letters. A duplicate removal consists of choosing two adjacent and equal letters and removing them.\n",
    "\n",
    "We repeatedly make duplicate removals on s until we no longer can.\n",
    "\n",
    "Return the final string after all such duplicate removals have been made. It can be proven that the answer is unique.\n",
    "\n",
    "Example 1:  \n",
    "Input: s = \"abbaca\"  \n",
    "Output: \"ca\"  \n",
    "  \n",
    "Explanation:   \n",
    "For example, in \"abbaca\" we could remove \"bb\" since the letters are adjacent and equal, and this is the only possible move.  The result of this move is that the string is \"aaca\", of which only \"aa\" is possible, so the final string is \"ca\".  \n",
    "  \n",
    "Example 2:  \n",
    "Input: s = \"azxxzy\"  \n",
    "Output: \"ay\"  "
   ]
  },
  {
   "cell_type": "code",
   "execution_count": 118,
   "metadata": {
    "id": "vip6qiUY1hRP"
   },
   "outputs": [],
   "source": [
    "def duplicateremoval(s):\n",
    "    lst=[]\n",
    "    i=0\n",
    "    while i<(len(s)):\n",
    "        if i==0 or s[i]!=lst[-1]:\n",
    "            lst.append(s[i])\n",
    "            i+=1\n",
    "        else:\n",
    "            lst.pop(-1)\n",
    "            i+=1\n",
    "    \n",
    "    if len(lst)==0:\n",
    "        return \"Empty String\"\n",
    "    else:\n",
    "        result = \"\"\n",
    "        for x in lst:\n",
    "            result += x\n",
    "    return result"
   ]
  },
  {
   "cell_type": "code",
   "execution_count": 119,
   "metadata": {
    "colab": {
     "base_uri": "https://localhost:8080/",
     "height": 35
    },
    "executionInfo": {
     "elapsed": 1173,
     "status": "ok",
     "timestamp": 1625283862097,
     "user": {
      "displayName": "Aman Roland",
      "photoUrl": "https://lh3.googleusercontent.com/a-/AOh14GgVx_jS7yxiRP3I-pViq_GOAmsYtC7th9HKuzAydMc=s64",
      "userId": "18048666117095936338"
     },
     "user_tz": -330
    },
    "id": "rucEnzCP7sSm",
    "outputId": "fd090eee-9249-498d-83d3-e6a4f546e81b"
   },
   "outputs": [
    {
     "data": {
      "text/plain": [
       "'ay'"
      ]
     },
     "execution_count": 119,
     "metadata": {},
     "output_type": "execute_result"
    }
   ],
   "source": [
    "duplicateremoval(\"azxxzy\")"
   ]
  },
  {
   "cell_type": "markdown",
   "metadata": {
    "id": "EaoN09-ceTNF"
   },
   "source": [
    "**49. Subarray with given sum**\n",
    "\n",
    "Given an unsorted array A of size N that contains only non-negative integers, find a continuous sub-array which adds to a given number S.\n",
    "\n",
    " \n",
    "\n",
    "Example 1:\n",
    "\n",
    "Input:  \n",
    "N = 5, S = 12  \n",
    "A[] = {1,2,3,7,5}  \n",
    "Output: 2 4  \n",
    "Explanation: The sum of elements\n",
    "from 2nd position to 4th position \n",
    "is 12.\n",
    " \n",
    "\n",
    "Example 2:  \n",
    "\n",
    "Input:  \n",
    "N = 10, S = 15  \n",
    "A[] = {1,2,3,4,5,6,7,8,9,10}  \n",
    "Output: 1 5  \n",
    "Explanation: The sum of elements \n",
    "from 1st position to 5th position\n",
    "is 15.  \n",
    " \n",
    "\n",
    "Your Task:  \n",
    "You don't need to read input or print anything. The task is to complete the function subarraySum() which takes arr, N and S as input parameters and returns a list containing the starting and ending positions of the first such occurring subarray from the left where sum equals to S. The two indexes in the list should be according to 1-based indexing. If no such subarray is found, return an array consisting only one element that is -1.\n",
    "\n",
    "\n",
    "Expected Time Complexity: O(N)  \n",
    "Expected Auxiliary Space: O(1)  \n",
    "\n",
    "Constraints:  \n",
    "1 <= N <= 105  \n",
    "1 <= Ai <= 1010  "
   ]
  },
  {
   "cell_type": "markdown",
   "metadata": {
    "id": "yZZxPtGdX_x7"
   },
   "source": [
    "**50. Chocolate Distribution Problem**\n",
    "\n",
    "Given an array of n integers where each value represents the number of chocolates in a packet. Each packet can have a variable number of chocolates. There are m students, the task is to distribute chocolate packets such that: \n",
    "\n",
    "+ Each student gets one packet.\n",
    "+ The difference between the number of chocolates in the packet with maximum chocolates and packet with minimum chocolates given to the students is minimum.\n",
    "\n",
    "Input : arr[] = {7, 3, 2, 4, 9, 12, 56} , m = 3   \n",
    "Output: Minimum Difference is 2   \n",
    "Explanation:  \n",
    "We have seven packets of chocolates and \n",
    "we need to pick three packets for 3 students \n",
    "If we pick 2, 3 and 4, we get the minimum \n",
    "difference between maximum and minimum packet \n",
    "sizes.  \n",
    "  \n",
    "Input : arr[] = {3, 4, 1, 9, 56, 7, 9, 12} , m = 5   \n",
    "Output: Minimum Difference is 6   \n",
    "Explanation:\n",
    "The set goes like 3,4,7,9,9 and the output \n",
    "is 9-3 = 6  \n",
    "  \n",
    "Input : arr[] = {12, 4, 7, 9, 2, 23, 25, 41,\n",
    "30, 40, 28, 42, 30, 44, 48, \n",
    "43, 50} , m = 7   \n",
    "Output: Minimum Difference is 10   \n",
    "Explanation:\n",
    "We need to pick 7 packets. We pick 40, 41, \n",
    "42, 44, 48, 43 and 50 to minimize difference \n",
    "between maximum and minimum.   "
   ]
  },
  {
   "cell_type": "code",
   "execution_count": 120,
   "metadata": {
    "id": "lE-DqMRJzrg0"
   },
   "outputs": [],
   "source": [
    "def solution(A, m):\n",
    "    A.sort()\n",
    "    i = 0\n",
    "    j = m-1\n",
    "    gl_min = float('inf')\n",
    "    \n",
    "    while j < len(A):\n",
    "        min = A[j]-A[i]\n",
    "        if min < gl_min:\n",
    "            gl_min = min\n",
    "        i+=1\n",
    "        j+=1\n",
    "    \n",
    "    return gl_min"
   ]
  },
  {
   "cell_type": "code",
   "execution_count": 121,
   "metadata": {
    "colab": {
     "base_uri": "https://localhost:8080/"
    },
    "executionInfo": {
     "elapsed": 427,
     "status": "ok",
     "timestamp": 1625673094018,
     "user": {
      "displayName": "Aman Roland",
      "photoUrl": "https://lh3.googleusercontent.com/a-/AOh14GgVx_jS7yxiRP3I-pViq_GOAmsYtC7th9HKuzAydMc=s64",
      "userId": "18048666117095936338"
     },
     "user_tz": -330
    },
    "id": "IECTrNBzazPN",
    "outputId": "897d4a21-b3e8-413c-8cba-c5b822d20f47"
   },
   "outputs": [
    {
     "data": {
      "text/plain": [
       "10"
      ]
     },
     "execution_count": 121,
     "metadata": {},
     "output_type": "execute_result"
    }
   ],
   "source": [
    "solution([12, 4, 7, 9, 2, 23, 25, 41, 30, 40, 28, 42, 30, 44, 48, 43, 50], 7)"
   ]
  },
  {
   "cell_type": "markdown",
   "metadata": {
    "id": "vTnvqFl2nxa4"
   },
   "source": [
    "**51. Maximum and minimum of an array using minimum number of comparisons**"
   ]
  },
  {
   "cell_type": "code",
   "execution_count": 122,
   "metadata": {
    "id": "mGIrnn_Fb1HB"
   },
   "outputs": [],
   "source": [
    "def minmax(A):\n",
    "    if len(A)==1:\n",
    "        min,max = A[0],A[0]\n",
    "\n",
    "    max = float('-inf')\n",
    "    min = float('+inf')\n",
    "    for i in x:\n",
    "        if i > max:\n",
    "            max = i\n",
    "        elif i < min:\n",
    "            min = i\n",
    "    return [min,max]"
   ]
  },
  {
   "cell_type": "code",
   "execution_count": 123,
   "metadata": {
    "id": "0_N98xhUcp3B"
   },
   "outputs": [],
   "source": [
    "x = [2,5,0,6,8,-1,-5,10]"
   ]
  },
  {
   "cell_type": "code",
   "execution_count": 124,
   "metadata": {
    "colab": {
     "base_uri": "https://localhost:8080/"
    },
    "executionInfo": {
     "elapsed": 433,
     "status": "ok",
     "timestamp": 1625672314348,
     "user": {
      "displayName": "Aman Roland",
      "photoUrl": "https://lh3.googleusercontent.com/a-/AOh14GgVx_jS7yxiRP3I-pViq_GOAmsYtC7th9HKuzAydMc=s64",
      "userId": "18048666117095936338"
     },
     "user_tz": -330
    },
    "id": "GaOd7NPDdr2I",
    "outputId": "33df4092-4df0-4133-a085-2e5f7adc5b0e"
   },
   "outputs": [
    {
     "data": {
      "text/plain": [
       "[-5, 10]"
      ]
     },
     "execution_count": 124,
     "metadata": {},
     "output_type": "execute_result"
    }
   ],
   "source": [
    "minmax(x)"
   ]
  },
  {
   "cell_type": "code",
   "execution_count": null,
   "metadata": {
    "id": "jtTCoK8YpJ43"
   },
   "outputs": [],
   "source": []
  }
 ],
 "metadata": {
  "colab": {
   "collapsed_sections": [],
   "name": "Data Science Interview Preparation - Python.ipynb",
   "provenance": []
  },
  "kernelspec": {
   "display_name": "Python 3",
   "language": "python",
   "name": "python3"
  },
  "language_info": {
   "codemirror_mode": {
    "name": "ipython",
    "version": 3
   },
   "file_extension": ".py",
   "mimetype": "text/x-python",
   "name": "python",
   "nbconvert_exporter": "python",
   "pygments_lexer": "ipython3",
   "version": "3.8.3"
  }
 },
 "nbformat": 4,
 "nbformat_minor": 1
}
